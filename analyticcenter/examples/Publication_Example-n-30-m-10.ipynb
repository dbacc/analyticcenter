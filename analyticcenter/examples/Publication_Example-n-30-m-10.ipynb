{
 "cells": [
  {
   "cell_type": "markdown",
   "metadata": {},
   "source": [
    "This example file is intended to cover computations for the computations in the publication\n",
    "\n",
    " Bankmann, D.; Mehrmann, V.; Nesterov, Y.; van Dooren, P., Computation of the analytic center of the solution set of the linear matrix inequality arising in continuous- and discrete-time passivity analysis, 2019"
   ]
  },
  {
   "cell_type": "markdown",
   "metadata": {},
   "source": [
    "# Initialization"
   ]
  },
  {
   "cell_type": "code",
   "execution_count": 1,
   "metadata": {
    "scrolled": true
   },
   "outputs": [
    {
     "data": {
      "text/plain": [
       "'/home/daniel/Dropbox/privat/Uni/Berlin/Promotion/PassivityRadius/python/analyticcenter/__init__.py'"
      ]
     },
     "execution_count": 1,
     "metadata": {},
     "output_type": "execute_result"
    }
   ],
   "source": [
    "import logging\n",
    "import numpy as np\n",
    "from os.path import join, dirname\n",
    "from analyticcenter import WeightedSystem, get_algorithm_object\n",
    "from analyticcenter.visualize import log_log_direction, tabular_data\n",
    "from analyticcenter.examples.example4 import sys\n",
    "import numpy as np\n",
    "np.linalg.eigh(sys.A)[0]\n",
    "import analyticcenter\n",
    "analyticcenter.__file__"
   ]
  },
  {
   "cell_type": "markdown",
   "metadata": {},
   "source": [
    "# Computation of analytic center with the newton approach."
   ]
  },
  {
   "cell_type": "code",
   "execution_count": 2,
   "metadata": {
    "scrolled": true
   },
   "outputs": [
    {
     "name": "stdout",
     "output_type": "stream",
     "text": [
      "True\n",
      "\u001b[32m[INFO    ][analyticcenter.algorithm.riccatioperator] --- System is stable (riccatioperator.py:243)\u001b[0m\n",
      "\u001b[32m[INFO    ][analyticcenter.algorithm.riccatioperator] --- System is controllable. (riccatioperator.py:263)\u001b[0m\n",
      "\u001b[32m[INFO    ][analyticcenter.algorithm.riccatioperator] --- System is passive, if also stable (riccatioperator.py:280)\u001b[0m\n",
      "\u001b[32m[INFO    ][NewtonDirectionMultipleDimensionsCT] --- Computing Analytic Center with NewtonMDCT approach (direction.py:150)\u001b[0m\n",
      "\u001b[32m[INFO    ][InitialXCT] --- Computing initial X (initialization.py:57)\u001b[0m\n",
      "\u001b[32m[INFO    ][InitialXCT] --- Computed initial guess with geometric mean approach.\n",
      "det(H(X0)) = 277.1098932079061 (initialization.py:67)\u001b[0m\n",
      "\u001b[32m[INFO    ][InitialXCT] --- Computed initial guess with bisection approach.\n",
      "det(H(X0)) = 4.578080216053577e-159 (initialization.py:78)\u001b[0m\n",
      "\u001b[32m[INFO    ][InitialXCT] --- Taking solution computed with geometric mean approach (initialization.py:85)\u001b[0m\n",
      "\u001b[32m[INFO    ][NewtonDirectionMultipleDimensionsCT] --- Current step: 0\tResidual: 235.71930021086197\tDet: 277.1098964087458 (direction.py:68)\u001b[0m\n",
      "\u001b[32m[INFO    ][NewtonDirectionMultipleDimensionsCT] --- In linearly converging phase (newton.py:62)\u001b[0m\n",
      "\u001b[32m[INFO    ][NewtonDirectionMultipleDimensionsCT] --- Current step: 1\tResidual: 239.49666960633562\tDet: 387800547.5062585 (direction.py:68)\u001b[0m\n",
      "\u001b[32m[INFO    ][NewtonDirectionMultipleDimensionsCT] --- In linearly converging phase (newton.py:62)\u001b[0m\n",
      "\u001b[32m[INFO    ][NewtonDirectionMultipleDimensionsCT] --- Current step: 2\tResidual: 405.9908203331181\tDet: 48102654333874.76 (direction.py:68)\u001b[0m\n",
      "\u001b[32m[INFO    ][NewtonDirectionMultipleDimensionsCT] --- In linearly converging phase (newton.py:62)\u001b[0m\n",
      "\u001b[32m[INFO    ][NewtonDirectionMultipleDimensionsCT] --- Current step: 3\tResidual: 679.1268443609956\tDet: 7.428052253603101e+17 (direction.py:68)\u001b[0m\n",
      "\u001b[32m[INFO    ][NewtonDirectionMultipleDimensionsCT] --- In linearly converging phase (newton.py:62)\u001b[0m\n",
      "\u001b[32m[INFO    ][NewtonDirectionMultipleDimensionsCT] --- Current step: 4\tResidual: 1076.3182420239775\tDet: 1.939398936208646e+21 (direction.py:68)\u001b[0m\n",
      "\u001b[32m[INFO    ][NewtonDirectionMultipleDimensionsCT] --- In linearly converging phase (newton.py:62)\u001b[0m\n",
      "\u001b[32m[INFO    ][NewtonDirectionMultipleDimensionsCT] --- Current step: 5\tResidual: 1581.0594472402427\tDet: 1.0084415593342622e+24 (direction.py:68)\u001b[0m\n",
      "\u001b[32m[INFO    ][NewtonDirectionMultipleDimensionsCT] --- In linearly converging phase (newton.py:62)\u001b[0m\n",
      "\u001b[32m[INFO    ][NewtonDirectionMultipleDimensionsCT] --- Current step: 6\tResidual: 2167.9022599358564\tDet: 1.0575728993755565e+26 (direction.py:68)\u001b[0m\n",
      "\u001b[32m[INFO    ][NewtonDirectionMultipleDimensionsCT] --- In linearly converging phase (newton.py:62)\u001b[0m\n",
      "\u001b[32m[INFO    ][NewtonDirectionMultipleDimensionsCT] --- Current step: 7\tResidual: 2832.536945132987\tDet: 2.688231697489451e+27 (direction.py:68)\u001b[0m\n",
      "\u001b[32m[INFO    ][NewtonDirectionMultipleDimensionsCT] --- In linearly converging phase (newton.py:62)\u001b[0m\n",
      "\u001b[32m[INFO    ][NewtonDirectionMultipleDimensionsCT] --- Current step: 8\tResidual: 3408.823054648346\tDet: 2.342296637872919e+28 (direction.py:68)\u001b[0m\n",
      "\u001b[32m[INFO    ][NewtonDirectionMultipleDimensionsCT] --- In linearly converging phase (newton.py:62)\u001b[0m\n",
      "\u001b[32m[INFO    ][NewtonDirectionMultipleDimensionsCT] --- Current step: 9\tResidual: 3296.7632247458187\tDet: 8.633738647791093e+28 (direction.py:68)\u001b[0m\n",
      "\u001b[32m[INFO    ][NewtonDirectionMultipleDimensionsCT] --- In linearly converging phase (newton.py:62)\u001b[0m\n",
      "\u001b[32m[INFO    ][NewtonDirectionMultipleDimensionsCT] --- Current step: 10\tResidual: 2287.604262405946\tDet: 1.5302235571104876e+29 (direction.py:68)\u001b[0m\n",
      "\u001b[32m[INFO    ][NewtonDirectionMultipleDimensionsCT] --- In linearly converging phase (newton.py:62)\u001b[0m\n",
      "\u001b[32m[INFO    ][NewtonDirectionMultipleDimensionsCT] --- Current step: 11\tResidual: 851.1133503975215\tDet: 1.7570634044755894e+29 (direction.py:68)\u001b[0m\n",
      "\u001b[32m[INFO    ][NewtonDirectionMultipleDimensionsCT] --- In quadratically converging phase (newton.py:66)\u001b[0m\n",
      "\u001b[32m[INFO    ][NewtonDirectionMultipleDimensionsCT] --- Current step: 12\tResidual: 76.64643518192526\tDet: 1.7755014136756374e+29 (direction.py:68)\u001b[0m\n",
      "\u001b[32m[INFO    ][NewtonDirectionMultipleDimensionsCT] --- In quadratically converging phase (newton.py:66)\u001b[0m\n",
      "\u001b[32m[INFO    ][NewtonDirectionMultipleDimensionsCT] --- Current step: 13\tResidual: 0.47578412648606505\tDet: 1.775613692600572e+29 (direction.py:68)\u001b[0m\n",
      "\u001b[32m[INFO    ][NewtonDirectionMultipleDimensionsCT] --- In quadratically converging phase (newton.py:66)\u001b[0m\n",
      "\u001b[32m[INFO    ][NewtonDirectionMultipleDimensionsCT] --- Current step: 14\tResidual: 1.838142012434877e-05\tDet: 1.7756136922540728e+29 (direction.py:68)\u001b[0m\n",
      "\u001b[32m[INFO    ][NewtonDirectionMultipleDimensionsCT] --- In quadratically converging phase (newton.py:66)\u001b[0m\n",
      "\u001b[32m[INFO    ][NewtonDirectionMultipleDimensionsCT] --- Current step: 15\tResidual: 4.112469814742221e-10\tDet: 1.775613702637052e+29 (direction.py:68)\u001b[0m\n",
      "\u001b[32m[INFO    ][NewtonDirectionMultipleDimensionsCT] --- Computation of Analytic center with NewtonMDCT approach was successful (direction.py:153)\u001b[0m\n"
     ]
    }
   ],
   "source": [
    "print(__debug__)\n",
    "logger = logging.getLogger()\n",
    "\n",
    "alg_newton = get_algorithm_object(sys, 'newton', discrete_time=False, save_intermediate=True)\n",
    "(ac_newton, success) = alg_newton()"
   ]
  },
  {
   "cell_type": "code",
   "execution_count": 3,
   "metadata": {},
   "outputs": [
    {
     "name": "stdout",
     "output_type": "stream",
     "text": [
      "\u001b[32m[INFO    ][analyticcenter.algorithm.riccatioperator] --- System is stable (riccatioperator.py:243)\u001b[0m\n",
      "\u001b[32m[INFO    ][NewtonDirectionMultipleDimensionsDT] --- Computing Analytic Center with Newton approach (direction.py:150)\u001b[0m\n",
      "\u001b[32m[INFO    ][InitialXDT] --- Computing initial X (initialization.py:57)\u001b[0m\n",
      "\u001b[32m[INFO    ][InitialXDT] --- Computed initial guess with geometric mean approach.\n",
      "det(H(X0)) = 1.8809350476851345e-14 (initialization.py:67)\u001b[0m\n",
      "\u001b[32m[INFO    ][InitialXDT] --- Computed initial guess with bisection approach.\n",
      "det(H(X0)) = 6.850533243108757e-162 (initialization.py:78)\u001b[0m\n",
      "\u001b[32m[INFO    ][InitialXDT] --- Taking solution computed with geometric mean approach (initialization.py:85)\u001b[0m\n",
      "\u001b[32m[INFO    ][NewtonDirectionMultipleDimensionsDT] --- Current step: 0\tResidual: 5.477225574936818\tDet: 1.880935047679179e-14 (direction.py:68)\u001b[0m\n",
      "\u001b[32m[INFO    ][NewtonDirectionMultipleDimensionsDT] --- In linearly converging phase (newton.py:62)\u001b[0m\n",
      "\u001b[32m[INFO    ][NewtonDirectionMultipleDimensionsDT] --- Current step: 1\tResidual: 3.83584032253448\tDet: 1.0016920630589447e-07 (direction.py:68)\u001b[0m\n",
      "\u001b[32m[INFO    ][NewtonDirectionMultipleDimensionsDT] --- In linearly converging phase (newton.py:62)\u001b[0m\n",
      "\u001b[32m[INFO    ][NewtonDirectionMultipleDimensionsDT] --- Current step: 2\tResidual: 1.174113858902167\tDet: 0.05697292346854661 (direction.py:68)\u001b[0m\n",
      "\u001b[32m[INFO    ][NewtonDirectionMultipleDimensionsDT] --- In linearly converging phase (newton.py:62)\u001b[0m\n",
      "\u001b[32m[INFO    ][NewtonDirectionMultipleDimensionsDT] --- Current step: 3\tResidual: 0.5242991297478214\tDet: 3386.1068921088436 (direction.py:68)\u001b[0m\n",
      "\u001b[32m[INFO    ][NewtonDirectionMultipleDimensionsDT] --- In linearly converging phase (newton.py:62)\u001b[0m\n",
      "\u001b[32m[INFO    ][NewtonDirectionMultipleDimensionsDT] --- Current step: 4\tResidual: 0.23170753343163714\tDet: 27590428.450213738 (direction.py:68)\u001b[0m\n",
      "\u001b[32m[INFO    ][NewtonDirectionMultipleDimensionsDT] --- In linearly converging phase (newton.py:62)\u001b[0m\n",
      "\u001b[32m[INFO    ][NewtonDirectionMultipleDimensionsDT] --- Current step: 5\tResidual: 0.10493834022543942\tDet: 38318555848.58534 (direction.py:68)\u001b[0m\n",
      "\u001b[32m[INFO    ][NewtonDirectionMultipleDimensionsDT] --- In linearly converging phase (newton.py:62)\u001b[0m\n",
      "\u001b[32m[INFO    ][NewtonDirectionMultipleDimensionsDT] --- Current step: 6\tResidual: 0.04697487291668679\tDet: 9967021738718.92 (direction.py:68)\u001b[0m\n",
      "\u001b[32m[INFO    ][NewtonDirectionMultipleDimensionsDT] --- In linearly converging phase (newton.py:62)\u001b[0m\n",
      "\u001b[32m[INFO    ][NewtonDirectionMultipleDimensionsDT] --- Current step: 7\tResidual: 0.021798225745307712\tDet: 537438801949937.9 (direction.py:68)\u001b[0m\n",
      "\u001b[32m[INFO    ][NewtonDirectionMultipleDimensionsDT] --- In linearly converging phase (newton.py:62)\u001b[0m\n",
      "\u001b[32m[INFO    ][NewtonDirectionMultipleDimensionsDT] --- Current step: 8\tResidual: 0.011684714055217808\tDet: 8175537361320671.0 (direction.py:68)\u001b[0m\n",
      "\u001b[32m[INFO    ][NewtonDirectionMultipleDimensionsDT] --- In linearly converging phase (newton.py:62)\u001b[0m\n",
      "\u001b[32m[INFO    ][NewtonDirectionMultipleDimensionsDT] --- Current step: 9\tResidual: 0.006812101063805376\tDet: 4.715673499962596e+16 (direction.py:68)\u001b[0m\n",
      "\u001b[32m[INFO    ][NewtonDirectionMultipleDimensionsDT] --- In linearly converging phase (newton.py:62)\u001b[0m\n",
      "\u001b[32m[INFO    ][NewtonDirectionMultipleDimensionsDT] --- Current step: 10\tResidual: 0.005225196909302096\tDet: 1.197039226020364e+17 (direction.py:68)\u001b[0m\n",
      "\u001b[32m[INFO    ][NewtonDirectionMultipleDimensionsDT] --- In linearly converging phase (newton.py:62)\u001b[0m\n",
      "\u001b[32m[INFO    ][NewtonDirectionMultipleDimensionsDT] --- Current step: 11\tResidual: 0.002927833114950061\tDet: 1.6643812270002074e+17 (direction.py:68)\u001b[0m\n",
      "\u001b[32m[INFO    ][NewtonDirectionMultipleDimensionsDT] --- In quadratically converging phase (newton.py:66)\u001b[0m\n",
      "\u001b[32m[INFO    ][NewtonDirectionMultipleDimensionsDT] --- Current step: 12\tResidual: 0.0005908949930427668\tDet: 1.7690045575466784e+17 (direction.py:68)\u001b[0m\n",
      "\u001b[32m[INFO    ][NewtonDirectionMultipleDimensionsDT] --- In quadratically converging phase (newton.py:66)\u001b[0m\n",
      "\u001b[32m[INFO    ][NewtonDirectionMultipleDimensionsDT] --- Current step: 13\tResidual: 4.795954951724223e-06\tDet: 1.7755185568557056e+17 (direction.py:68)\u001b[0m\n",
      "\u001b[32m[INFO    ][NewtonDirectionMultipleDimensionsDT] --- In quadratically converging phase (newton.py:66)\u001b[0m\n",
      "\u001b[32m[INFO    ][NewtonDirectionMultipleDimensionsDT] --- Current step: 14\tResidual: 9.53570192694679e-07\tDet: 1.775554555053293e+17 (direction.py:68)\u001b[0m\n",
      "\u001b[32m[INFO    ][NewtonDirectionMultipleDimensionsDT] --- In quadratically converging phase (newton.py:66)\u001b[0m\n",
      "\u001b[32m[INFO    ][NewtonDirectionMultipleDimensionsDT] --- Current step: 15\tResidual: 9.623781248048064e-07\tDet: 1.7755545563449763e+17 (direction.py:68)\u001b[0m\n",
      "\u001b[32m[INFO    ][NewtonDirectionMultipleDimensionsDT] --- Computation of Analytic center with Newton approach was successful (direction.py:153)\u001b[0m\n"
     ]
    }
   ],
   "source": [
    "sys_disc = sys.bilinear_discretization()\n",
    "\n",
    "alg_newton_disc = get_algorithm_object(sys_disc, 'newton', discrete_time=True, save_intermediate=True)\n",
    "(ac_newton_disc, success) = alg_newton_disc()"
   ]
  },
  {
   "cell_type": "markdown",
   "metadata": {},
   "source": [
    "# Properties of solutions\n",
    "## Difference\n",
    "The solutions should be identical in theory. They differ a bit due to roundoff errors."
   ]
  },
  {
   "cell_type": "code",
   "execution_count": 5,
   "metadata": {},
   "outputs": [
    {
     "name": "stdout",
     "output_type": "stream",
     "text": [
      "scaled difference =  8.024650142304834e-08\n"
     ]
    }
   ],
   "source": [
    " print(\"scaled difference = \", np.linalg.norm((ac_newton.X - ac_newton_disc.X )/ac_newton.X)) \n"
   ]
  },
  {
   "cell_type": "markdown",
   "metadata": {},
   "source": [
    "## Centered realizations\n",
    "A centered realization with the analytic center solution `X` has the identity as interior point. However, also here, the geometric mean approach is superior"
   ]
  },
  {
   "cell_type": "code",
   "execution_count": 6,
   "metadata": {},
   "outputs": [
    {
     "name": "stdout",
     "output_type": "stream",
     "text": [
      "\u001b[32m[INFO    ][analyticcenter.algorithm.riccatioperator] --- System is stable (riccatioperator.py:243)\u001b[0m\n",
      "\u001b[32m[INFO    ][analyticcenter.algorithm.riccatioperator] --- System is controllable. (riccatioperator.py:263)\u001b[0m\n",
      "\u001b[32m[INFO    ][analyticcenter.algorithm.riccatioperator] --- System is passive, if also stable (riccatioperator.py:280)\u001b[0m\n",
      "\u001b[32m[INFO    ][NewtonDirectionMultipleDimensionsCT] --- Computing Analytic Center with NewtonMDCT approach (direction.py:150)\u001b[0m\n",
      "\u001b[32m[INFO    ][InitialXCT] --- Computing initial X (initialization.py:57)\u001b[0m\n",
      "\u001b[32m[INFO    ][InitialXCT] --- Computed initial guess with geometric mean approach.\n",
      "det(H(X0)) = 4.2194379594594075e-33 (initialization.py:67)\u001b[0m\n",
      "\u001b[32m[INFO    ][InitialXCT] --- Computed initial guess with bisection approach.\n",
      "det(H(X0)) = 6.972049864850732e-194 (initialization.py:78)\u001b[0m\n",
      "\u001b[32m[INFO    ][InitialXCT] --- Taking solution computed with geometric mean approach (initialization.py:85)\u001b[0m\n",
      "\u001b[32m[INFO    ][NewtonDirectionMultipleDimensionsCT] --- Current step: 0\tResidual: 145.63641198187932\tDet: 4.219437960137756e-33 (direction.py:68)\u001b[0m\n",
      "\u001b[32m[INFO    ][NewtonDirectionMultipleDimensionsCT] --- In linearly converging phase (newton.py:62)\u001b[0m\n",
      "\u001b[32m[INFO    ][NewtonDirectionMultipleDimensionsCT] --- Current step: 1\tResidual: 38.25561653648627\tDet: 5.904878796439934e-27 (direction.py:68)\u001b[0m\n",
      "\u001b[32m[INFO    ][NewtonDirectionMultipleDimensionsCT] --- In linearly converging phase (newton.py:62)\u001b[0m\n",
      "\u001b[32m[INFO    ][NewtonDirectionMultipleDimensionsCT] --- Current step: 2\tResidual: 29.28313538016901\tDet: 7.324392539055011e-22 (direction.py:68)\u001b[0m\n",
      "\u001b[32m[INFO    ][NewtonDirectionMultipleDimensionsCT] --- In linearly converging phase (newton.py:62)\u001b[0m\n",
      "\u001b[32m[INFO    ][NewtonDirectionMultipleDimensionsCT] --- Current step: 3\tResidual: 22.115906989612725\tDet: 1.1310388428079366e-17 (direction.py:68)\u001b[0m\n",
      "\u001b[32m[INFO    ][NewtonDirectionMultipleDimensionsCT] --- In linearly converging phase (newton.py:62)\u001b[0m\n",
      "\u001b[32m[INFO    ][NewtonDirectionMultipleDimensionsCT] --- Current step: 4\tResidual: 22.079130166116627\tDet: 2.9530426745147466e-14 (direction.py:68)\u001b[0m\n",
      "\u001b[32m[INFO    ][NewtonDirectionMultipleDimensionsCT] --- In linearly converging phase (newton.py:62)\u001b[0m\n",
      "\u001b[32m[INFO    ][NewtonDirectionMultipleDimensionsCT] --- Current step: 5\tResidual: 19.974966388573453\tDet: 1.5355123199786363e-11 (direction.py:68)\u001b[0m\n",
      "\u001b[32m[INFO    ][NewtonDirectionMultipleDimensionsCT] --- In linearly converging phase (newton.py:62)\u001b[0m\n",
      "\u001b[32m[INFO    ][NewtonDirectionMultipleDimensionsCT] --- Current step: 6\tResidual: 15.264068496424175\tDet: 1.6103225817353606e-09 (direction.py:68)\u001b[0m\n",
      "\u001b[32m[INFO    ][NewtonDirectionMultipleDimensionsCT] --- In linearly converging phase (newton.py:62)\u001b[0m\n",
      "\u001b[32m[INFO    ][NewtonDirectionMultipleDimensionsCT] --- Current step: 7\tResidual: 11.143303639582177\tDet: 4.0932593987387596e-08 (direction.py:68)\u001b[0m\n",
      "\u001b[32m[INFO    ][NewtonDirectionMultipleDimensionsCT] --- In linearly converging phase (newton.py:62)\u001b[0m\n",
      "\u001b[32m[INFO    ][NewtonDirectionMultipleDimensionsCT] --- Current step: 8\tResidual: 9.1574452594905\tDet: 3.5665183702542973e-07 (direction.py:68)\u001b[0m\n",
      "\u001b[32m[INFO    ][NewtonDirectionMultipleDimensionsCT] --- In linearly converging phase (newton.py:62)\u001b[0m\n",
      "\u001b[32m[INFO    ][NewtonDirectionMultipleDimensionsCT] --- Current step: 9\tResidual: 7.718576563825688\tDet: 1.3146237338776681e-06 (direction.py:68)\u001b[0m\n",
      "\u001b[32m[INFO    ][NewtonDirectionMultipleDimensionsCT] --- In linearly converging phase (newton.py:62)\u001b[0m\n",
      "\u001b[32m[INFO    ][NewtonDirectionMultipleDimensionsCT] --- Current step: 10\tResidual: 4.96311125502932\tDet: 2.3300082342687917e-06 (direction.py:68)\u001b[0m\n",
      "\u001b[32m[INFO    ][NewtonDirectionMultipleDimensionsCT] --- In linearly converging phase (newton.py:62)\u001b[0m\n",
      "\u001b[32m[INFO    ][NewtonDirectionMultipleDimensionsCT] --- Current step: 11\tResidual: 1.5429296067826461\tDet: 2.6754078838940536e-06 (direction.py:68)\u001b[0m\n",
      "\u001b[32m[INFO    ][NewtonDirectionMultipleDimensionsCT] --- In quadratically converging phase (newton.py:66)\u001b[0m\n",
      "\u001b[32m[INFO    ][NewtonDirectionMultipleDimensionsCT] --- Current step: 12\tResidual: 0.13195055329860567\tDet: 2.7034827016835673e-06 (direction.py:68)\u001b[0m\n",
      "\u001b[32m[INFO    ][NewtonDirectionMultipleDimensionsCT] --- In quadratically converging phase (newton.py:66)\u001b[0m\n",
      "\u001b[32m[INFO    ][NewtonDirectionMultipleDimensionsCT] --- Current step: 13\tResidual: 0.0008762636625020286\tDet: 2.7036536559480808e-06 (direction.py:68)\u001b[0m\n",
      "\u001b[32m[INFO    ][NewtonDirectionMultipleDimensionsCT] --- In quadratically converging phase (newton.py:66)\u001b[0m\n",
      "\u001b[32m[INFO    ][NewtonDirectionMultipleDimensionsCT] --- Current step: 14\tResidual: 3.600460848639888e-08\tDet: 2.703653662592401e-06 (direction.py:68)\u001b[0m\n",
      "\u001b[32m[INFO    ][NewtonDirectionMultipleDimensionsCT] --- In quadratically converging phase (newton.py:66)\u001b[0m\n",
      "\u001b[32m[INFO    ][NewtonDirectionMultipleDimensionsCT] --- Current step: 15\tResidual: 5.821236167818988e-13\tDet: 2.7036536621403986e-06 (direction.py:68)\u001b[0m\n",
      "\u001b[32m[INFO    ][NewtonDirectionMultipleDimensionsCT] --- Computation of Analytic center with NewtonMDCT approach was successful (direction.py:153)\u001b[0m\n",
      "Eigenvalues of analytic center:\n",
      " [1. 1. 1. 1. 1. 1. 1. 1. 1. 1. 1. 1. 1. 1. 1. 1. 1. 1. 1. 1. 1. 1. 1. 1. 1. 1. 1. 1. 1. 1.]\n"
     ]
    }
   ],
   "source": [
    "centered_realization = ac_newton.centered_realization()\n",
    "alg_newton_centered = get_algorithm_object(centered_realization, 'newton', discrete_time=False, save_intermediate=True)\n",
    "(ac_newton_centered, success) = alg_newton_centered()\n",
    "print(\"Eigenvalues of analytic center:\\n\",np.linalg.eigh(ac_newton_centered.X)[0])"
   ]
  },
  {
   "cell_type": "markdown",
   "metadata": {},
   "source": [
    "## Final closed-loop matrix\n",
    "We recover the properties, that every eigenvalue of the continuous-time closed-loop matrix lies on the imaginary axis, while all eigenvalues in the discrete-time case lie inside the unit circle."
   ]
  },
  {
   "cell_type": "code",
   "execution_count": 7,
   "metadata": {},
   "outputs": [
    {
     "name": "stdout",
     "output_type": "stream",
     "text": [
      "maximal abs value of real parts of eigenvalues:\n",
      " 5.824923334472876e-13\n",
      "absolute values of evs of discrete closed-loop matrix:\n",
      " [0.99785611 0.99990452 0.97062008 0.97062008 0.94685901 0.8472432  0.8472432  0.71461054 0.67679616 0.60810103 0.4405096  0.4405096  0.31937987 0.26402578 0.09654606 0.05258612 0.98512968 0.19613111\n",
      " 0.26210781 0.82565883 0.72720662 0.72720662 0.73608902 0.60662519 0.60662519 0.43861105 0.60665525 0.52712241 0.52712241 0.54261952]\n"
     ]
    }
   ],
   "source": [
    "eigs = np.linalg.eig(ac_newton.A_F)[0]\n",
    "print(\"maximal abs value of real parts of eigenvalues:\\n\", np.max(np.abs(np.real(eigs))))\n",
    "eigs_disc = np.linalg.eig(ac_newton_disc.A_F)[0]\n",
    "print(\"absolute values of evs of discrete closed-loop matrix:\\n\", np.abs(eigs_disc))"
   ]
  },
  {
   "cell_type": "markdown",
   "metadata": {},
   "source": [
    "# Computation of characteristic values"
   ]
  },
  {
   "cell_type": "markdown",
   "metadata": {},
   "source": [
    "Compute the characterisic values, as in the paper 'Beattie, Mehrmann, van Dooren'.\n",
    "Note, that the values compared to the paper slightly changed, because of some improvements in the alogorithm and thus slightly different value for the analytic center."
   ]
  },
  {
   "cell_type": "code",
   "execution_count": 8,
   "metadata": {},
   "outputs": [
    {
     "name": "stdout",
     "output_type": "stream",
     "text": [
      "\u001b[32m[INFO    ][analyticcenter.algorithm.analyticcenter] --- Minimal eigenvalue of H(X): 5.9813938071795614e-05 (analyticcenter.py:37)\u001b[0m\n",
      "\u001b[32m[INFO    ][analyticcenter.algorithm.analyticcenter] --- Minimal eigenvalue of X-1 * H(X) * X^-1: 5.966939587778752e-05 (analyticcenter.py:47)\u001b[0m\n",
      "\u001b[32m[INFO    ][analyticcenter.algorithm.analyticcenter] --- Minimal eigenvalues of X^-.5 * H(X) * X^-.5: 5.9741714939377634e-05 (analyticcenter.py:57)\u001b[0m\n",
      "\u001b[32m[INFO    ][analyticcenter.algorithm.analyticcenter] --- Minimal eigenvalues of R of the pH realization: 0.046793216441403794 (analyticcenter.py:66)\u001b[0m\n",
      "\u001b[32m[INFO    ][analyticcenter.algorithm.analyticcenter] --- Distance to stability is: (0.042811888792022704, 0.0) (analyticcenter.py:68)\u001b[0m\n"
     ]
    }
   ],
   "source": [
    "ac_newton.compute_characteristic_values()"
   ]
  },
  {
   "cell_type": "markdown",
   "metadata": {},
   "source": [
    "# Generate plot of the algorithm"
   ]
  },
  {
   "cell_type": "code",
   "execution_count": 9,
   "metadata": {},
   "outputs": [
    {
     "data": {
      "image/png": "[encoded data removed]",
      "text/plain": [
       "<Figure size 432x288 with 1 Axes>"
      ]
     },
     "metadata": {
      "needs_background": "light"
     },
     "output_type": "display_data"
    },
    {
     "data": {
      "image/png": "[encoded data removed]",
      "text/plain": [
       "<Figure size 432x288 with 1 Axes>"
      ]
     },
     "metadata": {
      "needs_background": "light"
     },
     "output_type": "display_data"
    }
   ],
   "source": [
    "log_log_direction(alg_newton.intermediate_X, alg_newton.intermediate_det)"
   ]
  },
  {
   "cell_type": "markdown",
   "metadata": {},
   "source": [
    "# Computation with steepest ascent approach"
   ]
  },
  {
   "cell_type": "markdown",
   "metadata": {},
   "source": [
    "*Warning*: This needs some time and does not even succeed in 10000 iterations, even though the determinant increases in every step."
   ]
  },
  {
   "cell_type": "code",
   "execution_count": 10,
   "metadata": {},
   "outputs": [
    {
     "name": "stdout",
     "output_type": "stream",
     "text": [
      "\u001b[32m[INFO    ][analyticcenter.algorithm.riccatioperator] --- System is stable (riccatioperator.py:243)\u001b[0m\n",
      "\u001b[32m[INFO    ][analyticcenter.algorithm.riccatioperator] --- System is controllable. (riccatioperator.py:263)\u001b[0m\n",
      "\u001b[32m[INFO    ][analyticcenter.algorithm.riccatioperator] --- System is passive, if also stable (riccatioperator.py:280)\u001b[0m\n",
      "\u001b[32m[INFO    ][SteepestAscentDirectionCT] --- Computing Analytic Center with Steepest Ascent approach (direction.py:150)\u001b[0m\n",
      "\u001b[32m[INFO    ][SteepestAscentDirectionCT] --- Current step: 0\tResidual: 3408.823054648346\tDet: 2.342296637872919e+28 (direction.py:68)\u001b[0m\n",
      "\u001b[32m[INFO    ][SteepestAscentDirectionCT] --- stepsize chosen by line_search: 2.0451098658105843e-07 (steepestascent.py:37)\u001b[0m\n",
      "\u001b[32m[INFO    ][SteepestAscentDirectionCT] --- Current step: 1\tResidual: 3408.8230459735782\tDet: 2.3422966418243186e+28 (direction.py:68)\u001b[0m\n",
      "\u001b[32m[INFO    ][SteepestAscentDirectionCT] --- stepsize chosen by line_search: 5.2861823170233837e-08 (steepestascent.py:37)\u001b[0m\n",
      "\u001b[32m[INFO    ][SteepestAscentDirectionCT] --- Current step: 2\tResidual: 3408.8230451126256\tDet: 2.342296647679588e+28 (direction.py:68)\u001b[0m\n",
      "\u001b[32m[INFO    ][SteepestAscentDirectionCT] --- stepsize chosen by line_search: 1.9786161631178013e-07 (steepestascent.py:37)\u001b[0m\n",
      "\u001b[32m[INFO    ][SteepestAscentDirectionCT] --- Current step: 3\tResidual: 3408.8230351532916\tDet: 2.342296651278613e+28 (direction.py:68)\u001b[0m\n",
      "\u001b[32m[INFO    ][SteepestAscentDirectionCT] --- stepsize chosen by line_search: 5.215703689839115e-08 (steepestascent.py:37)\u001b[0m\n",
      "\u001b[32m[INFO    ][SteepestAscentDirectionCT] --- Current step: 4\tResidual: 3408.823034257052\tDet: 2.342296654862191e+28 (direction.py:68)\u001b[0m\n",
      "\u001b[32m[INFO    ][SteepestAscentDirectionCT] --- stepsize chosen by line_search: 1.9608064847638146e-07 (steepestascent.py:37)\u001b[0m\n",
      "\u001b[32m[INFO    ][SteepestAscentDirectionCT] --- Current step: 5\tResidual: 3408.8230237689663\tDet: 2.3422966551309826e+28 (direction.py:68)\u001b[0m\n",
      "\u001b[32m[INFO    ][SteepestAscentDirectionCT] --- stepsize chosen by line_search: 5.1808069186769715e-08 (steepestascent.py:37)\u001b[0m\n",
      "\u001b[32m[INFO    ][SteepestAscentDirectionCT] --- Current step: 6\tResidual: 3408.8230228580956\tDet: 2.342296660431116e+28 (direction.py:68)\u001b[0m\n",
      "\u001b[32m[INFO    ][SteepestAscentDirectionCT] --- stepsize chosen by line_search: 1.9499845439459818e-07 (steepestascent.py:37)\u001b[0m\n",
      "\u001b[32m[INFO    ][SteepestAscentDirectionCT] --- Current step: 7\tResidual: 3408.823012149098\tDet: 2.3422966611436897e+28 (direction.py:68)\u001b[0m\n",
      "\u001b[32m[INFO    ][SteepestAscentDirectionCT] --- stepsize chosen by line_search: 5.155080637317902e-08 (steepestascent.py:37)\u001b[0m\n",
      "\u001b[32m[INFO    ][SteepestAscentDirectionCT] --- Current step: 8\tResidual: 3408.8230112317765\tDet: 2.3422966593059387e+28 (direction.py:68)\u001b[0m\n",
      "\u001b[32m[INFO    ][SteepestAscentDirectionCT] --- stepsize chosen by line_search: 1.9414372554667255e-07 (steepestascent.py:37)\u001b[0m\n",
      "\u001b[32m[INFO    ][SteepestAscentDirectionCT] --- Current step: 9\tResidual: 3408.82300041925\tDet: 2.342296660013035e+28 (direction.py:68)\u001b[0m\n",
      "\u001b[32m[INFO    ][SteepestAscentDirectionCT] --- stepsize chosen by line_search: 5.133807840366252e-08 (steepestascent.py:37)\u001b[0m\n",
      "\u001b[32m[INFO    ][SteepestAscentDirectionCT] --- Current step: 10\tResidual: 3408.8229994984736\tDet: 2.342296668591069e+28 (direction.py:68)\u001b[0m\n",
      "\u001b[32m[INFO    ][SteepestAscentDirectionCT] --- stepsize chosen by line_search: 1.9341994264393556e-07 (steepestascent.py:37)\u001b[0m\n",
      "\u001b[32m[INFO    ][SteepestAscentDirectionCT] --- Current step: 11\tResidual: 3408.822988626368\tDet: 2.342296671307524e+28 (direction.py:68)\u001b[0m\n",
      "\u001b[32m[INFO    ][SteepestAscentDirectionCT] --- stepsize chosen by line_search: 5.1155537169185725e-08 (steepestascent.py:37)\u001b[0m\n",
      "\u001b[32m[INFO    ][SteepestAscentDirectionCT] --- Current step: 12\tResidual: 3408.8229877032104\tDet: 2.3422966753485645e+28 (direction.py:68)\u001b[0m\n",
      "\u001b[32m[INFO    ][SteepestAscentDirectionCT] --- stepsize chosen by line_search: 1.9279172423176227e-07 (steepestascent.py:37)\u001b[0m\n",
      "\u001b[32m[INFO    ][SteepestAscentDirectionCT] --- Current step: 13\tResidual: 3408.822976787763\tDet: 2.3422966794559714e+28 (direction.py:68)\u001b[0m\n",
      "\u001b[32m[INFO    ][SteepestAscentDirectionCT] --- stepsize chosen by line_search: 5.0995800035900484e-08 (steepestascent.py:37)\u001b[0m\n",
      "\u001b[32m[INFO    ][SteepestAscentDirectionCT] --- Current step: 14\tResidual: 3408.8229758625876\tDet: 2.3422966760868734e+28 (direction.py:68)\u001b[0m\n",
      "\u001b[32m[INFO    ][SteepestAscentDirectionCT] --- stepsize chosen by line_search: 1.9223388586420962e-07 (steepestascent.py:37)\u001b[0m\n",
      "\u001b[32m[INFO    ][SteepestAscentDirectionCT] --- Current step: 15\tResidual: 3408.8229649098985\tDet: 2.342296675493146e+28 (direction.py:68)\u001b[0m\n",
      "\u001b[32m[INFO    ][SteepestAscentDirectionCT] --- stepsize chosen by line_search: 5.0853282636422284e-08 (steepestascent.py:37)\u001b[0m\n",
      "\u001b[32m[INFO    ][SteepestAscentDirectionCT] --- Current step: 16\tResidual: 3408.8229639827673\tDet: 2.3422966830974835e+28 (direction.py:68)\u001b[0m\n",
      "\u001b[32m[INFO    ][SteepestAscentDirectionCT] --- stepsize chosen by line_search: 1.9173239972960396e-07 (steepestascent.py:37)\u001b[0m\n",
      "\u001b[32m[INFO    ][SteepestAscentDirectionCT] --- Current step: 17\tResidual: 3408.8229529950377\tDet: 2.3422966832451066e+28 (direction.py:68)\u001b[0m\n",
      "\u001b[32m[INFO    ][SteepestAscentDirectionCT] --- stepsize chosen by line_search: 5.0724473853284064e-08 (steepestascent.py:37)\u001b[0m\n",
      "\u001b[32m[INFO    ][SteepestAscentDirectionCT] --- Current step: 18\tResidual: 3408.8229520659634\tDet: 2.3422966889791706e+28 (direction.py:68)\u001b[0m\n",
      "\u001b[32m[INFO    ][SteepestAscentDirectionCT] --- stepsize chosen by line_search: 1.912727136664665e-07 (steepestascent.py:37)\u001b[0m\n",
      "\u001b[32m[INFO    ][SteepestAscentDirectionCT] --- Current step: 19\tResidual: 3408.8229410441563\tDet: 2.34229669099936e+28 (direction.py:68)\u001b[0m\n",
      "\u001b[32m[INFO    ][SteepestAscentDirectionCT] --- stepsize chosen by line_search: 5.060616822337944e-08 (steepestascent.py:37)\u001b[0m\n",
      "\u001b[32m[INFO    ][SteepestAscentDirectionCT] --- Current step: 20\tResidual: 3408.8229401131325\tDet: 2.342296695877716e+28 (direction.py:68)\u001b[0m\n",
      "\u001b[32m[INFO    ][SteepestAscentDirectionCT] --- stepsize chosen by line_search: 1.9084962785738765e-07 (steepestascent.py:37)\u001b[0m\n",
      "\u001b[32m[INFO    ][SteepestAscentDirectionCT] --- Current step: 21\tResidual: 3408.822929057577\tDet: 2.3422966912525103e+28 (direction.py:68)\u001b[0m\n",
      "\u001b[32m[INFO    ][SteepestAscentDirectionCT] --- stepsize chosen by line_search: 5.049674871682925e-08 (steepestascent.py:37)\u001b[0m\n",
      "\u001b[32m[INFO    ][SteepestAscentDirectionCT] --- Current step: 22\tResidual: 3408.822928124585\tDet: 2.3422966973785097e+28 (direction.py:68)\u001b[0m\n",
      "\u001b[32m[INFO    ][SteepestAscentDirectionCT] --- stepsize chosen by line_search: 1.9045455853915966e-07 (steepestascent.py:37)\u001b[0m\n",
      "\u001b[32m[INFO    ][SteepestAscentDirectionCT] --- Current step: 23\tResidual: 3408.822917035578\tDet: 2.342296697073549e+28 (direction.py:68)\u001b[0m\n",
      "\u001b[32m[INFO    ][SteepestAscentDirectionCT] --- stepsize chosen by line_search: 5.039433505656719e-08 (steepestascent.py:37)\u001b[0m\n",
      "\u001b[32m[INFO    ][SteepestAscentDirectionCT] --- Current step: 24\tResidual: 3408.8229161006043\tDet: 2.342296700067866e+28 (direction.py:68)\u001b[0m\n",
      "\u001b[32m[INFO    ][SteepestAscentDirectionCT] --- stepsize chosen by line_search: 1.9008382871493335e-07 (steepestascent.py:37)\u001b[0m\n",
      "\u001b[32m[INFO    ][SteepestAscentDirectionCT] --- Current step: 25\tResidual: 3408.822904978387\tDet: 2.3422967002356074e+28 (direction.py:68)\u001b[0m\n",
      "\u001b[32m[INFO    ][SteepestAscentDirectionCT] --- stepsize chosen by line_search: 5.029791526208315e-08 (steepestascent.py:37)\u001b[0m\n",
      "\u001b[32m[INFO    ][SteepestAscentDirectionCT] --- Current step: 26\tResidual: 3408.8229040414158\tDet: 2.342296705901539e+28 (direction.py:68)\u001b[0m\n",
      "\u001b[32m[INFO    ][SteepestAscentDirectionCT] --- stepsize chosen by line_search: 1.8973300224915353e-07 (steepestascent.py:37)\u001b[0m\n",
      "\u001b[32m[INFO    ][SteepestAscentDirectionCT] --- Current step: 27\tResidual: 3408.822892886231\tDet: 2.3422967083717357e+28 (direction.py:68)\u001b[0m\n",
      "\u001b[32m[INFO    ][SteepestAscentDirectionCT] --- stepsize chosen by line_search: 5.020649495847866e-08 (steepestascent.py:37)\u001b[0m\n",
      "\u001b[32m[INFO    ][SteepestAscentDirectionCT] --- Current step: 28\tResidual: 3408.8228919473\tDet: 2.342296708187015e+28 (direction.py:68)\u001b[0m\n",
      "\u001b[32m[INFO    ][SteepestAscentDirectionCT] --- stepsize chosen by line_search: 1.8939848605872977e-07 (steepestascent.py:37)\u001b[0m\n"
     ]
    },
    {
     "name": "stdout",
     "output_type": "stream",
     "text": [
      "\u001b[32m[INFO    ][SteepestAscentDirectionCT] --- Current step: 29\tResidual: 3408.822880759495\tDet: 2.342296712203696e+28 (direction.py:68)\u001b[0m\n",
      "\u001b[32m[INFO    ][SteepestAscentDirectionCT] --- stepsize chosen by line_search: 5.0119286293605355e-08 (steepestascent.py:37)\u001b[0m\n",
      "\u001b[32m[INFO    ][SteepestAscentDirectionCT] --- Current step: 30\tResidual: 3408.822879818583\tDet: 2.342296713759891e+28 (direction.py:68)\u001b[0m\n",
      "\u001b[32m[INFO    ][SteepestAscentDirectionCT] --- stepsize chosen by line_search: 1.8907773607274916e-07 (steepestascent.py:37)\u001b[0m\n",
      "\u001b[32m[INFO    ][SteepestAscentDirectionCT] --- Current step: 31\tResidual: 3408.82286859857\tDet: 2.342296714931021e+28 (direction.py:68)\u001b[0m\n",
      "\u001b[32m[INFO    ][SteepestAscentDirectionCT] --- stepsize chosen by line_search: 5.0035653855883876e-08 (steepestascent.py:37)\u001b[0m\n",
      "\u001b[32m[INFO    ][SteepestAscentDirectionCT] --- Current step: 32\tResidual: 3408.822867655681\tDet: 2.3422967194918255e+28 (direction.py:68)\u001b[0m\n",
      "\u001b[32m[INFO    ][SteepestAscentDirectionCT] --- stepsize chosen by line_search: 1.8877138656866466e-07 (steepestascent.py:37)\u001b[0m\n",
      "\u001b[32m[INFO    ][SteepestAscentDirectionCT] --- Current step: 33\tResidual: 3408.8228564037413\tDet: 2.342296728230959e+28 (direction.py:68)\u001b[0m\n",
      "\u001b[32m[INFO    ][SteepestAscentDirectionCT] --- stepsize chosen by line_search: 4.995551338748255e-08 (steepestascent.py:37)\u001b[0m\n",
      "\u001b[32m[INFO    ][SteepestAscentDirectionCT] --- Current step: 34\tResidual: 3408.822855458929\tDet: 2.342296721339244e+28 (direction.py:68)\u001b[0m\n",
      "\u001b[32m[INFO    ][SteepestAscentDirectionCT] --- stepsize chosen by line_search: 1.8847513337419716e-07 (steepestascent.py:37)\u001b[0m\n",
      "\u001b[32m[INFO    ][SteepestAscentDirectionCT] --- Current step: 35\tResidual: 3408.8228441755386\tDet: 2.3422967261597593e+28 (direction.py:68)\u001b[0m\n",
      "\u001b[32m[INFO    ][SteepestAscentDirectionCT] --- stepsize chosen by line_search: 4.987811924172857e-08 (steepestascent.py:37)\u001b[0m\n",
      "\u001b[32m[INFO    ][SteepestAscentDirectionCT] --- Current step: 36\tResidual: 3408.8228432287915\tDet: 2.3422967302077076e+28 (direction.py:68)\u001b[0m\n",
      "\u001b[32m[INFO    ][SteepestAscentDirectionCT] --- stepsize chosen by line_search: 1.8819058824379078e-07 (steepestascent.py:37)\u001b[0m\n",
      "\u001b[32m[INFO    ][SteepestAscentDirectionCT] --- Current step: 37\tResidual: 3408.8228319142863\tDet: 2.3422967297453757e+28 (direction.py:68)\u001b[0m\n",
      "\u001b[32m[INFO    ][SteepestAscentDirectionCT] --- stepsize chosen by line_search: 4.980357195893969e-08 (steepestascent.py:37)\u001b[0m\n",
      "\u001b[32m[INFO    ][SteepestAscentDirectionCT] --- Current step: 38\tResidual: 3408.822830965617\tDet: 2.34229673443591e+28 (direction.py:68)\u001b[0m\n",
      "\u001b[32m[INFO    ][SteepestAscentDirectionCT] --- stepsize chosen by line_search: 1.8791394639221997e-07 (steepestascent.py:37)\u001b[0m\n",
      "\u001b[32m[INFO    ][SteepestAscentDirectionCT] --- Current step: 39\tResidual: 3408.822819620521\tDet: 2.3422967355400857e+28 (direction.py:68)\u001b[0m\n",
      "\u001b[32m[INFO    ][SteepestAscentDirectionCT] --- stepsize chosen by line_search: 4.97312278728993e-08 (steepestascent.py:37)\u001b[0m\n",
      "\u001b[32m[INFO    ][SteepestAscentDirectionCT] --- Current step: 40\tResidual: 3408.822818669964\tDet: 2.342296730345574e+28 (direction.py:68)\u001b[0m\n",
      "\u001b[32m[INFO    ][SteepestAscentDirectionCT] --- stepsize chosen by line_search: 1.8764652417045022e-07 (steepestascent.py:37)\u001b[0m\n",
      "\u001b[32m[INFO    ][SteepestAscentDirectionCT] --- Current step: 41\tResidual: 3408.822807294656\tDet: 2.342296744172878e+28 (direction.py:68)\u001b[0m\n",
      "\u001b[32m[INFO    ][SteepestAscentDirectionCT] --- stepsize chosen by line_search: 4.9661188379827974e-08 (steepestascent.py:37)\u001b[0m\n",
      "\u001b[32m[INFO    ][SteepestAscentDirectionCT] --- Current step: 42\tResidual: 3408.822806342239\tDet: 2.3422967458214333e+28 (direction.py:68)\u001b[0m\n",
      "\u001b[32m[INFO    ][SteepestAscentDirectionCT] --- stepsize chosen by line_search: 1.8738756249072572e-07 (steepestascent.py:37)\u001b[0m\n",
      "\u001b[32m[INFO    ][SteepestAscentDirectionCT] --- Current step: 43\tResidual: 3408.822794937116\tDet: 2.3422967443112946e+28 (direction.py:68)\u001b[0m\n",
      "\u001b[32m[INFO    ][SteepestAscentDirectionCT] --- stepsize chosen by line_search: 4.9593278929458136e-08 (steepestascent.py:37)\u001b[0m\n",
      "\u001b[32m[INFO    ][SteepestAscentDirectionCT] --- Current step: 44\tResidual: 3408.822793982868\tDet: 2.342296747486562e+28 (direction.py:68)\u001b[0m\n",
      "\u001b[32m[INFO    ][SteepestAscentDirectionCT] --- stepsize chosen by line_search: 1.871356768173476e-07 (steepestascent.py:37)\u001b[0m\n",
      "\u001b[32m[INFO    ][SteepestAscentDirectionCT] --- Current step: 45\tResidual: 3408.8227825484287\tDet: 2.3422967485413186e+28 (direction.py:68)\u001b[0m\n",
      "\u001b[32m[INFO    ][SteepestAscentDirectionCT] --- stepsize chosen by line_search: 4.952722305656511e-08 (steepestascent.py:37)\u001b[0m\n",
      "\u001b[32m[INFO    ][SteepestAscentDirectionCT] --- Current step: 46\tResidual: 3408.8227815923524\tDet: 2.342296755051222e+28 (direction.py:68)\u001b[0m\n",
      "\u001b[32m[INFO    ][SteepestAscentDirectionCT] --- stepsize chosen by line_search: 1.8689314828709278e-07 (steepestascent.py:37)\u001b[0m\n",
      "\u001b[32m[INFO    ][SteepestAscentDirectionCT] --- Current step: 47\tResidual: 3408.822770128871\tDet: 2.342296751949966e+28 (direction.py:68)\u001b[0m\n",
      "\u001b[32m[INFO    ][SteepestAscentDirectionCT] --- stepsize chosen by line_search: 4.946330212690198e-08 (steepestascent.py:37)\u001b[0m\n",
      "\u001b[32m[INFO    ][SteepestAscentDirectionCT] --- Current step: 48\tResidual: 3408.822769171013\tDet: 2.3422967572588937e+28 (direction.py:68)\u001b[0m\n",
      "\u001b[32m[INFO    ][SteepestAscentDirectionCT] --- stepsize chosen by line_search: 1.8665454830300367e-07 (steepestascent.py:37)\u001b[0m\n",
      "\u001b[32m[INFO    ][SteepestAscentDirectionCT] --- Current step: 49\tResidual: 3408.8227576791046\tDet: 2.3422967600898793e+28 (direction.py:68)\u001b[0m\n",
      "\u001b[32m[INFO    ][SteepestAscentDirectionCT] --- stepsize chosen by line_search: 4.9400733477410604e-08 (steepestascent.py:37)\u001b[0m\n",
      "\u001b[32m[INFO    ][SteepestAscentDirectionCT] --- Current step: 50\tResidual: 3408.8227567194695\tDet: 2.342296758151463e+28 (direction.py:68)\u001b[0m\n",
      "\u001b[32m[INFO    ][SteepestAscentDirectionCT] --- stepsize chosen by line_search: 1.8642247939923367e-07 (steepestascent.py:37)\u001b[0m\n",
      "\u001b[32m[INFO    ][SteepestAscentDirectionCT] --- Current step: 51\tResidual: 3408.822745199545\tDet: 2.3422967609550854e+28 (direction.py:68)\u001b[0m\n",
      "\u001b[32m[INFO    ][SteepestAscentDirectionCT] --- stepsize chosen by line_search: 4.9339836778877484e-08 (steepestascent.py:37)\u001b[0m\n",
      "\u001b[32m[INFO    ][SteepestAscentDirectionCT] --- Current step: 52\tResidual: 3408.8227442381626\tDet: 2.342296764779526e+28 (direction.py:68)\u001b[0m\n",
      "\u001b[32m[INFO    ][SteepestAscentDirectionCT] --- stepsize chosen by line_search: 1.8619495809363212e-07 (steepestascent.py:37)\u001b[0m\n",
      "\u001b[32m[INFO    ][SteepestAscentDirectionCT] --- Current step: 53\tResidual: 3408.8227326907586\tDet: 2.3422967666873484e+28 (direction.py:68)\u001b[0m\n",
      "\u001b[32m[INFO    ][SteepestAscentDirectionCT] --- stepsize chosen by line_search: 4.928026666750262e-08 (steepestascent.py:37)\u001b[0m\n",
      "\u001b[32m[INFO    ][SteepestAscentDirectionCT] --- Current step: 54\tResidual: 3408.8227317276665\tDet: 2.342296771785365e+28 (direction.py:68)\u001b[0m\n",
      "\u001b[32m[INFO    ][SteepestAscentDirectionCT] --- stepsize chosen by line_search: 1.85975309526001e-07 (steepestascent.py:37)\u001b[0m\n",
      "\u001b[32m[INFO    ][SteepestAscentDirectionCT] --- Current step: 55\tResidual: 3408.8227201530385\tDet: 2.342296774648349e+28 (direction.py:68)\u001b[0m\n",
      "\u001b[32m[INFO    ][SteepestAscentDirectionCT] --- stepsize chosen by line_search: 4.922243903844859e-08 (steepestascent.py:37)\u001b[0m\n",
      "\u001b[32m[INFO    ][SteepestAscentDirectionCT] --- Current step: 56\tResidual: 3408.82271918825\tDet: 2.3422967729769032e+28 (direction.py:68)\u001b[0m\n",
      "\u001b[32m[INFO    ][SteepestAscentDirectionCT] --- stepsize chosen by line_search: 1.8576124238429048e-07 (steepestascent.py:37)\u001b[0m\n",
      "\u001b[32m[INFO    ][SteepestAscentDirectionCT] --- Current step: 57\tResidual: 3408.822707586808\tDet: 2.342296778098268e+28 (direction.py:68)\u001b[0m\n",
      "\u001b[32m[INFO    ][SteepestAscentDirectionCT] --- stepsize chosen by line_search: 4.916605802175306e-08 (steepestascent.py:37)\u001b[0m\n",
      "\u001b[32m[INFO    ][SteepestAscentDirectionCT] --- Current step: 58\tResidual: 3408.822706620365\tDet: 2.3422967820812048e+28 (direction.py:68)\u001b[0m\n",
      "\u001b[32m[INFO    ][SteepestAscentDirectionCT] --- stepsize chosen by line_search: 1.8554943061127105e-07 (steepestascent.py:37)\u001b[0m\n",
      "\u001b[32m[INFO    ][SteepestAscentDirectionCT] --- Current step: 59\tResidual: 3408.8226949927025\tDet: 2.342296783218583e+28 (direction.py:68)\u001b[0m\n"
     ]
    },
    {
     "name": "stdout",
     "output_type": "stream",
     "text": [
      "\u001b[32m[INFO    ][SteepestAscentDirectionCT] --- stepsize chosen by line_search: 4.9110625374474535e-08 (steepestascent.py:37)\u001b[0m\n",
      "\u001b[32m[INFO    ][SteepestAscentDirectionCT] --- Current step: 60\tResidual: 3408.822694024608\tDet: 2.3422967788453227e+28 (direction.py:68)\u001b[0m\n",
      "\u001b[32m[INFO    ][SteepestAscentDirectionCT] --- stepsize chosen by line_search: 1.8534414699985468e-07 (steepestascent.py:37)\u001b[0m\n",
      "\u001b[32m[INFO    ][SteepestAscentDirectionCT] --- Current step: 61\tResidual: 3408.822682371044\tDet: 2.342296789105135e+28 (direction.py:68)\u001b[0m\n",
      "\u001b[32m[INFO    ][SteepestAscentDirectionCT] --- stepsize chosen by line_search: 4.905667322440681e-08 (steepestascent.py:37)\u001b[0m\n",
      "\u001b[32m[INFO    ][SteepestAscentDirectionCT] --- Current step: 62\tResidual: 3408.822681401322\tDet: 2.342296790069579e+28 (direction.py:68)\u001b[0m\n",
      "\u001b[32m[INFO    ][SteepestAscentDirectionCT] --- stepsize chosen by line_search: 1.8514246902129463e-07 (steepestascent.py:37)\u001b[0m\n",
      "\u001b[32m[INFO    ][SteepestAscentDirectionCT] --- Current step: 63\tResidual: 3408.8226697222954\tDet: 2.3422967905710684e+28 (direction.py:68)\u001b[0m\n",
      "\u001b[32m[INFO    ][SteepestAscentDirectionCT] --- stepsize chosen by line_search: 4.9003797420478436e-08 (steepestascent.py:37)\u001b[0m\n",
      "\u001b[32m[INFO    ][SteepestAscentDirectionCT] --- Current step: 64\tResidual: 3408.8226687509846\tDet: 2.342296792804781e+28 (direction.py:68)\u001b[0m\n",
      "\u001b[32m[INFO    ][SteepestAscentDirectionCT] --- stepsize chosen by line_search: 1.849454391977548e-07 (steepestascent.py:37)\u001b[0m\n",
      "\u001b[32m[INFO    ][SteepestAscentDirectionCT] --- Current step: 65\tResidual: 3408.8226570468655\tDet: 2.3422967949587302e+28 (direction.py:68)\u001b[0m\n",
      "\u001b[32m[INFO    ][SteepestAscentDirectionCT] --- stepsize chosen by line_search: 4.895209481672325e-08 (steepestascent.py:37)\u001b[0m\n",
      "\u001b[32m[INFO    ][SteepestAscentDirectionCT] --- Current step: 66\tResidual: 3408.8226560739918\tDet: 2.342296803678189e+28 (direction.py:68)\u001b[0m\n",
      "\u001b[32m[INFO    ][SteepestAscentDirectionCT] --- stepsize chosen by line_search: 1.847538186320521e-07 (steepestascent.py:37)\u001b[0m\n",
      "\u001b[32m[INFO    ][SteepestAscentDirectionCT] --- Current step: 67\tResidual: 3408.822644345094\tDet: 2.342296799893979e+28 (direction.py:68)\u001b[0m\n",
      "\u001b[32m[INFO    ][SteepestAscentDirectionCT] --- stepsize chosen by line_search: 4.890167584007249e-08 (steepestascent.py:37)\u001b[0m\n",
      "\u001b[32m[INFO    ][SteepestAscentDirectionCT] --- Current step: 68\tResidual: 3408.822643370673\tDet: 2.3422968017971894e+28 (direction.py:68)\u001b[0m\n",
      "\u001b[32m[INFO    ][SteepestAscentDirectionCT] --- stepsize chosen by line_search: 1.8456483114549544e-07 (steepestascent.py:37)\u001b[0m\n",
      "\u001b[32m[INFO    ][SteepestAscentDirectionCT] --- Current step: 69\tResidual: 3408.822631617463\tDet: 2.342296805946086e+28 (direction.py:68)\u001b[0m\n",
      "\u001b[32m[INFO    ][SteepestAscentDirectionCT] --- stepsize chosen by line_search: 4.88521327725043e-08 (steepestascent.py:37)\u001b[0m\n",
      "\u001b[32m[INFO    ][SteepestAscentDirectionCT] --- Current step: 70\tResidual: 3408.822630641498\tDet: 2.3422968055768583e+28 (direction.py:68)\u001b[0m\n",
      "\u001b[32m[INFO    ][SteepestAscentDirectionCT] --- stepsize chosen by line_search: 1.8437971559748432e-07 (steepestascent.py:37)\u001b[0m\n",
      "\u001b[32m[INFO    ][SteepestAscentDirectionCT] --- Current step: 71\tResidual: 3408.8226188643507\tDet: 2.3422968105836564e+28 (direction.py:68)\u001b[0m\n",
      "\u001b[32m[INFO    ][SteepestAscentDirectionCT] --- stepsize chosen by line_search: 4.8803620779187146e-08 (steepestascent.py:37)\u001b[0m\n",
      "\u001b[32m[INFO    ][SteepestAscentDirectionCT] --- Current step: 72\tResidual: 3408.822617886863\tDet: 2.342296811139593e+28 (direction.py:68)\u001b[0m\n",
      "\u001b[32m[INFO    ][SteepestAscentDirectionCT] --- stepsize chosen by line_search: 1.8419814154931352e-07 (steepestascent.py:37)\u001b[0m\n",
      "\u001b[32m[INFO    ][SteepestAscentDirectionCT] --- Current step: 73\tResidual: 3408.822606086119\tDet: 2.3422968156531914e+28 (direction.py:68)\u001b[0m\n",
      "\u001b[32m[INFO    ][SteepestAscentDirectionCT] --- stepsize chosen by line_search: 4.8756061549753195e-08 (steepestascent.py:37)\u001b[0m\n",
      "\u001b[32m[INFO    ][SteepestAscentDirectionCT] --- Current step: 74\tResidual: 3408.822605107172\tDet: 2.342296815825869e+28 (direction.py:68)\u001b[0m\n",
      "\u001b[32m[INFO    ][SteepestAscentDirectionCT] --- stepsize chosen by line_search: 1.8402081807050015e-07 (steepestascent.py:37)\u001b[0m\n",
      "\u001b[32m[INFO    ][SteepestAscentDirectionCT] --- Current step: 75\tResidual: 3408.8225932831406\tDet: 2.3422968202765415e+28 (direction.py:68)\u001b[0m\n",
      "\u001b[32m[INFO    ][SteepestAscentDirectionCT] --- stepsize chosen by line_search: 4.8709551403497475e-08 (steepestascent.py:37)\u001b[0m\n",
      "\u001b[32m[INFO    ][SteepestAscentDirectionCT] --- Current step: 76\tResidual: 3408.8225923027467\tDet: 2.3422968185090273e+28 (direction.py:68)\u001b[0m\n",
      "\u001b[32m[INFO    ][SteepestAscentDirectionCT] --- stepsize chosen by line_search: 1.8384564941110851e-07 (steepestascent.py:37)\u001b[0m\n",
      "\u001b[32m[INFO    ][SteepestAscentDirectionCT] --- Current step: 77\tResidual: 3408.8225804558333\tDet: 2.3422968234894803e+28 (direction.py:68)\u001b[0m\n",
      "\u001b[32m[INFO    ][SteepestAscentDirectionCT] --- stepsize chosen by line_search: 4.8663773588354765e-08 (steepestascent.py:37)\u001b[0m\n",
      "\u001b[32m[INFO    ][SteepestAscentDirectionCT] --- Current step: 78\tResidual: 3408.822579474004\tDet: 2.342296826364807e+28 (direction.py:68)\u001b[0m\n",
      "\u001b[32m[INFO    ][SteepestAscentDirectionCT] --- stepsize chosen by line_search: 1.8367616983385421e-07 (steepestascent.py:37)\u001b[0m\n",
      "\u001b[32m[INFO    ][SteepestAscentDirectionCT] --- Current step: 79\tResidual: 3408.8225676044326\tDet: 2.3422968314365938e+28 (direction.py:68)\u001b[0m\n",
      "\u001b[32m[INFO    ][SteepestAscentDirectionCT] --- stepsize chosen by line_search: 4.861918689292384e-08 (steepestascent.py:37)\u001b[0m\n",
      "\u001b[32m[INFO    ][SteepestAscentDirectionCT] --- Current step: 80\tResidual: 3408.8225666211392\tDet: 2.3422968323368066e+28 (direction.py:68)\u001b[0m\n",
      "\u001b[32m[INFO    ][SteepestAscentDirectionCT] --- stepsize chosen by line_search: 1.835081647581603e-07 (steepestascent.py:37)\u001b[0m\n",
      "\u001b[32m[INFO    ][SteepestAscentDirectionCT] --- Current step: 81\tResidual: 3408.8225547293373\tDet: 2.342296831140839e+28 (direction.py:68)\u001b[0m\n",
      "\u001b[32m[INFO    ][SteepestAscentDirectionCT] --- stepsize chosen by line_search: 4.857521281136482e-08 (steepestascent.py:37)\u001b[0m\n",
      "\u001b[32m[INFO    ][SteepestAscentDirectionCT] --- Current step: 82\tResidual: 3408.8225537446474\tDet: 2.342296832535049e+28 (direction.py:68)\u001b[0m\n",
      "\u001b[32m[INFO    ][SteepestAscentDirectionCT] --- stepsize chosen by line_search: 1.833450776131377e-07 (steepestascent.py:37)\u001b[0m\n",
      "\u001b[32m[INFO    ][SteepestAscentDirectionCT] --- Current step: 83\tResidual: 3408.8225418307698\tDet: 2.3422968349041662e+28 (direction.py:68)\u001b[0m\n",
      "\u001b[32m[INFO    ][SteepestAscentDirectionCT] --- stepsize chosen by line_search: 4.8532300191007045e-08 (steepestascent.py:37)\u001b[0m\n",
      "\u001b[32m[INFO    ][SteepestAscentDirectionCT] --- Current step: 84\tResidual: 3408.8225408446956\tDet: 2.342296835592358e+28 (direction.py:68)\u001b[0m\n",
      "\u001b[32m[INFO    ][SteepestAscentDirectionCT] --- stepsize chosen by line_search: 1.831854515596232e-07 (steepestascent.py:37)\u001b[0m\n",
      "\u001b[32m[INFO    ][SteepestAscentDirectionCT] --- Current step: 85\tResidual: 3408.82252890902\tDet: 2.342296842248852e+28 (direction.py:68)\u001b[0m\n",
      "\u001b[32m[INFO    ][SteepestAscentDirectionCT] --- stepsize chosen by line_search: 4.849024333639888e-08 (steepestascent.py:37)\u001b[0m\n",
      "\u001b[32m[INFO    ][SteepestAscentDirectionCT] --- Current step: 86\tResidual: 3408.822527921579\tDet: 2.3422968455376465e+28 (direction.py:68)\u001b[0m\n",
      "\u001b[32m[INFO    ][SteepestAscentDirectionCT] --- stepsize chosen by line_search: 1.8302819966830293e-07 (steepestascent.py:37)\u001b[0m\n",
      "\u001b[32m[INFO    ][SteepestAscentDirectionCT] --- Current step: 87\tResidual: 3408.8225159644626\tDet: 2.3422968503387815e+28 (direction.py:68)\u001b[0m\n",
      "\u001b[32m[INFO    ][SteepestAscentDirectionCT] --- stepsize chosen by line_search: 4.844890476874764e-08 (steepestascent.py:37)\u001b[0m\n",
      "\u001b[32m[INFO    ][SteepestAscentDirectionCT] --- Current step: 88\tResidual: 3408.8225149756518\tDet: 2.3422968431223335e+28 (direction.py:68)\u001b[0m\n",
      "\u001b[32m[INFO    ][SteepestAscentDirectionCT] --- stepsize chosen by line_search: 1.8287252335746248e-07 (steepestascent.py:37)\u001b[0m\n",
      "\u001b[32m[INFO    ][SteepestAscentDirectionCT] --- Current step: 89\tResidual: 3408.822502997438\tDet: 2.342296844639881e+28 (direction.py:68)\u001b[0m\n",
      "\u001b[32m[INFO    ][SteepestAscentDirectionCT] --- stepsize chosen by line_search: 4.840814178238823e-08 (steepestascent.py:37)\u001b[0m\n"
     ]
    },
    {
     "name": "stdout",
     "output_type": "stream",
     "text": [
      "\u001b[32m[INFO    ][SteepestAscentDirectionCT] --- Current step: 90\tResidual: 3408.822502007293\tDet: 2.342296851743581e+28 (direction.py:68)\u001b[0m\n",
      "\u001b[32m[INFO    ][SteepestAscentDirectionCT] --- stepsize chosen by line_search: 1.8272143970291595e-07 (steepestascent.py:37)\u001b[0m\n",
      "\u001b[32m[INFO    ][SteepestAscentDirectionCT] --- Current step: 91\tResidual: 3408.8224900081655\tDet: 2.3422968481526186e+28 (direction.py:68)\u001b[0m\n",
      "\u001b[32m[INFO    ][SteepestAscentDirectionCT] --- stepsize chosen by line_search: 4.8368362505743934e-08 (steepestascent.py:37)\u001b[0m\n",
      "\u001b[32m[INFO    ][SteepestAscentDirectionCT] --- Current step: 92\tResidual: 3408.822489016707\tDet: 2.342296853997046e+28 (direction.py:68)\u001b[0m\n",
      "\u001b[32m[INFO    ][SteepestAscentDirectionCT] --- stepsize chosen by line_search: 1.8257132628698042e-07 (steepestascent.py:37)\u001b[0m\n",
      "\u001b[32m[INFO    ][SteepestAscentDirectionCT] --- Current step: 93\tResidual: 3408.822476997021\tDet: 2.342296856189258e+28 (direction.py:68)\u001b[0m\n",
      "\u001b[32m[INFO    ][SteepestAscentDirectionCT] --- stepsize chosen by line_search: 4.832904711286439e-08 (steepestascent.py:37)\u001b[0m\n",
      "\u001b[32m[INFO    ][SteepestAscentDirectionCT] --- Current step: 94\tResidual: 3408.8224760042353\tDet: 2.3422968537572036e+28 (direction.py:68)\u001b[0m\n",
      "\u001b[32m[INFO    ][SteepestAscentDirectionCT] --- stepsize chosen by line_search: 1.8242549837700055e-07 (steepestascent.py:37)\u001b[0m\n",
      "\u001b[32m[INFO    ][SteepestAscentDirectionCT] --- Current step: 95\tResidual: 3408.8224639641658\tDet: 2.342296860230617e+28 (direction.py:68)\u001b[0m\n",
      "\u001b[32m[INFO    ][SteepestAscentDirectionCT] --- stepsize chosen by line_search: 4.829063668532374e-08 (steepestascent.py:37)\u001b[0m\n",
      "\u001b[32m[INFO    ][SteepestAscentDirectionCT] --- Current step: 96\tResidual: 3408.8224629700935\tDet: 2.3422968676118294e+28 (direction.py:68)\u001b[0m\n",
      "\u001b[32m[INFO    ][SteepestAscentDirectionCT] --- stepsize chosen by line_search: 1.8228232845637168e-07 (steepestascent.py:37)\u001b[0m\n",
      "\u001b[32m[INFO    ][SteepestAscentDirectionCT] --- Current step: 97\tResidual: 3408.82245090986\tDet: 2.342296866015626e+28 (direction.py:68)\u001b[0m\n",
      "\u001b[32m[INFO    ][SteepestAscentDirectionCT] --- stepsize chosen by line_search: 4.8252928049830835e-08 (steepestascent.py:37)\u001b[0m\n",
      "\u001b[32m[INFO    ][SteepestAscentDirectionCT] --- Current step: 98\tResidual: 3408.822449914519\tDet: 2.3422968685497634e+28 (direction.py:68)\u001b[0m\n",
      "\u001b[32m[INFO    ][SteepestAscentDirectionCT] --- stepsize chosen by line_search: 1.8213965294022486e-07 (steepestascent.py:37)\u001b[0m\n",
      "\u001b[32m[INFO    ][SteepestAscentDirectionCT] --- Current step: 99\tResidual: 3408.8224378345094\tDet: 2.3422968674872988e+28 (direction.py:68)\u001b[0m\n",
      "\u001b[32m[INFO    ][SteepestAscentDirectionCT] --- stepsize chosen by line_search: 4.821560100516769e-08 (steepestascent.py:37)\u001b[0m\n",
      "\u001b[32m[INFO    ][SteepestAscentDirectionCT] --- Current step: 100\tResidual: 3408.82243683792\tDet: 2.342296874231843e+28 (direction.py:68)\u001b[0m\n",
      "\u001b[32m[INFO    ][SteepestAscentDirectionCT] --- stepsize chosen by line_search: 1.8200098932921418e-07 (steepestascent.py:37)\u001b[0m\n",
      "\u001b[32m[INFO    ][SteepestAscentDirectionCT] --- Current step: 200\tResidual: 3408.8217604599054\tDet: 2.3422970913512426e+28 (direction.py:68)\u001b[0m\n",
      "\u001b[32m[INFO    ][SteepestAscentDirectionCT] --- stepsize chosen by line_search: 1.7710927144158247e-07 (steepestascent.py:37)\u001b[0m\n",
      "\u001b[32m[INFO    ][SteepestAscentDirectionCT] --- Current step: 300\tResidual: 3408.8210508105626\tDet: 2.342297282932144e+28 (direction.py:68)\u001b[0m\n",
      "\u001b[32m[INFO    ][SteepestAscentDirectionCT] --- stepsize chosen by line_search: 1.7437092294915947e-07 (steepestascent.py:37)\u001b[0m\n",
      "\u001b[32m[INFO    ][SteepestAscentDirectionCT] --- Current step: 400\tResidual: 3408.82031775009\tDet: 2.3422974875422467e+28 (direction.py:68)\u001b[0m\n",
      "\u001b[32m[INFO    ][SteepestAscentDirectionCT] --- stepsize chosen by line_search: 1.7257870020460808e-07 (steepestascent.py:37)\u001b[0m\n",
      "\u001b[32m[INFO    ][SteepestAscentDirectionCT] --- Current step: 500\tResidual: 3408.819567141437\tDet: 2.342297682453517e+28 (direction.py:68)\u001b[0m\n",
      "\u001b[32m[INFO    ][SteepestAscentDirectionCT] --- stepsize chosen by line_search: 1.7128759727039403e-07 (steepestascent.py:37)\u001b[0m\n",
      "\u001b[32m[INFO    ][SteepestAscentDirectionCT] --- Current step: 600\tResidual: 3408.818802827328\tDet: 2.3422978748630957e+28 (direction.py:68)\u001b[0m\n",
      "\u001b[32m[INFO    ][SteepestAscentDirectionCT] --- stepsize chosen by line_search: 1.7027193191566312e-07 (steepestascent.py:37)\u001b[0m\n",
      "\u001b[32m[INFO    ][SteepestAscentDirectionCT] --- Current step: 700\tResidual: 3408.818027464905\tDet: 2.3422980640832937e+28 (direction.py:68)\u001b[0m\n",
      "\u001b[32m[INFO    ][SteepestAscentDirectionCT] --- stepsize chosen by line_search: 1.6942397439206927e-07 (steepestascent.py:37)\u001b[0m\n",
      "\u001b[32m[INFO    ][SteepestAscentDirectionCT] --- Current step: 800\tResidual: 3408.8172430240957\tDet: 2.3422982477541862e+28 (direction.py:68)\u001b[0m\n",
      "\u001b[32m[INFO    ][SteepestAscentDirectionCT] --- stepsize chosen by line_search: 1.6866682635637e-07 (steepestascent.py:37)\u001b[0m\n",
      "\u001b[32m[INFO    ][SteepestAscentDirectionCT] --- Current step: 900\tResidual: 3408.8164508776113\tDet: 2.3422984356506726e+28 (direction.py:68)\u001b[0m\n",
      "\u001b[32m[INFO    ][SteepestAscentDirectionCT] --- stepsize chosen by line_search: 1.6801703753962634e-07 (steepestascent.py:37)\u001b[0m\n",
      "\u001b[32m[INFO    ][SteepestAscentDirectionCT] --- Current step: 1000\tResidual: 3408.815652024881\tDet: 2.3422986234160435e+28 (direction.py:68)\u001b[0m\n",
      "\u001b[32m[INFO    ][SteepestAscentDirectionCT] --- stepsize chosen by line_search: 1.6743220605167011e-07 (steepestascent.py:37)\u001b[0m\n",
      "\u001b[32m[INFO    ][SteepestAscentDirectionCT] --- Current step: 1100\tResidual: 3408.8148471736317\tDet: 2.3422988103375374e+28 (direction.py:68)\u001b[0m\n",
      "\u001b[32m[INFO    ][SteepestAscentDirectionCT] --- stepsize chosen by line_search: 1.6691026538131368e-07 (steepestascent.py:37)\u001b[0m\n",
      "\u001b[32m[INFO    ][SteepestAscentDirectionCT] --- Current step: 1200\tResidual: 3408.8140369651087\tDet: 2.342298991381491e+28 (direction.py:68)\u001b[0m\n",
      "\u001b[32m[INFO    ][SteepestAscentDirectionCT] --- stepsize chosen by line_search: 1.66428185259618e-07 (steepestascent.py:37)\u001b[0m\n",
      "\u001b[32m[INFO    ][SteepestAscentDirectionCT] --- Current step: 1300\tResidual: 3408.813221912483\tDet: 2.3422991804991713e+28 (direction.py:68)\u001b[0m\n",
      "\u001b[32m[INFO    ][SteepestAscentDirectionCT] --- stepsize chosen by line_search: 1.6596767826769268e-07 (steepestascent.py:37)\u001b[0m\n",
      "\u001b[32m[INFO    ][SteepestAscentDirectionCT] --- Current step: 1400\tResidual: 3408.8124024664785\tDet: 2.3422993604493107e+28 (direction.py:68)\u001b[0m\n",
      "\u001b[32m[INFO    ][SteepestAscentDirectionCT] --- stepsize chosen by line_search: 1.6554099208101786e-07 (steepestascent.py:37)\u001b[0m\n",
      "\u001b[32m[INFO    ][SteepestAscentDirectionCT] --- Current step: 1500\tResidual: 3408.811578993544\tDet: 2.34229953345571e+28 (direction.py:68)\u001b[0m\n",
      "\u001b[32m[INFO    ][SteepestAscentDirectionCT] --- stepsize chosen by line_search: 1.6513239014259107e-07 (steepestascent.py:37)\u001b[0m\n",
      "\u001b[32m[INFO    ][SteepestAscentDirectionCT] --- Current step: 1600\tResidual: 3408.810751791414\tDet: 2.342299716920457e+28 (direction.py:68)\u001b[0m\n",
      "\u001b[32m[INFO    ][SteepestAscentDirectionCT] --- stepsize chosen by line_search: 1.647516085087461e-07 (steepestascent.py:37)\u001b[0m\n",
      "\u001b[32m[INFO    ][SteepestAscentDirectionCT] --- Current step: 1700\tResidual: 3408.8099211217846\tDet: 2.3422998960147317e+28 (direction.py:68)\u001b[0m\n",
      "\u001b[32m[INFO    ][SteepestAscentDirectionCT] --- stepsize chosen by line_search: 1.6440287051048749e-07 (steepestascent.py:37)\u001b[0m\n",
      "\u001b[32m[INFO    ][SteepestAscentDirectionCT] --- Current step: 1800\tResidual: 3408.809087177621\tDet: 2.3423000709486255e+28 (direction.py:68)\u001b[0m\n",
      "\u001b[32m[INFO    ][SteepestAscentDirectionCT] --- stepsize chosen by line_search: 1.6405311469258733e-07 (steepestascent.py:37)\u001b[0m\n",
      "\u001b[32m[INFO    ][SteepestAscentDirectionCT] --- Current step: 1900\tResidual: 3408.8082502380657\tDet: 2.342300247467134e+28 (direction.py:68)\u001b[0m\n",
      "\u001b[32m[INFO    ][SteepestAscentDirectionCT] --- stepsize chosen by line_search: 1.6372045132354404e-07 (steepestascent.py:37)\u001b[0m\n",
      "\u001b[32m[INFO    ][SteepestAscentDirectionCT] --- Current step: 2000\tResidual: 3408.8074104771263\tDet: 2.3423004275435494e+28 (direction.py:68)\u001b[0m\n",
      "\u001b[32m[INFO    ][SteepestAscentDirectionCT] --- stepsize chosen by line_search: 1.6340638219025195e-07 (steepestascent.py:37)\u001b[0m\n",
      "\u001b[32m[INFO    ][SteepestAscentDirectionCT] --- Current step: 2100\tResidual: 3408.806568063764\tDet: 2.342300603634538e+28 (direction.py:68)\u001b[0m\n"
     ]
    },
    {
     "name": "stdout",
     "output_type": "stream",
     "text": [
      "\u001b[32m[INFO    ][SteepestAscentDirectionCT] --- stepsize chosen by line_search: 1.6310802758494425e-07 (steepestascent.py:37)\u001b[0m\n",
      "\u001b[32m[INFO    ][SteepestAscentDirectionCT] --- Current step: 2200\tResidual: 3408.80572316175\tDet: 2.3423007777028796e+28 (direction.py:68)\u001b[0m\n",
      "\u001b[32m[INFO    ][SteepestAscentDirectionCT] --- stepsize chosen by line_search: 1.6281561316195574e-07 (steepestascent.py:37)\u001b[0m\n",
      "\u001b[32m[INFO    ][SteepestAscentDirectionCT] --- Current step: 2300\tResidual: 3408.804875904892\tDet: 2.342300947399594e+28 (direction.py:68)\u001b[0m\n",
      "\u001b[32m[INFO    ][SteepestAscentDirectionCT] --- stepsize chosen by line_search: 1.6255026751691477e-07 (steepestascent.py:37)\u001b[0m\n",
      "\u001b[32m[INFO    ][SteepestAscentDirectionCT] --- Current step: 2400\tResidual: 3408.804026384567\tDet: 2.34230112375917e+28 (direction.py:68)\u001b[0m\n",
      "\u001b[32m[INFO    ][SteepestAscentDirectionCT] --- stepsize chosen by line_search: 1.6229699367579535e-07 (steepestascent.py:37)\u001b[0m\n",
      "\u001b[32m[INFO    ][SteepestAscentDirectionCT] --- Current step: 2500\tResidual: 3408.803174718968\tDet: 2.3423012989274175e+28 (direction.py:68)\u001b[0m\n",
      "\u001b[32m[INFO    ][SteepestAscentDirectionCT] --- stepsize chosen by line_search: 1.6204448092506508e-07 (steepestascent.py:37)\u001b[0m\n",
      "\u001b[32m[INFO    ][SteepestAscentDirectionCT] --- Current step: 2600\tResidual: 3408.802321093298\tDet: 2.3423014665932694e+28 (direction.py:68)\u001b[0m\n",
      "\u001b[32m[INFO    ][SteepestAscentDirectionCT] --- stepsize chosen by line_search: 1.6178709679189295e-07 (steepestascent.py:37)\u001b[0m\n",
      "\u001b[32m[INFO    ][SteepestAscentDirectionCT] --- Current step: 2700\tResidual: 3408.801465628276\tDet: 2.3423016538288217e+28 (direction.py:68)\u001b[0m\n",
      "\u001b[32m[INFO    ][SteepestAscentDirectionCT] --- stepsize chosen by line_search: 1.6154974807128095e-07 (steepestascent.py:37)\u001b[0m\n",
      "\u001b[32m[INFO    ][SteepestAscentDirectionCT] --- Current step: 2800\tResidual: 3408.8006083623554\tDet: 2.342301822804968e+28 (direction.py:68)\u001b[0m\n",
      "\u001b[32m[INFO    ][SteepestAscentDirectionCT] --- stepsize chosen by line_search: 1.613210597958484e-07 (steepestascent.py:37)\u001b[0m\n",
      "\u001b[32m[INFO    ][SteepestAscentDirectionCT] --- Current step: 2900\tResidual: 3408.7997494491424\tDet: 2.342301988242265e+28 (direction.py:68)\u001b[0m\n",
      "\u001b[32m[INFO    ][SteepestAscentDirectionCT] --- stepsize chosen by line_search: 1.6109657962956667e-07 (steepestascent.py:37)\u001b[0m\n",
      "\u001b[32m[INFO    ][SteepestAscentDirectionCT] --- Current step: 3000\tResidual: 3408.7988889469034\tDet: 2.3423021621830763e+28 (direction.py:68)\u001b[0m\n",
      "\u001b[32m[INFO    ][SteepestAscentDirectionCT] --- stepsize chosen by line_search: 1.608803440329455e-07 (steepestascent.py:37)\u001b[0m\n",
      "\u001b[32m[INFO    ][SteepestAscentDirectionCT] --- Current step: 3100\tResidual: 3408.798026930085\tDet: 2.3423023286684174e+28 (direction.py:68)\u001b[0m\n",
      "\u001b[32m[INFO    ][SteepestAscentDirectionCT] --- stepsize chosen by line_search: 1.6066556513036004e-07 (steepestascent.py:37)\u001b[0m\n",
      "\u001b[32m[INFO    ][SteepestAscentDirectionCT] --- Current step: 3200\tResidual: 3408.797163499812\tDet: 2.3423025027605563e+28 (direction.py:68)\u001b[0m\n",
      "\u001b[32m[INFO    ][SteepestAscentDirectionCT] --- stepsize chosen by line_search: 1.6045804029454955e-07 (steepestascent.py:37)\u001b[0m\n",
      "\u001b[32m[INFO    ][SteepestAscentDirectionCT] --- Current step: 3300\tResidual: 3408.7962987219826\tDet: 2.342302670106922e+28 (direction.py:68)\u001b[0m\n",
      "\u001b[32m[INFO    ][SteepestAscentDirectionCT] --- stepsize chosen by line_search: 1.6026169422941378e-07 (steepestascent.py:37)\u001b[0m\n",
      "\u001b[32m[INFO    ][SteepestAscentDirectionCT] --- Current step: 3400\tResidual: 3408.7954326285003\tDet: 2.3423028443144114e+28 (direction.py:68)\u001b[0m\n",
      "\u001b[32m[INFO    ][SteepestAscentDirectionCT] --- stepsize chosen by line_search: 1.6007114420186867e-07 (steepestascent.py:37)\u001b[0m\n",
      "\u001b[32m[INFO    ][SteepestAscentDirectionCT] --- Current step: 3500\tResidual: 3408.794565274102\tDet: 2.342303014479753e+28 (direction.py:68)\u001b[0m\n",
      "\u001b[32m[INFO    ][SteepestAscentDirectionCT] --- stepsize chosen by line_search: 1.598889946208482e-07 (steepestascent.py:37)\u001b[0m\n",
      "\u001b[32m[INFO    ][SteepestAscentDirectionCT] --- Current step: 3600\tResidual: 3408.7936967128153\tDet: 2.3423031829197814e+28 (direction.py:68)\u001b[0m\n",
      "\u001b[32m[INFO    ][SteepestAscentDirectionCT] --- stepsize chosen by line_search: 1.597179790146432e-07 (steepestascent.py:37)\u001b[0m\n",
      "\u001b[32m[INFO    ][SteepestAscentDirectionCT] --- Current step: 3700\tResidual: 3408.7928269402014\tDet: 2.342303347812964e+28 (direction.py:68)\u001b[0m\n",
      "\u001b[32m[INFO    ][SteepestAscentDirectionCT] --- stepsize chosen by line_search: 1.5956153198357514e-07 (steepestascent.py:37)\u001b[0m\n",
      "\u001b[32m[INFO    ][SteepestAscentDirectionCT] --- Current step: 3800\tResidual: 3408.7919560198593\tDet: 2.3423035157567735e+28 (direction.py:68)\u001b[0m\n",
      "\u001b[32m[INFO    ][SteepestAscentDirectionCT] --- stepsize chosen by line_search: 1.5939945854398608e-07 (steepestascent.py:37)\u001b[0m\n",
      "\u001b[32m[INFO    ][SteepestAscentDirectionCT] --- Current step: 3900\tResidual: 3408.791084042988\tDet: 2.342303687658876e+28 (direction.py:68)\u001b[0m\n",
      "\u001b[32m[INFO    ][SteepestAscentDirectionCT] --- stepsize chosen by line_search: 1.5923239181580342e-07 (steepestascent.py:37)\u001b[0m\n",
      "\u001b[32m[INFO    ][SteepestAscentDirectionCT] --- Current step: 4000\tResidual: 3408.7902110852056\tDet: 2.342303853565475e+28 (direction.py:68)\u001b[0m\n",
      "\u001b[32m[INFO    ][SteepestAscentDirectionCT] --- stepsize chosen by line_search: 1.5906475663272643e-07 (steepestascent.py:37)\u001b[0m\n",
      "\u001b[32m[INFO    ][SteepestAscentDirectionCT] --- Current step: 4100\tResidual: 3408.7893372202398\tDet: 2.342304020076944e+28 (direction.py:68)\u001b[0m\n",
      "\u001b[32m[INFO    ][SteepestAscentDirectionCT] --- stepsize chosen by line_search: 1.588963188161337e-07 (steepestascent.py:37)\u001b[0m\n",
      "\u001b[32m[INFO    ][SteepestAscentDirectionCT] --- Current step: 4200\tResidual: 3408.788462463203\tDet: 2.3423041898651125e+28 (direction.py:68)\u001b[0m\n",
      "\u001b[32m[INFO    ][SteepestAscentDirectionCT] --- stepsize chosen by line_search: 1.5874321284208395e-07 (steepestascent.py:37)\u001b[0m\n",
      "\u001b[32m[INFO    ][SteepestAscentDirectionCT] --- Current step: 4300\tResidual: 3408.7875868568394\tDet: 2.3423043522269995e+28 (direction.py:68)\u001b[0m\n",
      "\u001b[32m[INFO    ][SteepestAscentDirectionCT] --- stepsize chosen by line_search: 1.5858554459705537e-07 (steepestascent.py:37)\u001b[0m\n",
      "\u001b[32m[INFO    ][SteepestAscentDirectionCT] --- Current step: 4400\tResidual: 3408.7867104019833\tDet: 2.342304520539617e+28 (direction.py:68)\u001b[0m\n",
      "\u001b[32m[INFO    ][SteepestAscentDirectionCT] --- stepsize chosen by line_search: 1.5844588061472644e-07 (steepestascent.py:37)\u001b[0m\n",
      "\u001b[32m[INFO    ][SteepestAscentDirectionCT] --- Current step: 4500\tResidual: 3408.7858330964114\tDet: 2.3423046856008607e+28 (direction.py:68)\u001b[0m\n",
      "\u001b[32m[INFO    ][SteepestAscentDirectionCT] --- stepsize chosen by line_search: 1.5831251841875291e-07 (steepestascent.py:37)\u001b[0m\n",
      "\u001b[32m[INFO    ][SteepestAscentDirectionCT] --- Current step: 4600\tResidual: 3408.7849550193314\tDet: 2.342304856835955e+28 (direction.py:68)\u001b[0m\n",
      "\u001b[32m[INFO    ][SteepestAscentDirectionCT] --- stepsize chosen by line_search: 1.581629958717569e-07 (steepestascent.py:37)\u001b[0m\n",
      "\u001b[32m[INFO    ][SteepestAscentDirectionCT] --- Current step: 4700\tResidual: 3408.784076184565\tDet: 2.342305019017183e+28 (direction.py:68)\u001b[0m\n",
      "\u001b[32m[INFO    ][SteepestAscentDirectionCT] --- stepsize chosen by line_search: 1.5803220674929787e-07 (steepestascent.py:37)\u001b[0m\n",
      "\u001b[32m[INFO    ][SteepestAscentDirectionCT] --- Current step: 4800\tResidual: 3408.783196646892\tDet: 2.3423051824965518e+28 (direction.py:68)\u001b[0m\n",
      "\u001b[32m[INFO    ][SteepestAscentDirectionCT] --- stepsize chosen by line_search: 1.5788753151620216e-07 (steepestascent.py:37)\u001b[0m\n",
      "\u001b[32m[INFO    ][SteepestAscentDirectionCT] --- Current step: 4900\tResidual: 3408.7823164607266\tDet: 2.342305349874865e+28 (direction.py:68)\u001b[0m\n",
      "\u001b[32m[INFO    ][SteepestAscentDirectionCT] --- stepsize chosen by line_search: 1.57759713964873e-07 (steepestascent.py:37)\u001b[0m\n",
      "\u001b[32m[INFO    ][SteepestAscentDirectionCT] --- Current step: 5000\tResidual: 3408.7814355572677\tDet: 2.3423055143192065e+28 (direction.py:68)\u001b[0m\n",
      "\u001b[32m[INFO    ][SteepestAscentDirectionCT] --- stepsize chosen by line_search: 1.5764039777395776e-07 (steepestascent.py:37)\u001b[0m\n",
      "\u001b[32m[INFO    ][SteepestAscentDirectionCT] --- Current step: 5100\tResidual: 3408.7805539658775\tDet: 2.342305681758601e+28 (direction.py:68)\u001b[0m\n",
      "\u001b[32m[INFO    ][SteepestAscentDirectionCT] --- stepsize chosen by line_search: 1.575194167494911e-07 (steepestascent.py:37)\u001b[0m\n"
     ]
    },
    {
     "name": "stdout",
     "output_type": "stream",
     "text": [
      "\u001b[32m[INFO    ][SteepestAscentDirectionCT] --- Current step: 5200\tResidual: 3408.779671711967\tDet: 2.342305842959681e+28 (direction.py:68)\u001b[0m\n",
      "\u001b[32m[INFO    ][SteepestAscentDirectionCT] --- stepsize chosen by line_search: 1.5740364224520105e-07 (steepestascent.py:37)\u001b[0m\n",
      "\u001b[32m[INFO    ][SteepestAscentDirectionCT] --- Current step: 5300\tResidual: 3408.7787888431403\tDet: 2.342306011192009e+28 (direction.py:68)\u001b[0m\n",
      "\u001b[32m[INFO    ][SteepestAscentDirectionCT] --- stepsize chosen by line_search: 1.5728089432918551e-07 (steepestascent.py:37)\u001b[0m\n",
      "\u001b[32m[INFO    ][SteepestAscentDirectionCT] --- Current step: 5400\tResidual: 3408.7779054085477\tDet: 2.342306174940657e+28 (direction.py:68)\u001b[0m\n",
      "\u001b[32m[INFO    ][SteepestAscentDirectionCT] --- stepsize chosen by line_search: 1.5715361952601342e-07 (steepestascent.py:37)\u001b[0m\n",
      "\u001b[32m[INFO    ][SteepestAscentDirectionCT] --- Current step: 5500\tResidual: 3408.7770214325615\tDet: 2.342306337477138e+28 (direction.py:68)\u001b[0m\n",
      "\u001b[32m[INFO    ][SteepestAscentDirectionCT] --- stepsize chosen by line_search: 1.5704200148164182e-07 (steepestascent.py:37)\u001b[0m\n",
      "\u001b[32m[INFO    ][SteepestAscentDirectionCT] --- Current step: 5600\tResidual: 3408.776136897881\tDet: 2.342306504552516e+28 (direction.py:68)\u001b[0m\n",
      "\u001b[32m[INFO    ][SteepestAscentDirectionCT] --- stepsize chosen by line_search: 1.5692553738702486e-07 (steepestascent.py:37)\u001b[0m\n",
      "\u001b[32m[INFO    ][SteepestAscentDirectionCT] --- Current step: 5700\tResidual: 3408.7752518589346\tDet: 2.3423066574992967e+28 (direction.py:68)\u001b[0m\n",
      "\u001b[32m[INFO    ][SteepestAscentDirectionCT] --- stepsize chosen by line_search: 1.5681143812788833e-07 (steepestascent.py:37)\u001b[0m\n",
      "\u001b[32m[INFO    ][SteepestAscentDirectionCT] --- Current step: 5800\tResidual: 3408.774366294662\tDet: 2.342306830847565e+28 (direction.py:68)\u001b[0m\n",
      "\u001b[32m[INFO    ][SteepestAscentDirectionCT] --- stepsize chosen by line_search: 1.5669273554228508e-07 (steepestascent.py:37)\u001b[0m\n",
      "\u001b[32m[INFO    ][SteepestAscentDirectionCT] --- Current step: 5900\tResidual: 3408.773480327996\tDet: 2.3423069913518926e+28 (direction.py:68)\u001b[0m\n",
      "\u001b[32m[INFO    ][SteepestAscentDirectionCT] --- stepsize chosen by line_search: 1.5657826725594782e-07 (steepestascent.py:37)\u001b[0m\n",
      "\u001b[32m[INFO    ][SteepestAscentDirectionCT] --- Current step: 6000\tResidual: 3408.772593877248\tDet: 2.3423071560972376e+28 (direction.py:68)\u001b[0m\n",
      "\u001b[32m[INFO    ][SteepestAscentDirectionCT] --- stepsize chosen by line_search: 1.564804746299296e-07 (steepestascent.py:37)\u001b[0m\n",
      "\u001b[32m[INFO    ][SteepestAscentDirectionCT] --- Current step: 6100\tResidual: 3408.7717069324103\tDet: 2.3423073214938453e+28 (direction.py:68)\u001b[0m\n",
      "\u001b[32m[INFO    ][SteepestAscentDirectionCT] --- stepsize chosen by line_search: 1.5637490112983338e-07 (steepestascent.py:37)\u001b[0m\n",
      "\u001b[32m[INFO    ][SteepestAscentDirectionCT] --- Current step: 6200\tResidual: 3408.7708195285454\tDet: 2.3423074789962964e+28 (direction.py:68)\u001b[0m\n",
      "\u001b[32m[INFO    ][SteepestAscentDirectionCT] --- stepsize chosen by line_search: 1.5627445523760158e-07 (steepestascent.py:37)\u001b[0m\n",
      "\u001b[32m[INFO    ][SteepestAscentDirectionCT] --- Current step: 6300\tResidual: 3408.7699316641665\tDet: 2.3423076402432633e+28 (direction.py:68)\u001b[0m\n",
      "\u001b[32m[INFO    ][SteepestAscentDirectionCT] --- stepsize chosen by line_search: 1.5617898383970977e-07 (steepestascent.py:37)\u001b[0m\n",
      "\u001b[32m[INFO    ][SteepestAscentDirectionCT] --- Current step: 6400\tResidual: 3408.769043350543\tDet: 2.3423078074798975e+28 (direction.py:68)\u001b[0m\n",
      "\u001b[32m[INFO    ][SteepestAscentDirectionCT] --- stepsize chosen by line_search: 1.5608458431643066e-07 (steepestascent.py:37)\u001b[0m\n",
      "\u001b[32m[INFO    ][SteepestAscentDirectionCT] --- Current step: 6500\tResidual: 3408.768154521302\tDet: 2.342307962768998e+28 (direction.py:68)\u001b[0m\n",
      "\u001b[32m[INFO    ][SteepestAscentDirectionCT] --- stepsize chosen by line_search: 1.560051761081675e-07 (steepestascent.py:37)\u001b[0m\n",
      "\u001b[32m[INFO    ][SteepestAscentDirectionCT] --- Current step: 6600\tResidual: 3408.767265281338\tDet: 2.3423081291476194e+28 (direction.py:68)\u001b[0m\n",
      "\u001b[32m[INFO    ][SteepestAscentDirectionCT] --- stepsize chosen by line_search: 1.5589692114081945e-07 (steepestascent.py:37)\u001b[0m\n",
      "\u001b[32m[INFO    ][SteepestAscentDirectionCT] --- Current step: 6700\tResidual: 3408.7663756595825\tDet: 2.3423082892977486e+28 (direction.py:68)\u001b[0m\n",
      "\u001b[32m[INFO    ][SteepestAscentDirectionCT] --- stepsize chosen by line_search: 1.5580691000272057e-07 (steepestascent.py:37)\u001b[0m\n",
      "\u001b[32m[INFO    ][SteepestAscentDirectionCT] --- Current step: 6800\tResidual: 3408.7654856000113\tDet: 2.342308453847278e+28 (direction.py:68)\u001b[0m\n",
      "\u001b[32m[INFO    ][SteepestAscentDirectionCT] --- stepsize chosen by line_search: 1.5572315635746318e-07 (steepestascent.py:37)\u001b[0m\n",
      "\u001b[32m[INFO    ][SteepestAscentDirectionCT] --- Current step: 6900\tResidual: 3408.7645951265868\tDet: 2.3423086165912058e+28 (direction.py:68)\u001b[0m\n",
      "\u001b[32m[INFO    ][SteepestAscentDirectionCT] --- stepsize chosen by line_search: 1.556429731740659e-07 (steepestascent.py:37)\u001b[0m\n",
      "\u001b[32m[INFO    ][SteepestAscentDirectionCT] --- Current step: 7000\tResidual: 3408.7637042635333\tDet: 2.3423087789527814e+28 (direction.py:68)\u001b[0m\n",
      "\u001b[32m[INFO    ][SteepestAscentDirectionCT] --- stepsize chosen by line_search: 1.5554073982556284e-07 (steepestascent.py:37)\u001b[0m\n",
      "\u001b[32m[INFO    ][SteepestAscentDirectionCT] --- Current step: 7100\tResidual: 3408.762813085743\tDet: 2.342308937850654e+28 (direction.py:68)\u001b[0m\n",
      "\u001b[32m[INFO    ][SteepestAscentDirectionCT] --- stepsize chosen by line_search: 1.5544949992661652e-07 (steepestascent.py:37)\u001b[0m\n",
      "\u001b[32m[INFO    ][SteepestAscentDirectionCT] --- Current step: 7200\tResidual: 3408.7619215924565\tDet: 2.3423090966884637e+28 (direction.py:68)\u001b[0m\n",
      "\u001b[32m[INFO    ][SteepestAscentDirectionCT] --- stepsize chosen by line_search: 1.5535655093587825e-07 (steepestascent.py:37)\u001b[0m\n",
      "\u001b[32m[INFO    ][SteepestAscentDirectionCT] --- Current step: 7300\tResidual: 3408.761029778297\tDet: 2.3423092597438215e+28 (direction.py:68)\u001b[0m\n",
      "\u001b[32m[INFO    ][SteepestAscentDirectionCT] --- stepsize chosen by line_search: 1.552532100380011e-07 (steepestascent.py:37)\u001b[0m\n",
      "\u001b[32m[INFO    ][SteepestAscentDirectionCT] --- Current step: 7400\tResidual: 3408.760137699608\tDet: 2.342309415998717e+28 (direction.py:68)\u001b[0m\n",
      "\u001b[32m[INFO    ][SteepestAscentDirectionCT] --- stepsize chosen by line_search: 1.5517139515838464e-07 (steepestascent.py:37)\u001b[0m\n",
      "\u001b[32m[INFO    ][SteepestAscentDirectionCT] --- Current step: 7500\tResidual: 3408.7592452693407\tDet: 2.3423095797612507e+28 (direction.py:68)\u001b[0m\n",
      "\u001b[32m[INFO    ][SteepestAscentDirectionCT] --- stepsize chosen by line_search: 1.5508593250567738e-07 (steepestascent.py:37)\u001b[0m\n",
      "\u001b[32m[INFO    ][SteepestAscentDirectionCT] --- Current step: 7600\tResidual: 3408.758352542694\tDet: 2.342309737976139e+28 (direction.py:68)\u001b[0m\n",
      "\u001b[32m[INFO    ][SteepestAscentDirectionCT] --- stepsize chosen by line_search: 1.5499424448405165e-07 (steepestascent.py:37)\u001b[0m\n",
      "\u001b[32m[INFO    ][SteepestAscentDirectionCT] --- Current step: 7700\tResidual: 3408.757459513869\tDet: 2.3423098985863863e+28 (direction.py:68)\u001b[0m\n",
      "\u001b[32m[INFO    ][SteepestAscentDirectionCT] --- stepsize chosen by line_search: 1.5491435238878684e-07 (steepestascent.py:37)\u001b[0m\n",
      "\u001b[32m[INFO    ][SteepestAscentDirectionCT] --- Current step: 7800\tResidual: 3408.7565661797744\tDet: 2.342310060139272e+28 (direction.py:68)\u001b[0m\n",
      "\u001b[32m[INFO    ][SteepestAscentDirectionCT] --- stepsize chosen by line_search: 1.5482374822684513e-07 (steepestascent.py:37)\u001b[0m\n",
      "\u001b[32m[INFO    ][SteepestAscentDirectionCT] --- Current step: 7900\tResidual: 3408.755672599549\tDet: 2.3423102181235775e+28 (direction.py:68)\u001b[0m\n",
      "\u001b[32m[INFO    ][SteepestAscentDirectionCT] --- stepsize chosen by line_search: 1.547432495344233e-07 (steepestascent.py:37)\u001b[0m\n",
      "\u001b[32m[INFO    ][SteepestAscentDirectionCT] --- Current step: 8000\tResidual: 3408.754778673518\tDet: 2.342310379902568e+28 (direction.py:68)\u001b[0m\n",
      "\u001b[32m[INFO    ][SteepestAscentDirectionCT] --- stepsize chosen by line_search: 1.546812159155026e-07 (steepestascent.py:37)\u001b[0m\n",
      "\u001b[32m[INFO    ][SteepestAscentDirectionCT] --- Current step: 8100\tResidual: 3408.753884435072\tDet: 2.3423105405470206e+28 (direction.py:68)\u001b[0m\n",
      "\u001b[32m[INFO    ][SteepestAscentDirectionCT] --- stepsize chosen by line_search: 1.5459304900065585e-07 (steepestascent.py:37)\u001b[0m\n",
      "\u001b[32m[INFO    ][SteepestAscentDirectionCT] --- Current step: 8200\tResidual: 3408.7529899609026\tDet: 2.3423106992609927e+28 (direction.py:68)\u001b[0m\n"
     ]
    },
    {
     "name": "stdout",
     "output_type": "stream",
     "text": [
      "\u001b[32m[INFO    ][SteepestAscentDirectionCT] --- stepsize chosen by line_search: 1.5450692011420587e-07 (steepestascent.py:37)\u001b[0m\n",
      "\u001b[32m[INFO    ][SteepestAscentDirectionCT] --- Current step: 8300\tResidual: 3408.7520952118125\tDet: 2.3423108573193974e+28 (direction.py:68)\u001b[0m\n",
      "\u001b[32m[INFO    ][SteepestAscentDirectionCT] --- stepsize chosen by line_search: 1.544292640430515e-07 (steepestascent.py:37)\u001b[0m\n",
      "\u001b[32m[INFO    ][SteepestAscentDirectionCT] --- Current step: 8400\tResidual: 3408.7512002096423\tDet: 2.342311015423096e+28 (direction.py:68)\u001b[0m\n",
      "\u001b[32m[INFO    ][SteepestAscentDirectionCT] --- stepsize chosen by line_search: 1.5434609438571143e-07 (steepestascent.py:37)\u001b[0m\n",
      "\u001b[32m[INFO    ][SteepestAscentDirectionCT] --- Current step: 8500\tResidual: 3408.7503049950337\tDet: 2.342311173648434e+28 (direction.py:68)\u001b[0m\n",
      "\u001b[32m[INFO    ][SteepestAscentDirectionCT] --- stepsize chosen by line_search: 1.5426909505507751e-07 (steepestascent.py:37)\u001b[0m\n",
      "\u001b[32m[INFO    ][SteepestAscentDirectionCT] --- Current step: 8600\tResidual: 3408.7494095201796\tDet: 2.342311332833043e+28 (direction.py:68)\u001b[0m\n",
      "\u001b[32m[INFO    ][SteepestAscentDirectionCT] --- stepsize chosen by line_search: 1.541871055275189e-07 (steepestascent.py:37)\u001b[0m\n",
      "\u001b[32m[INFO    ][SteepestAscentDirectionCT] --- Current step: 8700\tResidual: 3408.7485138280417\tDet: 2.342311493540496e+28 (direction.py:68)\u001b[0m\n",
      "\u001b[32m[INFO    ][SteepestAscentDirectionCT] --- stepsize chosen by line_search: 1.541137573919555e-07 (steepestascent.py:37)\u001b[0m\n",
      "\u001b[32m[INFO    ][SteepestAscentDirectionCT] --- Current step: 8800\tResidual: 3408.7476178893285\tDet: 2.342311649157411e+28 (direction.py:68)\u001b[0m\n",
      "\u001b[32m[INFO    ][SteepestAscentDirectionCT] --- stepsize chosen by line_search: 1.5403482571749224e-07 (steepestascent.py:37)\u001b[0m\n",
      "\u001b[32m[INFO    ][SteepestAscentDirectionCT] --- Current step: 8900\tResidual: 3408.746721784881\tDet: 2.342311807527677e+28 (direction.py:68)\u001b[0m\n",
      "\u001b[32m[INFO    ][SteepestAscentDirectionCT] --- stepsize chosen by line_search: 1.5394282978957108e-07 (steepestascent.py:37)\u001b[0m\n",
      "\u001b[32m[INFO    ][SteepestAscentDirectionCT] --- Current step: 9000\tResidual: 3408.745825517702\tDet: 2.3423119674731437e+28 (direction.py:68)\u001b[0m\n",
      "\u001b[32m[INFO    ][SteepestAscentDirectionCT] --- stepsize chosen by line_search: 1.5386114152721293e-07 (steepestascent.py:37)\u001b[0m\n",
      "\u001b[32m[INFO    ][SteepestAscentDirectionCT] --- Current step: 9100\tResidual: 3408.744929032295\tDet: 2.342312130207077e+28 (direction.py:68)\u001b[0m\n",
      "\u001b[32m[INFO    ][SteepestAscentDirectionCT] --- stepsize chosen by line_search: 1.5379332655698695e-07 (steepestascent.py:37)\u001b[0m\n",
      "\u001b[32m[INFO    ][SteepestAscentDirectionCT] --- Current step: 9200\tResidual: 3408.744032312207\tDet: 2.3423122824658484e+28 (direction.py:68)\u001b[0m\n",
      "\u001b[32m[INFO    ][SteepestAscentDirectionCT] --- stepsize chosen by line_search: 1.5371613671564592e-07 (steepestascent.py:37)\u001b[0m\n",
      "\u001b[32m[INFO    ][SteepestAscentDirectionCT] --- Current step: 9300\tResidual: 3408.743135385359\tDet: 2.342312444407578e+28 (direction.py:68)\u001b[0m\n",
      "\u001b[32m[INFO    ][SteepestAscentDirectionCT] --- stepsize chosen by line_search: 1.5364776081995675e-07 (steepestascent.py:37)\u001b[0m\n",
      "\u001b[32m[INFO    ][SteepestAscentDirectionCT] --- Current step: 9400\tResidual: 3408.742238220268\tDet: 2.3423125979573205e+28 (direction.py:68)\u001b[0m\n",
      "\u001b[32m[INFO    ][SteepestAscentDirectionCT] --- stepsize chosen by line_search: 1.5358439718051325e-07 (steepestascent.py:37)\u001b[0m\n",
      "\u001b[32m[INFO    ][SteepestAscentDirectionCT] --- Current step: 9500\tResidual: 3408.741340832986\tDet: 2.342312756208963e+28 (direction.py:68)\u001b[0m\n",
      "\u001b[32m[INFO    ][SteepestAscentDirectionCT] --- stepsize chosen by line_search: 1.5351609547845528e-07 (steepestascent.py:37)\u001b[0m\n",
      "\u001b[32m[INFO    ][SteepestAscentDirectionCT] --- Current step: 9600\tResidual: 3408.740443206977\tDet: 2.342312922170384e+28 (direction.py:68)\u001b[0m\n",
      "\u001b[32m[INFO    ][SteepestAscentDirectionCT] --- stepsize chosen by line_search: 1.534427869509093e-07 (steepestascent.py:37)\u001b[0m\n",
      "\u001b[32m[INFO    ][SteepestAscentDirectionCT] --- Current step: 9700\tResidual: 3408.73954539541\tDet: 2.3423130733812762e+28 (direction.py:68)\u001b[0m\n",
      "\u001b[32m[INFO    ][SteepestAscentDirectionCT] --- stepsize chosen by line_search: 1.5338343462780484e-07 (steepestascent.py:37)\u001b[0m\n",
      "\u001b[32m[INFO    ][SteepestAscentDirectionCT] --- Current step: 9800\tResidual: 3408.738647363877\tDet: 2.3423132329270466e+28 (direction.py:68)\u001b[0m\n",
      "\u001b[32m[INFO    ][SteepestAscentDirectionCT] --- stepsize chosen by line_search: 1.5330983327479e-07 (steepestascent.py:37)\u001b[0m\n",
      "\u001b[32m[INFO    ][SteepestAscentDirectionCT] --- Current step: 9900\tResidual: 3408.7377491317407\tDet: 2.3423133881865538e+28 (direction.py:68)\u001b[0m\n",
      "\u001b[32m[INFO    ][SteepestAscentDirectionCT] --- stepsize chosen by line_search: 1.532458668969779e-07 (steepestascent.py:37)\u001b[0m\n",
      "\u001b[32m[INFO    ][SteepestAscentDirectionCT] --- Current step: 10000\tResidual: 3408.7368506700886\tDet: 2.342313541408781e+28 (direction.py:68)\u001b[0m\n",
      "\u001b[31m[ERROR   ][SteepestAscentDirectionCT] --- Computation failed. Maximal number of steps reached. (direction.py:128)\u001b[0m\n",
      "\u001b[01;31m[CRITICAL][SteepestAscentDirectionCT] --- Computation of Analytic center was  not successful (direction.py:160)\u001b[0m\n"
     ]
    },
    {
     "data": {
      "text/plain": [
       "(<analyticcenter.algorithm.analyticcenter.AnalyticCenter at 0x7f14dccdc8d0>,\n",
       " False)"
      ]
     },
     "execution_count": 10,
     "metadata": {},
     "output_type": "execute_result"
    }
   ],
   "source": [
    "alg_steepest_ascent = get_algorithm_object(sys, 'steepestascent', discrete_time=False, save_intermediate=True)\n",
    "alg_steepest_ascent.abs_tol = 10e-1\n",
    "alg_steepest_ascent.maxiter = 10000\n",
    "X0=alg_newton.intermediate_X[8]\n",
    "alg_steepest_ascent(X0=X0)"
   ]
  },
  {
   "cell_type": "code",
   "execution_count": 11,
   "metadata": {
    "scrolled": true
   },
   "outputs": [
    {
     "data": {
      "image/png": "[encoded data removed]",
      "text/plain": [
       "<Figure size 432x288 with 1 Axes>"
      ]
     },
     "metadata": {
      "needs_background": "light"
     },
     "output_type": "display_data"
    },
    {
     "data": {
      "image/png": "[encoded data removed]",
      "text/plain": [
       "<Figure size 432x288 with 1 Axes>"
      ]
     },
     "metadata": {
      "needs_background": "light"
     },
     "output_type": "display_data"
    }
   ],
   "source": [
    "log_log_direction(alg_steepest_ascent.intermediate_X, alg_steepest_ascent.intermediate_det, X_final=np.array(alg_newton.intermediate_X[-1]), det_final=alg_newton.intermediate_det[-1])"
   ]
  },
  {
   "cell_type": "code",
   "execution_count": 25,
   "metadata": {},
   "outputs": [
    {
     "data": {
      "text/plain": [
       "((0, 9, 99, 999, 9999),\n",
       " array([0.86808524, 0.86808523, 0.86808522, 0.86808512, 0.86808428]),\n",
       " array([0.72171198, 0.72171198, 0.72171197, 0.72171194, 0.7217116 ]))"
      ]
     },
     "execution_count": 25,
     "metadata": {},
     "output_type": "execute_result"
    }
   ],
   "source": [
    "tabular_data(alg_steepest_ascent.intermediate_X, alg_steepest_ascent.intermediate_det, X_final=np.array(alg_newton.intermediate_X[-1]), det_final=alg_newton.intermediate_det[-1])"
   ]
  }
 ],
 "metadata": {
  "kernelspec": {
   "display_name": "Python (analyticcenter)",
   "language": "python",
   "name": "analyticcenter"
  },
  "language_info": {
   "codemirror_mode": {
    "name": "ipython",
    "version": 3
   },
   "file_extension": ".py",
   "mimetype": "text/x-python",
   "name": "python",
   "nbconvert_exporter": "python",
   "pygments_lexer": "ipython3",
   "version": "3.6.8"
  }
 },
 "nbformat": 4,
 "nbformat_minor": 2
}
