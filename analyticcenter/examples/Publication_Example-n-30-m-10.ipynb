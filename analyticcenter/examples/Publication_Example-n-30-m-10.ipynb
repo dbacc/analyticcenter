{
 "cells": [
  {
   "cell_type": "markdown",
   "metadata": {},
   "source": [
    "This example file is intended to cover computations for the computations in the publication\n",
    "\n",
    "    Bankmann, D.; Mehrmann, V.; Nesterov, Y.; van Dooren, P., Analytic Center for the Passivity LMI, 2019"
   ]
  },
  {
   "cell_type": "markdown",
   "metadata": {},
   "source": [
    "# Initialization"
   ]
  },
  {
   "cell_type": "code",
   "execution_count": 1,
   "metadata": {
    "scrolled": true
   },
   "outputs": [
    {
     "data": {
      "text/plain": [
       "array([-1.52122444e+02, -5.41057587e+00, -4.51118640e+00, -4.04647716e+00, -3.43730019e+00, -3.20461118e+00, -2.97444371e+00, -2.69012010e+00, -2.34853032e+00, -2.14555476e+00, -2.01177581e+00,\n",
       "       -1.78595776e+00, -1.64092618e+00, -1.50025832e+00, -1.40517192e+00, -1.10265093e+00, -1.02176322e+00, -8.52622412e-01, -7.65973179e-01, -7.28797352e-01, -6.69615592e-01, -5.68515821e-01,\n",
       "       -5.61545030e-01, -4.13063586e-01, -4.05924051e-01, -2.58237793e-01, -1.74338416e-01, -1.33173996e-01, -1.08110819e-01, -4.66234931e-02])"
      ]
     },
     "execution_count": 1,
     "metadata": {},
     "output_type": "execute_result"
    }
   ],
   "source": [
    "import logging\n",
    "import numpy as np\n",
    "from os.path import join, dirname\n",
    "from analyticcenter import WeightedSystem, get_algorithm_object\n",
    "from analyticcenter.visualize import log_log_direction\n",
    "from analyticcenter.examples.example4 import sys\n",
    "import numpy as np\n",
    "np.linalg.eigh(sys.A)[0]"
   ]
  },
  {
   "cell_type": "markdown",
   "metadata": {},
   "source": [
    "# Computation of analytic center with the newton approach."
   ]
  },
  {
   "cell_type": "code",
   "execution_count": 2,
   "metadata": {
    "scrolled": true
   },
   "outputs": [
    {
     "name": "stdout",
     "output_type": "stream",
     "text": [
      "True\n",
      "\u001b[32m[INFO    ][analyticcenter.algorithm.riccatioperator] --- System is stable (riccatioperator.py:243)\u001b[0m\n",
      "\u001b[32m[INFO    ][analyticcenter.algorithm.riccatioperator] --- System is controllable. (riccatioperator.py:263)\u001b[0m\n",
      "\u001b[32m[INFO    ][analyticcenter.algorithm.riccatioperator] --- System is passive, if also stable (riccatioperator.py:280)\u001b[0m\n",
      "\u001b[32m[INFO    ][NewtonDirectionMultipleDimensionsCT] --- Computing Analytic Center with NewtonMDCT approach (direction.py:151)\u001b[0m\n",
      "\u001b[32m[INFO    ][InitialXCT] --- Computing initial X (initialization.py:57)\u001b[0m\n",
      "\u001b[32m[INFO    ][InitialXCT] --- Computed initial guess with geometric mean approach.\n",
      "det(H(X0)) = 277.1098932079061 (initialization.py:67)\u001b[0m\n",
      "\u001b[32m[INFO    ][InitialXCT] --- Computed initial guess with bisection approach.\n",
      "det(H(X0)) = 4.578080216053577e-159 (initialization.py:78)\u001b[0m\n",
      "\u001b[32m[INFO    ][InitialXCT] --- Taking solution computed with geometric mean approach (initialization.py:85)\u001b[0m\n",
      "\u001b[32m[INFO    ][NewtonDirectionMultipleDimensionsCT] --- Current step: 0\tResidual: 235.71930021086197\tDet: 277.1098964087458 (direction.py:69)\u001b[0m\n",
      "\u001b[32m[INFO    ][NewtonDirectionMultipleDimensionsCT] --- In linearly converging phase (newton.py:62)\u001b[0m\n",
      "\u001b[32m[INFO    ][NewtonDirectionMultipleDimensionsCT] --- Current step: 1\tResidual: 239.49666960633562\tDet: 387800547.5062585 (direction.py:69)\u001b[0m\n",
      "\u001b[32m[INFO    ][NewtonDirectionMultipleDimensionsCT] --- In linearly converging phase (newton.py:62)\u001b[0m\n",
      "\u001b[32m[INFO    ][NewtonDirectionMultipleDimensionsCT] --- Current step: 2\tResidual: 405.9908203331181\tDet: 48102654333874.76 (direction.py:69)\u001b[0m\n",
      "\u001b[32m[INFO    ][NewtonDirectionMultipleDimensionsCT] --- In linearly converging phase (newton.py:62)\u001b[0m\n",
      "\u001b[32m[INFO    ][NewtonDirectionMultipleDimensionsCT] --- Current step: 3\tResidual: 679.1268443609956\tDet: 7.428052253603101e+17 (direction.py:69)\u001b[0m\n",
      "\u001b[32m[INFO    ][NewtonDirectionMultipleDimensionsCT] --- In linearly converging phase (newton.py:62)\u001b[0m\n",
      "\u001b[32m[INFO    ][NewtonDirectionMultipleDimensionsCT] --- Current step: 4\tResidual: 1076.3182420239775\tDet: 1.939398936208646e+21 (direction.py:69)\u001b[0m\n",
      "\u001b[32m[INFO    ][NewtonDirectionMultipleDimensionsCT] --- In linearly converging phase (newton.py:62)\u001b[0m\n",
      "\u001b[32m[INFO    ][NewtonDirectionMultipleDimensionsCT] --- Current step: 5\tResidual: 1581.0594472402427\tDet: 1.0084415593342622e+24 (direction.py:69)\u001b[0m\n",
      "\u001b[32m[INFO    ][NewtonDirectionMultipleDimensionsCT] --- In linearly converging phase (newton.py:62)\u001b[0m\n",
      "\u001b[32m[INFO    ][NewtonDirectionMultipleDimensionsCT] --- Current step: 6\tResidual: 2167.9022599358564\tDet: 1.0575728993755565e+26 (direction.py:69)\u001b[0m\n",
      "\u001b[32m[INFO    ][NewtonDirectionMultipleDimensionsCT] --- In linearly converging phase (newton.py:62)\u001b[0m\n",
      "\u001b[32m[INFO    ][NewtonDirectionMultipleDimensionsCT] --- Current step: 7\tResidual: 2832.536945132987\tDet: 2.688231697489451e+27 (direction.py:69)\u001b[0m\n",
      "\u001b[32m[INFO    ][NewtonDirectionMultipleDimensionsCT] --- In linearly converging phase (newton.py:62)\u001b[0m\n",
      "\u001b[32m[INFO    ][NewtonDirectionMultipleDimensionsCT] --- Current step: 8\tResidual: 3408.823054648346\tDet: 2.342296637872919e+28 (direction.py:69)\u001b[0m\n",
      "\u001b[32m[INFO    ][NewtonDirectionMultipleDimensionsCT] --- In linearly converging phase (newton.py:62)\u001b[0m\n",
      "\u001b[32m[INFO    ][NewtonDirectionMultipleDimensionsCT] --- Current step: 9\tResidual: 3296.7632247458187\tDet: 8.633738647791093e+28 (direction.py:69)\u001b[0m\n",
      "\u001b[32m[INFO    ][NewtonDirectionMultipleDimensionsCT] --- In linearly converging phase (newton.py:62)\u001b[0m\n",
      "\u001b[32m[INFO    ][NewtonDirectionMultipleDimensionsCT] --- Current step: 10\tResidual: 2287.604262405946\tDet: 1.5302235571104876e+29 (direction.py:69)\u001b[0m\n",
      "\u001b[32m[INFO    ][NewtonDirectionMultipleDimensionsCT] --- In linearly converging phase (newton.py:62)\u001b[0m\n",
      "\u001b[32m[INFO    ][NewtonDirectionMultipleDimensionsCT] --- Current step: 11\tResidual: 851.1133503975215\tDet: 1.7570634044755894e+29 (direction.py:69)\u001b[0m\n",
      "\u001b[32m[INFO    ][NewtonDirectionMultipleDimensionsCT] --- In quadratically converging phase (newton.py:66)\u001b[0m\n",
      "\u001b[32m[INFO    ][NewtonDirectionMultipleDimensionsCT] --- Current step: 12\tResidual: 76.64643518192526\tDet: 1.7755014136756374e+29 (direction.py:69)\u001b[0m\n",
      "\u001b[32m[INFO    ][NewtonDirectionMultipleDimensionsCT] --- In quadratically converging phase (newton.py:66)\u001b[0m\n",
      "\u001b[32m[INFO    ][NewtonDirectionMultipleDimensionsCT] --- Current step: 13\tResidual: 0.47578412648606505\tDet: 1.775613692600572e+29 (direction.py:69)\u001b[0m\n",
      "\u001b[32m[INFO    ][NewtonDirectionMultipleDimensionsCT] --- In quadratically converging phase (newton.py:66)\u001b[0m\n",
      "\u001b[32m[INFO    ][NewtonDirectionMultipleDimensionsCT] --- Current step: 14\tResidual: 1.838142012434877e-05\tDet: 1.7756136922540728e+29 (direction.py:69)\u001b[0m\n",
      "\u001b[32m[INFO    ][NewtonDirectionMultipleDimensionsCT] --- In quadratically converging phase (newton.py:66)\u001b[0m\n",
      "\u001b[32m[INFO    ][NewtonDirectionMultipleDimensionsCT] --- Current step: 15\tResidual: 4.112469814742221e-10\tDet: 1.775613702637052e+29 (direction.py:69)\u001b[0m\n",
      "\u001b[32m[INFO    ][NewtonDirectionMultipleDimensionsCT] --- Computation of Analytic center with NewtonMDCT approach was successful (direction.py:154)\u001b[0m\n"
     ]
    }
   ],
   "source": [
    "print(__debug__)\n",
    "logger = logging.getLogger()\n",
    "\n",
    "alg_newton = get_algorithm_object(sys, 'newton', discrete_time=False, save_intermediate=True)\n",
    "(ac_newton, success) = alg_newton()"
   ]
  },
  {
   "cell_type": "code",
   "execution_count": 3,
   "metadata": {},
   "outputs": [
    {
     "name": "stdout",
     "output_type": "stream",
     "text": [
      "\u001b[32m[INFO    ][analyticcenter.algorithm.riccatioperator] --- System is stable (riccatioperator.py:243)\u001b[0m\n",
      "\u001b[32m[INFO    ][NewtonDirectionMultipleDimensionsDT] --- Computing Analytic Center with Newton approach (direction.py:151)\u001b[0m\n",
      "\u001b[32m[INFO    ][InitialXDT] --- Computing initial X (initialization.py:57)\u001b[0m\n",
      "\u001b[32m[INFO    ][InitialXDT] --- Computed initial guess with geometric mean approach.\n",
      "det(H(X0)) = 1.8809350476851345e-14 (initialization.py:67)\u001b[0m\n",
      "\u001b[32m[INFO    ][InitialXDT] --- Computed initial guess with bisection approach.\n",
      "det(H(X0)) = 6.850533243108757e-162 (initialization.py:78)\u001b[0m\n",
      "\u001b[32m[INFO    ][InitialXDT] --- Taking solution computed with geometric mean approach (initialization.py:85)\u001b[0m\n",
      "\u001b[32m[INFO    ][NewtonDirectionMultipleDimensionsDT] --- Current step: 0\tResidual: 5.477225574936818\tDet: 1.880935047679179e-14 (direction.py:69)\u001b[0m\n",
      "\u001b[32m[INFO    ][NewtonDirectionMultipleDimensionsDT] --- In linearly converging phase (newton.py:62)\u001b[0m\n",
      "\u001b[32m[INFO    ][NewtonDirectionMultipleDimensionsDT] --- Current step: 1\tResidual: 3.83584032253448\tDet: 1.0016920630589447e-07 (direction.py:69)\u001b[0m\n",
      "\u001b[32m[INFO    ][NewtonDirectionMultipleDimensionsDT] --- In linearly converging phase (newton.py:62)\u001b[0m\n",
      "\u001b[32m[INFO    ][NewtonDirectionMultipleDimensionsDT] --- Current step: 2\tResidual: 1.174113858902167\tDet: 0.05697292346854661 (direction.py:69)\u001b[0m\n",
      "\u001b[32m[INFO    ][NewtonDirectionMultipleDimensionsDT] --- In linearly converging phase (newton.py:62)\u001b[0m\n",
      "\u001b[32m[INFO    ][NewtonDirectionMultipleDimensionsDT] --- Current step: 3\tResidual: 0.5242991297478214\tDet: 3386.1068921088436 (direction.py:69)\u001b[0m\n",
      "\u001b[32m[INFO    ][NewtonDirectionMultipleDimensionsDT] --- In linearly converging phase (newton.py:62)\u001b[0m\n",
      "\u001b[32m[INFO    ][NewtonDirectionMultipleDimensionsDT] --- Current step: 4\tResidual: 0.23170753343163714\tDet: 27590428.450213738 (direction.py:69)\u001b[0m\n",
      "\u001b[32m[INFO    ][NewtonDirectionMultipleDimensionsDT] --- In linearly converging phase (newton.py:62)\u001b[0m\n",
      "\u001b[32m[INFO    ][NewtonDirectionMultipleDimensionsDT] --- Current step: 5\tResidual: 0.10493834022543942\tDet: 38318555848.58534 (direction.py:69)\u001b[0m\n",
      "\u001b[32m[INFO    ][NewtonDirectionMultipleDimensionsDT] --- In linearly converging phase (newton.py:62)\u001b[0m\n",
      "\u001b[32m[INFO    ][NewtonDirectionMultipleDimensionsDT] --- Current step: 6\tResidual: 0.04697487291668679\tDet: 9967021738718.92 (direction.py:69)\u001b[0m\n",
      "\u001b[32m[INFO    ][NewtonDirectionMultipleDimensionsDT] --- In linearly converging phase (newton.py:62)\u001b[0m\n",
      "\u001b[32m[INFO    ][NewtonDirectionMultipleDimensionsDT] --- Current step: 7\tResidual: 0.021798225745307712\tDet: 537438801949937.9 (direction.py:69)\u001b[0m\n",
      "\u001b[32m[INFO    ][NewtonDirectionMultipleDimensionsDT] --- In linearly converging phase (newton.py:62)\u001b[0m\n",
      "\u001b[32m[INFO    ][NewtonDirectionMultipleDimensionsDT] --- Current step: 8\tResidual: 0.011684714055217808\tDet: 8175537361320671.0 (direction.py:69)\u001b[0m\n",
      "\u001b[32m[INFO    ][NewtonDirectionMultipleDimensionsDT] --- In linearly converging phase (newton.py:62)\u001b[0m\n",
      "\u001b[32m[INFO    ][NewtonDirectionMultipleDimensionsDT] --- Current step: 9\tResidual: 0.006812101063805376\tDet: 4.715673499962596e+16 (direction.py:69)\u001b[0m\n",
      "\u001b[32m[INFO    ][NewtonDirectionMultipleDimensionsDT] --- In linearly converging phase (newton.py:62)\u001b[0m\n",
      "\u001b[32m[INFO    ][NewtonDirectionMultipleDimensionsDT] --- Current step: 10\tResidual: 0.005225196909302096\tDet: 1.197039226020364e+17 (direction.py:69)\u001b[0m\n",
      "\u001b[32m[INFO    ][NewtonDirectionMultipleDimensionsDT] --- In linearly converging phase (newton.py:62)\u001b[0m\n",
      "\u001b[32m[INFO    ][NewtonDirectionMultipleDimensionsDT] --- Current step: 11\tResidual: 0.002927833114950061\tDet: 1.6643812270002074e+17 (direction.py:69)\u001b[0m\n",
      "\u001b[32m[INFO    ][NewtonDirectionMultipleDimensionsDT] --- In quadratically converging phase (newton.py:66)\u001b[0m\n",
      "\u001b[32m[INFO    ][NewtonDirectionMultipleDimensionsDT] --- Current step: 12\tResidual: 0.0005908949930427668\tDet: 1.7690045575466784e+17 (direction.py:69)\u001b[0m\n",
      "\u001b[32m[INFO    ][NewtonDirectionMultipleDimensionsDT] --- In quadratically converging phase (newton.py:66)\u001b[0m\n",
      "\u001b[32m[INFO    ][NewtonDirectionMultipleDimensionsDT] --- Current step: 13\tResidual: 4.795954951724223e-06\tDet: 1.7755185568557056e+17 (direction.py:69)\u001b[0m\n",
      "\u001b[32m[INFO    ][NewtonDirectionMultipleDimensionsDT] --- In quadratically converging phase (newton.py:66)\u001b[0m\n",
      "\u001b[32m[INFO    ][NewtonDirectionMultipleDimensionsDT] --- Current step: 14\tResidual: 9.53570192694679e-07\tDet: 1.775554555053293e+17 (direction.py:69)\u001b[0m\n",
      "\u001b[32m[INFO    ][NewtonDirectionMultipleDimensionsDT] --- In quadratically converging phase (newton.py:66)\u001b[0m\n",
      "\u001b[32m[INFO    ][NewtonDirectionMultipleDimensionsDT] --- Current step: 15\tResidual: 9.623781248048064e-07\tDet: 1.7755545563449763e+17 (direction.py:69)\u001b[0m\n",
      "\u001b[32m[INFO    ][NewtonDirectionMultipleDimensionsDT] --- Computation of Analytic center with Newton approach was successful (direction.py:154)\u001b[0m\n"
     ]
    }
   ],
   "source": [
    "sys_disc = sys.bilinear_discretization()\n",
    "\n",
    "alg_newton_disc = get_algorithm_object(sys_disc, 'newton', discrete_time=True, save_intermediate=True)\n",
    "(ac_newton_disc, success) = alg_newton_disc()"
   ]
  },
  {
   "cell_type": "markdown",
   "metadata": {},
   "source": [
    "# Properties of solutions\n",
    "## Difference\n",
    "The solutions should be identical in theory. They differ a bit due to roundoff errors."
   ]
  },
  {
   "cell_type": "code",
   "execution_count": 16,
   "metadata": {},
   "outputs": [
    {
     "name": "stdout",
     "output_type": "stream",
     "text": [
      "scaled difference =  8.024650142304834e-08\n"
     ]
    }
   ],
   "source": [
    " print(\"scaled difference = \", np.linalg.norm((ac_newton.X - ac_newton_disc.X )/ac_newton.X)) \n"
   ]
  },
  {
   "cell_type": "markdown",
   "metadata": {},
   "source": [
    "## Centered realizations\n",
    "A centered realization with the analytic center solution `X` has the identity as interior point. However, also here, the geometric mean approach is superior"
   ]
  },
  {
   "cell_type": "code",
   "execution_count": 15,
   "metadata": {},
   "outputs": [
    {
     "name": "stdout",
     "output_type": "stream",
     "text": [
      "\u001b[32m[INFO    ][analyticcenter.algorithm.riccatioperator] --- System is stable (riccatioperator.py:243)\u001b[0m\n",
      "\u001b[32m[INFO    ][analyticcenter.algorithm.riccatioperator] --- System is controllable. (riccatioperator.py:263)\u001b[0m\n",
      "\u001b[32m[INFO    ][analyticcenter.algorithm.riccatioperator] --- System is passive, if also stable (riccatioperator.py:280)\u001b[0m\n",
      "\u001b[32m[INFO    ][NewtonDirectionMultipleDimensionsCT] --- Computing Analytic Center with NewtonMDCT approach (direction.py:151)\u001b[0m\n",
      "\u001b[32m[INFO    ][InitialXCT] --- Computing initial X (initialization.py:57)\u001b[0m\n",
      "\u001b[32m[INFO    ][InitialXCT] --- Computed initial guess with geometric mean approach.\n",
      "det(H(X0)) = 4.2194379594594075e-33 (initialization.py:67)\u001b[0m\n",
      "\u001b[32m[INFO    ][InitialXCT] --- Computed initial guess with bisection approach.\n",
      "det(H(X0)) = 6.972049864850732e-194 (initialization.py:78)\u001b[0m\n",
      "\u001b[32m[INFO    ][InitialXCT] --- Taking solution computed with geometric mean approach (initialization.py:85)\u001b[0m\n",
      "\u001b[32m[INFO    ][NewtonDirectionMultipleDimensionsCT] --- Current step: 0\tResidual: 145.63641198187932\tDet: 4.219437960137756e-33 (direction.py:69)\u001b[0m\n",
      "\u001b[32m[INFO    ][NewtonDirectionMultipleDimensionsCT] --- In linearly converging phase (newton.py:62)\u001b[0m\n",
      "\u001b[32m[INFO    ][NewtonDirectionMultipleDimensionsCT] --- Current step: 1\tResidual: 38.25561653648627\tDet: 5.904878796439934e-27 (direction.py:69)\u001b[0m\n",
      "\u001b[32m[INFO    ][NewtonDirectionMultipleDimensionsCT] --- In linearly converging phase (newton.py:62)\u001b[0m\n",
      "\u001b[32m[INFO    ][NewtonDirectionMultipleDimensionsCT] --- Current step: 2\tResidual: 29.28313538016901\tDet: 7.324392539055011e-22 (direction.py:69)\u001b[0m\n",
      "\u001b[32m[INFO    ][NewtonDirectionMultipleDimensionsCT] --- In linearly converging phase (newton.py:62)\u001b[0m\n",
      "\u001b[32m[INFO    ][NewtonDirectionMultipleDimensionsCT] --- Current step: 3\tResidual: 22.115906989612725\tDet: 1.1310388428079366e-17 (direction.py:69)\u001b[0m\n",
      "\u001b[32m[INFO    ][NewtonDirectionMultipleDimensionsCT] --- In linearly converging phase (newton.py:62)\u001b[0m\n",
      "\u001b[32m[INFO    ][NewtonDirectionMultipleDimensionsCT] --- Current step: 4\tResidual: 22.079130166116627\tDet: 2.9530426745147466e-14 (direction.py:69)\u001b[0m\n",
      "\u001b[32m[INFO    ][NewtonDirectionMultipleDimensionsCT] --- In linearly converging phase (newton.py:62)\u001b[0m\n",
      "\u001b[32m[INFO    ][NewtonDirectionMultipleDimensionsCT] --- Current step: 5\tResidual: 19.974966388573453\tDet: 1.5355123199786363e-11 (direction.py:69)\u001b[0m\n",
      "\u001b[32m[INFO    ][NewtonDirectionMultipleDimensionsCT] --- In linearly converging phase (newton.py:62)\u001b[0m\n",
      "\u001b[32m[INFO    ][NewtonDirectionMultipleDimensionsCT] --- Current step: 6\tResidual: 15.264068496424175\tDet: 1.6103225817353606e-09 (direction.py:69)\u001b[0m\n",
      "\u001b[32m[INFO    ][NewtonDirectionMultipleDimensionsCT] --- In linearly converging phase (newton.py:62)\u001b[0m\n",
      "\u001b[32m[INFO    ][NewtonDirectionMultipleDimensionsCT] --- Current step: 7\tResidual: 11.143303639582177\tDet: 4.0932593987387596e-08 (direction.py:69)\u001b[0m\n",
      "\u001b[32m[INFO    ][NewtonDirectionMultipleDimensionsCT] --- In linearly converging phase (newton.py:62)\u001b[0m\n",
      "\u001b[32m[INFO    ][NewtonDirectionMultipleDimensionsCT] --- Current step: 8\tResidual: 9.1574452594905\tDet: 3.5665183702542973e-07 (direction.py:69)\u001b[0m\n",
      "\u001b[32m[INFO    ][NewtonDirectionMultipleDimensionsCT] --- In linearly converging phase (newton.py:62)\u001b[0m\n",
      "\u001b[32m[INFO    ][NewtonDirectionMultipleDimensionsCT] --- Current step: 9\tResidual: 7.718576563825688\tDet: 1.3146237338776681e-06 (direction.py:69)\u001b[0m\n",
      "\u001b[32m[INFO    ][NewtonDirectionMultipleDimensionsCT] --- In linearly converging phase (newton.py:62)\u001b[0m\n",
      "\u001b[32m[INFO    ][NewtonDirectionMultipleDimensionsCT] --- Current step: 10\tResidual: 4.96311125502932\tDet: 2.3300082342687917e-06 (direction.py:69)\u001b[0m\n",
      "\u001b[32m[INFO    ][NewtonDirectionMultipleDimensionsCT] --- In linearly converging phase (newton.py:62)\u001b[0m\n",
      "\u001b[32m[INFO    ][NewtonDirectionMultipleDimensionsCT] --- Current step: 11\tResidual: 1.5429296067826461\tDet: 2.6754078838940536e-06 (direction.py:69)\u001b[0m\n",
      "\u001b[32m[INFO    ][NewtonDirectionMultipleDimensionsCT] --- In quadratically converging phase (newton.py:66)\u001b[0m\n",
      "\u001b[32m[INFO    ][NewtonDirectionMultipleDimensionsCT] --- Current step: 12\tResidual: 0.13195055329860567\tDet: 2.7034827016835673e-06 (direction.py:69)\u001b[0m\n",
      "\u001b[32m[INFO    ][NewtonDirectionMultipleDimensionsCT] --- In quadratically converging phase (newton.py:66)\u001b[0m\n",
      "\u001b[32m[INFO    ][NewtonDirectionMultipleDimensionsCT] --- Current step: 13\tResidual: 0.0008762636625020286\tDet: 2.7036536559480808e-06 (direction.py:69)\u001b[0m\n",
      "\u001b[32m[INFO    ][NewtonDirectionMultipleDimensionsCT] --- In quadratically converging phase (newton.py:66)\u001b[0m\n",
      "\u001b[32m[INFO    ][NewtonDirectionMultipleDimensionsCT] --- Current step: 14\tResidual: 3.600460848639888e-08\tDet: 2.703653662592401e-06 (direction.py:69)\u001b[0m\n",
      "\u001b[32m[INFO    ][NewtonDirectionMultipleDimensionsCT] --- In quadratically converging phase (newton.py:66)\u001b[0m\n",
      "\u001b[32m[INFO    ][NewtonDirectionMultipleDimensionsCT] --- Current step: 15\tResidual: 5.821236167818988e-13\tDet: 2.7036536621403986e-06 (direction.py:69)\u001b[0m\n",
      "\u001b[32m[INFO    ][NewtonDirectionMultipleDimensionsCT] --- Computation of Analytic center with NewtonMDCT approach was successful (direction.py:154)\u001b[0m\n",
      "Eigenvalues of analytic center:\n",
      " [1. 1. 1. 1. 1. 1. 1. 1. 1. 1. 1. 1. 1. 1. 1. 1. 1. 1. 1. 1. 1. 1. 1. 1. 1. 1. 1. 1. 1. 1.]\n"
     ]
    }
   ],
   "source": [
    "centered_realization = ac_newton.centered_realization()\n",
    "alg_newton_centered = get_algorithm_object(centered_realization, 'newton', discrete_time=False, save_intermediate=True)\n",
    "(ac_newton_centered, success) = alg_newton_centered()\n",
    "print(\"Eigenvalues of analytic center:\\n\",np.linalg.eigh(ac_newton_centered.X)[0])"
   ]
  },
  {
   "cell_type": "markdown",
   "metadata": {},
   "source": [
    "## Final closed-loop matrix\n",
    "We recover the properties, that every eigenvalue of the continuous-time closed-loop matrix lies on the imaginary axis, while all eigenvalues in the discrete-time case lie inside the unit circle."
   ]
  },
  {
   "cell_type": "code",
   "execution_count": 7,
   "metadata": {},
   "outputs": [
    {
     "name": "stdout",
     "output_type": "stream",
     "text": [
      "maximal abs value of real parts of eigenvalues:\n",
      " 5.824923334472876e-13\n",
      "absolute values of evs of discrete closed-loop matrix:\n",
      " [0.99785611 0.99990452 0.97062008 0.97062008 0.94685901 0.8472432  0.8472432  0.71461054 0.67679616 0.60810103 0.4405096  0.4405096  0.31937987 0.26402578 0.09654606 0.05258612 0.98512968 0.19613111\n",
      " 0.26210781 0.82565883 0.72720662 0.72720662 0.73608902 0.60662519 0.60662519 0.43861105 0.60665525 0.52712241 0.52712241 0.54261952]\n"
     ]
    }
   ],
   "source": [
    "eigs = np.linalg.eig(ac_newton.A_F)[0]\n",
    "print(\"maximal abs value of real parts of eigenvalues:\\n\", np.max(np.abs(np.real(eigs))))\n",
    "eigs_disc = np.linalg.eig(ac_newton_disc.A_F)[0]\n",
    "print(\"absolute values of evs of discrete closed-loop matrix:\\n\", np.abs(eigs_disc))"
   ]
  },
  {
   "cell_type": "markdown",
   "metadata": {},
   "source": [
    "# Computation of characteristic values"
   ]
  },
  {
   "cell_type": "markdown",
   "metadata": {},
   "source": [
    "Compute the characterisic values, as in the paper 'Beattie, Mehrmann, van Dooren'.\n",
    "Note, that the values compared to the paper slightly changed, because of some improvements in the alogorithm and thus slightly different value for the analytic center."
   ]
  },
  {
   "cell_type": "code",
   "execution_count": 8,
   "metadata": {},
   "outputs": [
    {
     "name": "stdout",
     "output_type": "stream",
     "text": [
      "\u001b[32m[INFO    ][analyticcenter.algorithm.analyticcenter] --- Minimal eigenvalue of H(X): 5.9813944418671466e-05 (analyticcenter.py:36)\u001b[0m\n",
      "\u001b[32m[INFO    ][analyticcenter.algorithm.analyticcenter] --- Minimal eigenvalue of X-1 * H(X) * X^-1: 5.966939557811281e-05 (analyticcenter.py:46)\u001b[0m\n",
      "\u001b[32m[INFO    ][analyticcenter.algorithm.analyticcenter] --- Minimal eigenvalues of X^-.5 * H(X) * X^-.5: 5.974171472705722e-05 (analyticcenter.py:56)\u001b[0m\n",
      "\u001b[32m[INFO    ][analyticcenter.algorithm.analyticcenter] --- Minimal eigenvalues of R of the pH realization: 0.04679321644122288 (analyticcenter.py:65)\u001b[0m\n",
      "\u001b[32m[INFO    ][analyticcenter.algorithm.analyticcenter] --- Distance to stability is: (0.04281188879195924, 0.0) (analyticcenter.py:67)\u001b[0m\n"
     ]
    }
   ],
   "source": [
    "ac_newton.compute_characteristic_values()"
   ]
  },
  {
   "cell_type": "markdown",
   "metadata": {},
   "source": [
    "# Generate plot of the algorithm"
   ]
  },
  {
   "cell_type": "code",
   "execution_count": 6,
   "metadata": {},
   "outputs": [
    {
     "data": {
      "image/png": "[encoded data removed]",
      "text/plain": [
       "<matplotlib.figure.Figure at 0x1499da143080>"
      ]
     },
     "metadata": {
      "needs_background": "light"
     },
     "output_type": "display_data"
    },
    {
     "data": {
      "image/png": "[encoded data removed]",
      "text/plain": [
       "<matplotlib.figure.Figure at 0x1499d5b53780>"
      ]
     },
     "metadata": {
      "needs_background": "light"
     },
     "output_type": "display_data"
    }
   ],
   "source": [
    "log_log_direction(alg_newton.intermediate_X, alg_newton.intermediate_det)"
   ]
  },
  {
   "cell_type": "markdown",
   "metadata": {},
   "source": [
    "# Computation with steepest ascent approach"
   ]
  },
  {
   "cell_type": "markdown",
   "metadata": {},
   "source": [
    "*Warning*: This needs some time and does not even succeed in 20000 iterations, even though the determinant increases in every step."
   ]
  },
  {
   "cell_type": "code",
   "execution_count": 20,
   "metadata": {},
   "outputs": [
    {
     "name": "stdout",
     "output_type": "stream",
     "text": [
      "\u001b[32m[INFO    ][analyticcenter.algorithm.riccatioperator] --- System is stable (riccatioperator.py:243)\u001b[0m\n",
      "\u001b[32m[INFO    ][analyticcenter.algorithm.riccatioperator] --- System is controllable. (riccatioperator.py:263)\u001b[0m\n",
      "\u001b[32m[INFO    ][analyticcenter.algorithm.riccatioperator] --- System is passive, if also stable (riccatioperator.py:280)\u001b[0m\n",
      "\u001b[32m[INFO    ][SteepestAscentDirectionCT] --- Computing Analytic Center with Steepest Ascent approach (direction.py:151)\u001b[0m\n",
      "\u001b[32m[INFO    ][SteepestAscentDirectionCT] --- Current step: 0\tResidual: 3408.823054648346\tDet: 2.342296637872919e+28 (direction.py:69)\u001b[0m\n",
      "\u001b[32m[INFO    ][SteepestAscentDirectionCT] --- stepsize chosen by line_search: 2.0451098658105843e-07 (steepestascent.py:38)\u001b[0m\n",
      "\u001b[32m[INFO    ][SteepestAscentDirectionCT] --- Current step: 1\tResidual: 3408.8230459735782\tDet: 2.3422966418243186e+28 (direction.py:69)\u001b[0m\n",
      "\u001b[32m[INFO    ][SteepestAscentDirectionCT] --- stepsize chosen by line_search: 5.2861823170233837e-08 (steepestascent.py:38)\u001b[0m\n",
      "\u001b[32m[INFO    ][SteepestAscentDirectionCT] --- Current step: 2\tResidual: 3408.8230451126256\tDet: 2.342296647679588e+28 (direction.py:69)\u001b[0m\n",
      "\u001b[32m[INFO    ][SteepestAscentDirectionCT] --- stepsize chosen by line_search: 1.9786161631178013e-07 (steepestascent.py:38)\u001b[0m\n",
      "\u001b[32m[INFO    ][SteepestAscentDirectionCT] --- Current step: 3\tResidual: 3408.8230351532916\tDet: 2.342296651278613e+28 (direction.py:69)\u001b[0m\n",
      "\u001b[32m[INFO    ][SteepestAscentDirectionCT] --- stepsize chosen by line_search: 5.215703689839115e-08 (steepestascent.py:38)\u001b[0m\n",
      "\u001b[32m[INFO    ][SteepestAscentDirectionCT] --- Current step: 4\tResidual: 3408.823034257052\tDet: 2.342296654862191e+28 (direction.py:69)\u001b[0m\n",
      "\u001b[32m[INFO    ][SteepestAscentDirectionCT] --- stepsize chosen by line_search: 1.9608064847638146e-07 (steepestascent.py:38)\u001b[0m\n",
      "\u001b[32m[INFO    ][SteepestAscentDirectionCT] --- Current step: 5\tResidual: 3408.8230237689663\tDet: 2.3422966551309826e+28 (direction.py:69)\u001b[0m\n",
      "\u001b[32m[INFO    ][SteepestAscentDirectionCT] --- stepsize chosen by line_search: 5.1808069186769715e-08 (steepestascent.py:38)\u001b[0m\n",
      "\u001b[32m[INFO    ][SteepestAscentDirectionCT] --- Current step: 6\tResidual: 3408.8230228580956\tDet: 2.342296660431116e+28 (direction.py:69)\u001b[0m\n",
      "\u001b[32m[INFO    ][SteepestAscentDirectionCT] --- stepsize chosen by line_search: 1.9499845439459818e-07 (steepestascent.py:38)\u001b[0m\n",
      "\u001b[32m[INFO    ][SteepestAscentDirectionCT] --- Current step: 7\tResidual: 3408.823012149098\tDet: 2.3422966611436897e+28 (direction.py:69)\u001b[0m\n",
      "\u001b[32m[INFO    ][SteepestAscentDirectionCT] --- stepsize chosen by line_search: 5.155080637317902e-08 (steepestascent.py:38)\u001b[0m\n",
      "\u001b[32m[INFO    ][SteepestAscentDirectionCT] --- Current step: 8\tResidual: 3408.8230112317765\tDet: 2.3422966593059387e+28 (direction.py:69)\u001b[0m\n",
      "\u001b[32m[INFO    ][SteepestAscentDirectionCT] --- stepsize chosen by line_search: 1.9414372554667255e-07 (steepestascent.py:38)\u001b[0m\n",
      "\u001b[32m[INFO    ][SteepestAscentDirectionCT] --- Current step: 9\tResidual: 3408.82300041925\tDet: 2.342296660013035e+28 (direction.py:69)\u001b[0m\n",
      "\u001b[32m[INFO    ][SteepestAscentDirectionCT] --- stepsize chosen by line_search: 5.133807840366252e-08 (steepestascent.py:38)\u001b[0m\n",
      "\u001b[32m[INFO    ][SteepestAscentDirectionCT] --- Current step: 10\tResidual: 3408.8229994984736\tDet: 2.342296668591069e+28 (direction.py:69)\u001b[0m\n",
      "\u001b[32m[INFO    ][SteepestAscentDirectionCT] --- stepsize chosen by line_search: 1.9341994264393556e-07 (steepestascent.py:38)\u001b[0m\n",
      "\u001b[32m[INFO    ][SteepestAscentDirectionCT] --- Current step: 11\tResidual: 3408.822988626368\tDet: 2.342296671307524e+28 (direction.py:69)\u001b[0m\n",
      "\u001b[32m[INFO    ][SteepestAscentDirectionCT] --- stepsize chosen by line_search: 5.1155537169185725e-08 (steepestascent.py:38)\u001b[0m\n",
      "\u001b[32m[INFO    ][SteepestAscentDirectionCT] --- Current step: 12\tResidual: 3408.8229877032104\tDet: 2.3422966753485645e+28 (direction.py:69)\u001b[0m\n",
      "\u001b[32m[INFO    ][SteepestAscentDirectionCT] --- stepsize chosen by line_search: 1.9279172423176227e-07 (steepestascent.py:38)\u001b[0m\n",
      "\u001b[32m[INFO    ][SteepestAscentDirectionCT] --- Current step: 13\tResidual: 3408.822976787763\tDet: 2.3422966794559714e+28 (direction.py:69)\u001b[0m\n",
      "\u001b[32m[INFO    ][SteepestAscentDirectionCT] --- stepsize chosen by line_search: 5.0995800035900484e-08 (steepestascent.py:38)\u001b[0m\n",
      "\u001b[32m[INFO    ][SteepestAscentDirectionCT] --- Current step: 14\tResidual: 3408.8229758625876\tDet: 2.3422966760868734e+28 (direction.py:69)\u001b[0m\n",
      "\u001b[32m[INFO    ][SteepestAscentDirectionCT] --- stepsize chosen by line_search: 1.9223388586420962e-07 (steepestascent.py:38)\u001b[0m\n",
      "\u001b[32m[INFO    ][SteepestAscentDirectionCT] --- Current step: 15\tResidual: 3408.8229649098985\tDet: 2.342296675493146e+28 (direction.py:69)\u001b[0m\n",
      "\u001b[32m[INFO    ][SteepestAscentDirectionCT] --- stepsize chosen by line_search: 5.0853282636422284e-08 (steepestascent.py:38)\u001b[0m\n",
      "\u001b[32m[INFO    ][SteepestAscentDirectionCT] --- Current step: 16\tResidual: 3408.8229639827673\tDet: 2.3422966830974835e+28 (direction.py:69)\u001b[0m\n",
      "\u001b[32m[INFO    ][SteepestAscentDirectionCT] --- stepsize chosen by line_search: 1.9173239972960396e-07 (steepestascent.py:38)\u001b[0m\n",
      "\u001b[32m[INFO    ][SteepestAscentDirectionCT] --- Current step: 17\tResidual: 3408.8229529950377\tDet: 2.3422966832451066e+28 (direction.py:69)\u001b[0m\n",
      "\u001b[32m[INFO    ][SteepestAscentDirectionCT] --- stepsize chosen by line_search: 5.0724473853284064e-08 (steepestascent.py:38)\u001b[0m\n",
      "\u001b[32m[INFO    ][SteepestAscentDirectionCT] --- Current step: 18\tResidual: 3408.8229520659634\tDet: 2.3422966889791706e+28 (direction.py:69)\u001b[0m\n",
      "\u001b[32m[INFO    ][SteepestAscentDirectionCT] --- stepsize chosen by line_search: 1.912727136664665e-07 (steepestascent.py:38)\u001b[0m\n",
      "\u001b[32m[INFO    ][SteepestAscentDirectionCT] --- Current step: 19\tResidual: 3408.8229410441563\tDet: 2.34229669099936e+28 (direction.py:69)\u001b[0m\n",
      "\u001b[32m[INFO    ][SteepestAscentDirectionCT] --- stepsize chosen by line_search: 5.060616822337944e-08 (steepestascent.py:38)\u001b[0m\n",
      "\u001b[32m[INFO    ][SteepestAscentDirectionCT] --- Current step: 20\tResidual: 3408.8229401131325\tDet: 2.342296695877716e+28 (direction.py:69)\u001b[0m\n",
      "\u001b[32m[INFO    ][SteepestAscentDirectionCT] --- stepsize chosen by line_search: 1.9084962785738765e-07 (steepestascent.py:38)\u001b[0m\n",
      "\u001b[32m[INFO    ][SteepestAscentDirectionCT] --- Current step: 21\tResidual: 3408.822929057577\tDet: 2.3422966912525103e+28 (direction.py:69)\u001b[0m\n",
      "\u001b[32m[INFO    ][SteepestAscentDirectionCT] --- stepsize chosen by line_search: 5.049674871682925e-08 (steepestascent.py:38)\u001b[0m\n",
      "\u001b[32m[INFO    ][SteepestAscentDirectionCT] --- Current step: 22\tResidual: 3408.822928124585\tDet: 2.3422966973785097e+28 (direction.py:69)\u001b[0m\n",
      "\u001b[32m[INFO    ][SteepestAscentDirectionCT] --- stepsize chosen by line_search: 1.9045455853915966e-07 (steepestascent.py:38)\u001b[0m\n",
      "\u001b[32m[INFO    ][SteepestAscentDirectionCT] --- Current step: 23\tResidual: 3408.822917035578\tDet: 2.342296697073549e+28 (direction.py:69)\u001b[0m\n",
      "\u001b[32m[INFO    ][SteepestAscentDirectionCT] --- stepsize chosen by line_search: 5.039433505656719e-08 (steepestascent.py:38)\u001b[0m\n",
      "\u001b[32m[INFO    ][SteepestAscentDirectionCT] --- Current step: 24\tResidual: 3408.8229161006043\tDet: 2.342296700067866e+28 (direction.py:69)\u001b[0m\n",
      "\u001b[32m[INFO    ][SteepestAscentDirectionCT] --- stepsize chosen by line_search: 1.9008382871493335e-07 (steepestascent.py:38)\u001b[0m\n",
      "\u001b[32m[INFO    ][SteepestAscentDirectionCT] --- Current step: 25\tResidual: 3408.822904978387\tDet: 2.3422967002356074e+28 (direction.py:69)\u001b[0m\n",
      "\u001b[32m[INFO    ][SteepestAscentDirectionCT] --- stepsize chosen by line_search: 5.029791526208315e-08 (steepestascent.py:38)\u001b[0m\n",
      "\u001b[32m[INFO    ][SteepestAscentDirectionCT] --- Current step: 26\tResidual: 3408.8229040414158\tDet: 2.342296705901539e+28 (direction.py:69)\u001b[0m\n",
      "\u001b[32m[INFO    ][SteepestAscentDirectionCT] --- stepsize chosen by line_search: 1.8973300224915353e-07 (steepestascent.py:38)\u001b[0m\n",
      "\u001b[32m[INFO    ][SteepestAscentDirectionCT] --- Current step: 27\tResidual: 3408.822892886231\tDet: 2.3422967083717357e+28 (direction.py:69)\u001b[0m\n",
      "\u001b[32m[INFO    ][SteepestAscentDirectionCT] --- stepsize chosen by line_search: 5.020649495847866e-08 (steepestascent.py:38)\u001b[0m\n",
      "\u001b[32m[INFO    ][SteepestAscentDirectionCT] --- Current step: 28\tResidual: 3408.8228919473\tDet: 2.342296708187015e+28 (direction.py:69)\u001b[0m\n",
      "\u001b[32m[INFO    ][SteepestAscentDirectionCT] --- stepsize chosen by line_search: 1.8939848605872977e-07 (steepestascent.py:38)\u001b[0m\n"
     ]
    },
    {
     "name": "stdout",
     "output_type": "stream",
     "text": [
      "\u001b[32m[INFO    ][SteepestAscentDirectionCT] --- Current step: 29\tResidual: 3408.822880759495\tDet: 2.342296712203696e+28 (direction.py:69)\u001b[0m\n",
      "\u001b[32m[INFO    ][SteepestAscentDirectionCT] --- stepsize chosen by line_search: 5.0119286293605355e-08 (steepestascent.py:38)\u001b[0m\n",
      "\u001b[32m[INFO    ][SteepestAscentDirectionCT] --- Current step: 30\tResidual: 3408.822879818583\tDet: 2.342296713759891e+28 (direction.py:69)\u001b[0m\n",
      "\u001b[32m[INFO    ][SteepestAscentDirectionCT] --- stepsize chosen by line_search: 1.8907773607274916e-07 (steepestascent.py:38)\u001b[0m\n",
      "\u001b[32m[INFO    ][SteepestAscentDirectionCT] --- Current step: 31\tResidual: 3408.82286859857\tDet: 2.342296714931021e+28 (direction.py:69)\u001b[0m\n",
      "\u001b[32m[INFO    ][SteepestAscentDirectionCT] --- stepsize chosen by line_search: 5.0035653855883876e-08 (steepestascent.py:38)\u001b[0m\n",
      "\u001b[32m[INFO    ][SteepestAscentDirectionCT] --- Current step: 32\tResidual: 3408.822867655681\tDet: 2.3422967194918255e+28 (direction.py:69)\u001b[0m\n",
      "\u001b[32m[INFO    ][SteepestAscentDirectionCT] --- stepsize chosen by line_search: 1.8877138656866466e-07 (steepestascent.py:38)\u001b[0m\n",
      "\u001b[32m[INFO    ][SteepestAscentDirectionCT] --- Current step: 33\tResidual: 3408.8228564037413\tDet: 2.342296728230959e+28 (direction.py:69)\u001b[0m\n",
      "\u001b[32m[INFO    ][SteepestAscentDirectionCT] --- stepsize chosen by line_search: 4.995551338748255e-08 (steepestascent.py:38)\u001b[0m\n",
      "\u001b[32m[INFO    ][SteepestAscentDirectionCT] --- Current step: 34\tResidual: 3408.822855458929\tDet: 2.342296721339244e+28 (direction.py:69)\u001b[0m\n",
      "\u001b[32m[INFO    ][SteepestAscentDirectionCT] --- stepsize chosen by line_search: 1.8847513337419716e-07 (steepestascent.py:38)\u001b[0m\n",
      "\u001b[32m[INFO    ][SteepestAscentDirectionCT] --- Current step: 35\tResidual: 3408.8228441755386\tDet: 2.3422967261597593e+28 (direction.py:69)\u001b[0m\n",
      "\u001b[32m[INFO    ][SteepestAscentDirectionCT] --- stepsize chosen by line_search: 4.987811924172857e-08 (steepestascent.py:38)\u001b[0m\n",
      "\u001b[32m[INFO    ][SteepestAscentDirectionCT] --- Current step: 36\tResidual: 3408.8228432287915\tDet: 2.3422967302077076e+28 (direction.py:69)\u001b[0m\n",
      "\u001b[32m[INFO    ][SteepestAscentDirectionCT] --- stepsize chosen by line_search: 1.8819058824379078e-07 (steepestascent.py:38)\u001b[0m\n",
      "\u001b[32m[INFO    ][SteepestAscentDirectionCT] --- Current step: 37\tResidual: 3408.8228319142863\tDet: 2.3422967297453757e+28 (direction.py:69)\u001b[0m\n",
      "\u001b[32m[INFO    ][SteepestAscentDirectionCT] --- stepsize chosen by line_search: 4.980357195893969e-08 (steepestascent.py:38)\u001b[0m\n",
      "\u001b[32m[INFO    ][SteepestAscentDirectionCT] --- Current step: 38\tResidual: 3408.822830965617\tDet: 2.34229673443591e+28 (direction.py:69)\u001b[0m\n",
      "\u001b[32m[INFO    ][SteepestAscentDirectionCT] --- stepsize chosen by line_search: 1.8791394639221997e-07 (steepestascent.py:38)\u001b[0m\n",
      "\u001b[32m[INFO    ][SteepestAscentDirectionCT] --- Current step: 39\tResidual: 3408.822819620521\tDet: 2.3422967355400857e+28 (direction.py:69)\u001b[0m\n",
      "\u001b[32m[INFO    ][SteepestAscentDirectionCT] --- stepsize chosen by line_search: 4.97312278728993e-08 (steepestascent.py:38)\u001b[0m\n",
      "\u001b[32m[INFO    ][SteepestAscentDirectionCT] --- Current step: 40\tResidual: 3408.822818669964\tDet: 2.342296730345574e+28 (direction.py:69)\u001b[0m\n",
      "\u001b[32m[INFO    ][SteepestAscentDirectionCT] --- stepsize chosen by line_search: 1.8764652417045022e-07 (steepestascent.py:38)\u001b[0m\n",
      "\u001b[32m[INFO    ][SteepestAscentDirectionCT] --- Current step: 41\tResidual: 3408.822807294656\tDet: 2.342296744172878e+28 (direction.py:69)\u001b[0m\n",
      "\u001b[32m[INFO    ][SteepestAscentDirectionCT] --- stepsize chosen by line_search: 4.9661188379827974e-08 (steepestascent.py:38)\u001b[0m\n",
      "\u001b[32m[INFO    ][SteepestAscentDirectionCT] --- Current step: 42\tResidual: 3408.822806342239\tDet: 2.3422967458214333e+28 (direction.py:69)\u001b[0m\n",
      "\u001b[32m[INFO    ][SteepestAscentDirectionCT] --- stepsize chosen by line_search: 1.8738756249072572e-07 (steepestascent.py:38)\u001b[0m\n",
      "\u001b[32m[INFO    ][SteepestAscentDirectionCT] --- Current step: 43\tResidual: 3408.822794937116\tDet: 2.3422967443112946e+28 (direction.py:69)\u001b[0m\n",
      "\u001b[32m[INFO    ][SteepestAscentDirectionCT] --- stepsize chosen by line_search: 4.9593278929458136e-08 (steepestascent.py:38)\u001b[0m\n",
      "\u001b[32m[INFO    ][SteepestAscentDirectionCT] --- Current step: 44\tResidual: 3408.822793982868\tDet: 2.342296747486562e+28 (direction.py:69)\u001b[0m\n",
      "\u001b[32m[INFO    ][SteepestAscentDirectionCT] --- stepsize chosen by line_search: 1.871356768173476e-07 (steepestascent.py:38)\u001b[0m\n",
      "\u001b[32m[INFO    ][SteepestAscentDirectionCT] --- Current step: 45\tResidual: 3408.8227825484287\tDet: 2.3422967485413186e+28 (direction.py:69)\u001b[0m\n",
      "\u001b[32m[INFO    ][SteepestAscentDirectionCT] --- stepsize chosen by line_search: 4.952722305656511e-08 (steepestascent.py:38)\u001b[0m\n",
      "\u001b[32m[INFO    ][SteepestAscentDirectionCT] --- Current step: 46\tResidual: 3408.8227815923524\tDet: 2.342296755051222e+28 (direction.py:69)\u001b[0m\n",
      "\u001b[32m[INFO    ][SteepestAscentDirectionCT] --- stepsize chosen by line_search: 1.8689314828709278e-07 (steepestascent.py:38)\u001b[0m\n",
      "\u001b[32m[INFO    ][SteepestAscentDirectionCT] --- Current step: 47\tResidual: 3408.822770128871\tDet: 2.342296751949966e+28 (direction.py:69)\u001b[0m\n",
      "\u001b[32m[INFO    ][SteepestAscentDirectionCT] --- stepsize chosen by line_search: 4.946330212690198e-08 (steepestascent.py:38)\u001b[0m\n",
      "\u001b[32m[INFO    ][SteepestAscentDirectionCT] --- Current step: 48\tResidual: 3408.822769171013\tDet: 2.3422967572588937e+28 (direction.py:69)\u001b[0m\n",
      "\u001b[32m[INFO    ][SteepestAscentDirectionCT] --- stepsize chosen by line_search: 1.8665454830300367e-07 (steepestascent.py:38)\u001b[0m\n",
      "\u001b[32m[INFO    ][SteepestAscentDirectionCT] --- Current step: 49\tResidual: 3408.8227576791046\tDet: 2.3422967600898793e+28 (direction.py:69)\u001b[0m\n",
      "\u001b[32m[INFO    ][SteepestAscentDirectionCT] --- stepsize chosen by line_search: 4.9400733477410604e-08 (steepestascent.py:38)\u001b[0m\n",
      "\u001b[32m[INFO    ][SteepestAscentDirectionCT] --- Current step: 50\tResidual: 3408.8227567194695\tDet: 2.342296758151463e+28 (direction.py:69)\u001b[0m\n",
      "\u001b[32m[INFO    ][SteepestAscentDirectionCT] --- stepsize chosen by line_search: 1.8642247939923367e-07 (steepestascent.py:38)\u001b[0m\n",
      "\u001b[32m[INFO    ][SteepestAscentDirectionCT] --- Current step: 51\tResidual: 3408.822745199545\tDet: 2.3422967609550854e+28 (direction.py:69)\u001b[0m\n",
      "\u001b[32m[INFO    ][SteepestAscentDirectionCT] --- stepsize chosen by line_search: 4.9339836778877484e-08 (steepestascent.py:38)\u001b[0m\n",
      "\u001b[32m[INFO    ][SteepestAscentDirectionCT] --- Current step: 52\tResidual: 3408.8227442381626\tDet: 2.342296764779526e+28 (direction.py:69)\u001b[0m\n",
      "\u001b[32m[INFO    ][SteepestAscentDirectionCT] --- stepsize chosen by line_search: 1.8619495809363212e-07 (steepestascent.py:38)\u001b[0m\n",
      "\u001b[32m[INFO    ][SteepestAscentDirectionCT] --- Current step: 53\tResidual: 3408.8227326907586\tDet: 2.3422967666873484e+28 (direction.py:69)\u001b[0m\n",
      "\u001b[32m[INFO    ][SteepestAscentDirectionCT] --- stepsize chosen by line_search: 4.928026666750262e-08 (steepestascent.py:38)\u001b[0m\n",
      "\u001b[32m[INFO    ][SteepestAscentDirectionCT] --- Current step: 54\tResidual: 3408.8227317276665\tDet: 2.342296771785365e+28 (direction.py:69)\u001b[0m\n",
      "\u001b[32m[INFO    ][SteepestAscentDirectionCT] --- stepsize chosen by line_search: 1.85975309526001e-07 (steepestascent.py:38)\u001b[0m\n",
      "\u001b[32m[INFO    ][SteepestAscentDirectionCT] --- Current step: 55\tResidual: 3408.8227201530385\tDet: 2.342296774648349e+28 (direction.py:69)\u001b[0m\n",
      "\u001b[32m[INFO    ][SteepestAscentDirectionCT] --- stepsize chosen by line_search: 4.922243903844859e-08 (steepestascent.py:38)\u001b[0m\n",
      "\u001b[32m[INFO    ][SteepestAscentDirectionCT] --- Current step: 56\tResidual: 3408.82271918825\tDet: 2.3422967729769032e+28 (direction.py:69)\u001b[0m\n",
      "\u001b[32m[INFO    ][SteepestAscentDirectionCT] --- stepsize chosen by line_search: 1.8576124238429048e-07 (steepestascent.py:38)\u001b[0m\n",
      "\u001b[32m[INFO    ][SteepestAscentDirectionCT] --- Current step: 57\tResidual: 3408.822707586808\tDet: 2.342296778098268e+28 (direction.py:69)\u001b[0m\n",
      "\u001b[32m[INFO    ][SteepestAscentDirectionCT] --- stepsize chosen by line_search: 4.916605802175306e-08 (steepestascent.py:38)\u001b[0m\n",
      "\u001b[32m[INFO    ][SteepestAscentDirectionCT] --- Current step: 58\tResidual: 3408.822706620365\tDet: 2.3422967820812048e+28 (direction.py:69)\u001b[0m\n",
      "\u001b[32m[INFO    ][SteepestAscentDirectionCT] --- stepsize chosen by line_search: 1.8554943061127105e-07 (steepestascent.py:38)\u001b[0m\n",
      "\u001b[32m[INFO    ][SteepestAscentDirectionCT] --- Current step: 59\tResidual: 3408.8226949927025\tDet: 2.342296783218583e+28 (direction.py:69)\u001b[0m\n"
     ]
    },
    {
     "name": "stdout",
     "output_type": "stream",
     "text": [
      "\u001b[32m[INFO    ][SteepestAscentDirectionCT] --- stepsize chosen by line_search: 4.9110625374474535e-08 (steepestascent.py:38)\u001b[0m\n",
      "\u001b[32m[INFO    ][SteepestAscentDirectionCT] --- Current step: 60\tResidual: 3408.822694024608\tDet: 2.3422967788453227e+28 (direction.py:69)\u001b[0m\n",
      "\u001b[32m[INFO    ][SteepestAscentDirectionCT] --- stepsize chosen by line_search: 1.8534414699985468e-07 (steepestascent.py:38)\u001b[0m\n",
      "\u001b[32m[INFO    ][SteepestAscentDirectionCT] --- Current step: 61\tResidual: 3408.822682371044\tDet: 2.342296789105135e+28 (direction.py:69)\u001b[0m\n",
      "\u001b[32m[INFO    ][SteepestAscentDirectionCT] --- stepsize chosen by line_search: 4.905667322440681e-08 (steepestascent.py:38)\u001b[0m\n",
      "\u001b[32m[INFO    ][SteepestAscentDirectionCT] --- Current step: 62\tResidual: 3408.822681401322\tDet: 2.342296790069579e+28 (direction.py:69)\u001b[0m\n",
      "\u001b[32m[INFO    ][SteepestAscentDirectionCT] --- stepsize chosen by line_search: 1.8514246902129463e-07 (steepestascent.py:38)\u001b[0m\n",
      "\u001b[32m[INFO    ][SteepestAscentDirectionCT] --- Current step: 63\tResidual: 3408.8226697222954\tDet: 2.3422967905710684e+28 (direction.py:69)\u001b[0m\n",
      "\u001b[32m[INFO    ][SteepestAscentDirectionCT] --- stepsize chosen by line_search: 4.9003797420478436e-08 (steepestascent.py:38)\u001b[0m\n",
      "\u001b[32m[INFO    ][SteepestAscentDirectionCT] --- Current step: 64\tResidual: 3408.8226687509846\tDet: 2.342296792804781e+28 (direction.py:69)\u001b[0m\n",
      "\u001b[32m[INFO    ][SteepestAscentDirectionCT] --- stepsize chosen by line_search: 1.849454391977548e-07 (steepestascent.py:38)\u001b[0m\n",
      "\u001b[32m[INFO    ][SteepestAscentDirectionCT] --- Current step: 65\tResidual: 3408.8226570468655\tDet: 2.3422967949587302e+28 (direction.py:69)\u001b[0m\n",
      "\u001b[32m[INFO    ][SteepestAscentDirectionCT] --- stepsize chosen by line_search: 4.895209481672325e-08 (steepestascent.py:38)\u001b[0m\n",
      "\u001b[32m[INFO    ][SteepestAscentDirectionCT] --- Current step: 66\tResidual: 3408.8226560739918\tDet: 2.342296803678189e+28 (direction.py:69)\u001b[0m\n",
      "\u001b[32m[INFO    ][SteepestAscentDirectionCT] --- stepsize chosen by line_search: 1.847538186320521e-07 (steepestascent.py:38)\u001b[0m\n",
      "\u001b[32m[INFO    ][SteepestAscentDirectionCT] --- Current step: 67\tResidual: 3408.822644345094\tDet: 2.342296799893979e+28 (direction.py:69)\u001b[0m\n",
      "\u001b[32m[INFO    ][SteepestAscentDirectionCT] --- stepsize chosen by line_search: 4.890167584007249e-08 (steepestascent.py:38)\u001b[0m\n",
      "\u001b[32m[INFO    ][SteepestAscentDirectionCT] --- Current step: 68\tResidual: 3408.822643370673\tDet: 2.3422968017971894e+28 (direction.py:69)\u001b[0m\n",
      "\u001b[32m[INFO    ][SteepestAscentDirectionCT] --- stepsize chosen by line_search: 1.8456483114549544e-07 (steepestascent.py:38)\u001b[0m\n",
      "\u001b[32m[INFO    ][SteepestAscentDirectionCT] --- Current step: 69\tResidual: 3408.822631617463\tDet: 2.342296805946086e+28 (direction.py:69)\u001b[0m\n",
      "\u001b[32m[INFO    ][SteepestAscentDirectionCT] --- stepsize chosen by line_search: 4.88521327725043e-08 (steepestascent.py:38)\u001b[0m\n",
      "\u001b[32m[INFO    ][SteepestAscentDirectionCT] --- Current step: 70\tResidual: 3408.822630641498\tDet: 2.3422968055768583e+28 (direction.py:69)\u001b[0m\n",
      "\u001b[32m[INFO    ][SteepestAscentDirectionCT] --- stepsize chosen by line_search: 1.8437971559748432e-07 (steepestascent.py:38)\u001b[0m\n",
      "\u001b[32m[INFO    ][SteepestAscentDirectionCT] --- Current step: 71\tResidual: 3408.8226188643507\tDet: 2.3422968105836564e+28 (direction.py:69)\u001b[0m\n",
      "\u001b[32m[INFO    ][SteepestAscentDirectionCT] --- stepsize chosen by line_search: 4.8803620779187146e-08 (steepestascent.py:38)\u001b[0m\n",
      "\u001b[32m[INFO    ][SteepestAscentDirectionCT] --- Current step: 72\tResidual: 3408.822617886863\tDet: 2.342296811139593e+28 (direction.py:69)\u001b[0m\n",
      "\u001b[32m[INFO    ][SteepestAscentDirectionCT] --- stepsize chosen by line_search: 1.8419814154931352e-07 (steepestascent.py:38)\u001b[0m\n",
      "\u001b[32m[INFO    ][SteepestAscentDirectionCT] --- Current step: 73\tResidual: 3408.822606086119\tDet: 2.3422968156531914e+28 (direction.py:69)\u001b[0m\n",
      "\u001b[32m[INFO    ][SteepestAscentDirectionCT] --- stepsize chosen by line_search: 4.8756061549753195e-08 (steepestascent.py:38)\u001b[0m\n",
      "\u001b[32m[INFO    ][SteepestAscentDirectionCT] --- Current step: 74\tResidual: 3408.822605107172\tDet: 2.342296815825869e+28 (direction.py:69)\u001b[0m\n",
      "\u001b[32m[INFO    ][SteepestAscentDirectionCT] --- stepsize chosen by line_search: 1.8402081807050015e-07 (steepestascent.py:38)\u001b[0m\n",
      "\u001b[32m[INFO    ][SteepestAscentDirectionCT] --- Current step: 75\tResidual: 3408.8225932831406\tDet: 2.3422968202765415e+28 (direction.py:69)\u001b[0m\n",
      "\u001b[32m[INFO    ][SteepestAscentDirectionCT] --- stepsize chosen by line_search: 4.8709551403497475e-08 (steepestascent.py:38)\u001b[0m\n",
      "\u001b[32m[INFO    ][SteepestAscentDirectionCT] --- Current step: 76\tResidual: 3408.8225923027467\tDet: 2.3422968185090273e+28 (direction.py:69)\u001b[0m\n",
      "\u001b[32m[INFO    ][SteepestAscentDirectionCT] --- stepsize chosen by line_search: 1.8384564941110851e-07 (steepestascent.py:38)\u001b[0m\n",
      "\u001b[32m[INFO    ][SteepestAscentDirectionCT] --- Current step: 77\tResidual: 3408.8225804558333\tDet: 2.3422968234894803e+28 (direction.py:69)\u001b[0m\n",
      "\u001b[32m[INFO    ][SteepestAscentDirectionCT] --- stepsize chosen by line_search: 4.8663773588354765e-08 (steepestascent.py:38)\u001b[0m\n",
      "\u001b[32m[INFO    ][SteepestAscentDirectionCT] --- Current step: 78\tResidual: 3408.822579474004\tDet: 2.342296826364807e+28 (direction.py:69)\u001b[0m\n",
      "\u001b[32m[INFO    ][SteepestAscentDirectionCT] --- stepsize chosen by line_search: 1.8367616983385421e-07 (steepestascent.py:38)\u001b[0m\n",
      "\u001b[32m[INFO    ][SteepestAscentDirectionCT] --- Current step: 79\tResidual: 3408.8225676044326\tDet: 2.3422968314365938e+28 (direction.py:69)\u001b[0m\n",
      "\u001b[32m[INFO    ][SteepestAscentDirectionCT] --- stepsize chosen by line_search: 4.861918689292384e-08 (steepestascent.py:38)\u001b[0m\n",
      "\u001b[32m[INFO    ][SteepestAscentDirectionCT] --- Current step: 80\tResidual: 3408.8225666211392\tDet: 2.3422968323368066e+28 (direction.py:69)\u001b[0m\n",
      "\u001b[32m[INFO    ][SteepestAscentDirectionCT] --- stepsize chosen by line_search: 1.835081647581603e-07 (steepestascent.py:38)\u001b[0m\n",
      "\u001b[32m[INFO    ][SteepestAscentDirectionCT] --- Current step: 81\tResidual: 3408.8225547293373\tDet: 2.342296831140839e+28 (direction.py:69)\u001b[0m\n",
      "\u001b[32m[INFO    ][SteepestAscentDirectionCT] --- stepsize chosen by line_search: 4.857521281136482e-08 (steepestascent.py:38)\u001b[0m\n",
      "\u001b[32m[INFO    ][SteepestAscentDirectionCT] --- Current step: 82\tResidual: 3408.8225537446474\tDet: 2.342296832535049e+28 (direction.py:69)\u001b[0m\n",
      "\u001b[32m[INFO    ][SteepestAscentDirectionCT] --- stepsize chosen by line_search: 1.833450776131377e-07 (steepestascent.py:38)\u001b[0m\n",
      "\u001b[32m[INFO    ][SteepestAscentDirectionCT] --- Current step: 83\tResidual: 3408.8225418307698\tDet: 2.3422968349041662e+28 (direction.py:69)\u001b[0m\n",
      "\u001b[32m[INFO    ][SteepestAscentDirectionCT] --- stepsize chosen by line_search: 4.8532300191007045e-08 (steepestascent.py:38)\u001b[0m\n",
      "\u001b[32m[INFO    ][SteepestAscentDirectionCT] --- Current step: 84\tResidual: 3408.8225408446956\tDet: 2.342296835592358e+28 (direction.py:69)\u001b[0m\n",
      "\u001b[32m[INFO    ][SteepestAscentDirectionCT] --- stepsize chosen by line_search: 1.831854515596232e-07 (steepestascent.py:38)\u001b[0m\n",
      "\u001b[32m[INFO    ][SteepestAscentDirectionCT] --- Current step: 85\tResidual: 3408.82252890902\tDet: 2.342296842248852e+28 (direction.py:69)\u001b[0m\n",
      "\u001b[32m[INFO    ][SteepestAscentDirectionCT] --- stepsize chosen by line_search: 4.849024333639888e-08 (steepestascent.py:38)\u001b[0m\n",
      "\u001b[32m[INFO    ][SteepestAscentDirectionCT] --- Current step: 86\tResidual: 3408.822527921579\tDet: 2.3422968455376465e+28 (direction.py:69)\u001b[0m\n",
      "\u001b[32m[INFO    ][SteepestAscentDirectionCT] --- stepsize chosen by line_search: 1.8302819966830293e-07 (steepestascent.py:38)\u001b[0m\n",
      "\u001b[32m[INFO    ][SteepestAscentDirectionCT] --- Current step: 87\tResidual: 3408.8225159644626\tDet: 2.3422968503387815e+28 (direction.py:69)\u001b[0m\n",
      "\u001b[32m[INFO    ][SteepestAscentDirectionCT] --- stepsize chosen by line_search: 4.844890476874764e-08 (steepestascent.py:38)\u001b[0m\n",
      "\u001b[32m[INFO    ][SteepestAscentDirectionCT] --- Current step: 88\tResidual: 3408.8225149756518\tDet: 2.3422968431223335e+28 (direction.py:69)\u001b[0m\n",
      "\u001b[32m[INFO    ][SteepestAscentDirectionCT] --- stepsize chosen by line_search: 1.8287252335746248e-07 (steepestascent.py:38)\u001b[0m\n",
      "\u001b[32m[INFO    ][SteepestAscentDirectionCT] --- Current step: 89\tResidual: 3408.822502997438\tDet: 2.342296844639881e+28 (direction.py:69)\u001b[0m\n",
      "\u001b[32m[INFO    ][SteepestAscentDirectionCT] --- stepsize chosen by line_search: 4.840814178238823e-08 (steepestascent.py:38)\u001b[0m\n"
     ]
    },
    {
     "name": "stdout",
     "output_type": "stream",
     "text": [
      "\u001b[32m[INFO    ][SteepestAscentDirectionCT] --- Current step: 90\tResidual: 3408.822502007293\tDet: 2.342296851743581e+28 (direction.py:69)\u001b[0m\n",
      "\u001b[32m[INFO    ][SteepestAscentDirectionCT] --- stepsize chosen by line_search: 1.8272143970291595e-07 (steepestascent.py:38)\u001b[0m\n",
      "\u001b[32m[INFO    ][SteepestAscentDirectionCT] --- Current step: 91\tResidual: 3408.8224900081655\tDet: 2.3422968481526186e+28 (direction.py:69)\u001b[0m\n",
      "\u001b[32m[INFO    ][SteepestAscentDirectionCT] --- stepsize chosen by line_search: 4.8368362505743934e-08 (steepestascent.py:38)\u001b[0m\n",
      "\u001b[32m[INFO    ][SteepestAscentDirectionCT] --- Current step: 92\tResidual: 3408.822489016707\tDet: 2.342296853997046e+28 (direction.py:69)\u001b[0m\n",
      "\u001b[32m[INFO    ][SteepestAscentDirectionCT] --- stepsize chosen by line_search: 1.8257132628698042e-07 (steepestascent.py:38)\u001b[0m\n",
      "\u001b[32m[INFO    ][SteepestAscentDirectionCT] --- Current step: 93\tResidual: 3408.822476997021\tDet: 2.342296856189258e+28 (direction.py:69)\u001b[0m\n",
      "\u001b[32m[INFO    ][SteepestAscentDirectionCT] --- stepsize chosen by line_search: 4.832904711286439e-08 (steepestascent.py:38)\u001b[0m\n",
      "\u001b[32m[INFO    ][SteepestAscentDirectionCT] --- Current step: 94\tResidual: 3408.8224760042353\tDet: 2.3422968537572036e+28 (direction.py:69)\u001b[0m\n",
      "\u001b[32m[INFO    ][SteepestAscentDirectionCT] --- stepsize chosen by line_search: 1.8242549837700055e-07 (steepestascent.py:38)\u001b[0m\n",
      "\u001b[32m[INFO    ][SteepestAscentDirectionCT] --- Current step: 95\tResidual: 3408.8224639641658\tDet: 2.342296860230617e+28 (direction.py:69)\u001b[0m\n",
      "\u001b[32m[INFO    ][SteepestAscentDirectionCT] --- stepsize chosen by line_search: 4.829063668532374e-08 (steepestascent.py:38)\u001b[0m\n",
      "\u001b[32m[INFO    ][SteepestAscentDirectionCT] --- Current step: 96\tResidual: 3408.8224629700935\tDet: 2.3422968676118294e+28 (direction.py:69)\u001b[0m\n",
      "\u001b[32m[INFO    ][SteepestAscentDirectionCT] --- stepsize chosen by line_search: 1.8228232845637168e-07 (steepestascent.py:38)\u001b[0m\n",
      "\u001b[32m[INFO    ][SteepestAscentDirectionCT] --- Current step: 97\tResidual: 3408.82245090986\tDet: 2.342296866015626e+28 (direction.py:69)\u001b[0m\n",
      "\u001b[32m[INFO    ][SteepestAscentDirectionCT] --- stepsize chosen by line_search: 4.8252928049830835e-08 (steepestascent.py:38)\u001b[0m\n",
      "\u001b[32m[INFO    ][SteepestAscentDirectionCT] --- Current step: 98\tResidual: 3408.822449914519\tDet: 2.3422968685497634e+28 (direction.py:69)\u001b[0m\n",
      "\u001b[32m[INFO    ][SteepestAscentDirectionCT] --- stepsize chosen by line_search: 1.8213965294022486e-07 (steepestascent.py:38)\u001b[0m\n",
      "\u001b[32m[INFO    ][SteepestAscentDirectionCT] --- Current step: 99\tResidual: 3408.8224378345094\tDet: 2.3422968674872988e+28 (direction.py:69)\u001b[0m\n",
      "\u001b[32m[INFO    ][SteepestAscentDirectionCT] --- stepsize chosen by line_search: 4.821560100516769e-08 (steepestascent.py:38)\u001b[0m\n",
      "\u001b[32m[INFO    ][SteepestAscentDirectionCT] --- Current step: 100\tResidual: 3408.82243683792\tDet: 2.342296874231843e+28 (direction.py:69)\u001b[0m\n",
      "\u001b[32m[INFO    ][SteepestAscentDirectionCT] --- stepsize chosen by line_search: 1.8200098932921418e-07 (steepestascent.py:38)\u001b[0m\n",
      "\u001b[32m[INFO    ][SteepestAscentDirectionCT] --- Current step: 200\tResidual: 3408.8217604599054\tDet: 2.3422970913512426e+28 (direction.py:69)\u001b[0m\n",
      "\u001b[32m[INFO    ][SteepestAscentDirectionCT] --- stepsize chosen by line_search: 1.7710927144158247e-07 (steepestascent.py:38)\u001b[0m\n",
      "\u001b[32m[INFO    ][SteepestAscentDirectionCT] --- Current step: 300\tResidual: 3408.8210508105626\tDet: 2.342297282932144e+28 (direction.py:69)\u001b[0m\n",
      "\u001b[32m[INFO    ][SteepestAscentDirectionCT] --- stepsize chosen by line_search: 1.7437092294915947e-07 (steepestascent.py:38)\u001b[0m\n",
      "\u001b[32m[INFO    ][SteepestAscentDirectionCT] --- Current step: 400\tResidual: 3408.82031775009\tDet: 2.3422974875422467e+28 (direction.py:69)\u001b[0m\n",
      "\u001b[32m[INFO    ][SteepestAscentDirectionCT] --- stepsize chosen by line_search: 1.7257870020460808e-07 (steepestascent.py:38)\u001b[0m\n",
      "\u001b[32m[INFO    ][SteepestAscentDirectionCT] --- Current step: 500\tResidual: 3408.819567141437\tDet: 2.342297682453517e+28 (direction.py:69)\u001b[0m\n",
      "\u001b[32m[INFO    ][SteepestAscentDirectionCT] --- stepsize chosen by line_search: 1.7128759727039403e-07 (steepestascent.py:38)\u001b[0m\n",
      "\u001b[32m[INFO    ][SteepestAscentDirectionCT] --- Current step: 600\tResidual: 3408.818802827328\tDet: 2.3422978748630957e+28 (direction.py:69)\u001b[0m\n",
      "\u001b[32m[INFO    ][SteepestAscentDirectionCT] --- stepsize chosen by line_search: 1.7027193191566312e-07 (steepestascent.py:38)\u001b[0m\n",
      "\u001b[32m[INFO    ][SteepestAscentDirectionCT] --- Current step: 700\tResidual: 3408.818027464905\tDet: 2.3422980640832937e+28 (direction.py:69)\u001b[0m\n",
      "\u001b[32m[INFO    ][SteepestAscentDirectionCT] --- stepsize chosen by line_search: 1.6942397439206927e-07 (steepestascent.py:38)\u001b[0m\n",
      "\u001b[32m[INFO    ][SteepestAscentDirectionCT] --- Current step: 800\tResidual: 3408.8172430240957\tDet: 2.3422982477541862e+28 (direction.py:69)\u001b[0m\n",
      "\u001b[32m[INFO    ][SteepestAscentDirectionCT] --- stepsize chosen by line_search: 1.6866682635637e-07 (steepestascent.py:38)\u001b[0m\n",
      "\u001b[32m[INFO    ][SteepestAscentDirectionCT] --- Current step: 900\tResidual: 3408.8164508776113\tDet: 2.3422984356506726e+28 (direction.py:69)\u001b[0m\n",
      "\u001b[32m[INFO    ][SteepestAscentDirectionCT] --- stepsize chosen by line_search: 1.6801703753962634e-07 (steepestascent.py:38)\u001b[0m\n",
      "\u001b[32m[INFO    ][SteepestAscentDirectionCT] --- Current step: 1000\tResidual: 3408.815652024881\tDet: 2.3422986234160435e+28 (direction.py:69)\u001b[0m\n",
      "\u001b[32m[INFO    ][SteepestAscentDirectionCT] --- stepsize chosen by line_search: 1.6743220605167011e-07 (steepestascent.py:38)\u001b[0m\n",
      "\u001b[32m[INFO    ][SteepestAscentDirectionCT] --- Current step: 1100\tResidual: 3408.8148471736317\tDet: 2.3422988103375374e+28 (direction.py:69)\u001b[0m\n",
      "\u001b[32m[INFO    ][SteepestAscentDirectionCT] --- stepsize chosen by line_search: 1.6691026538131368e-07 (steepestascent.py:38)\u001b[0m\n",
      "\u001b[32m[INFO    ][SteepestAscentDirectionCT] --- Current step: 1200\tResidual: 3408.8140369651087\tDet: 2.342298991381491e+28 (direction.py:69)\u001b[0m\n",
      "\u001b[32m[INFO    ][SteepestAscentDirectionCT] --- stepsize chosen by line_search: 1.66428185259618e-07 (steepestascent.py:38)\u001b[0m\n",
      "\u001b[32m[INFO    ][SteepestAscentDirectionCT] --- Current step: 1300\tResidual: 3408.813221912483\tDet: 2.3422991804991713e+28 (direction.py:69)\u001b[0m\n",
      "\u001b[32m[INFO    ][SteepestAscentDirectionCT] --- stepsize chosen by line_search: 1.6596767826769268e-07 (steepestascent.py:38)\u001b[0m\n",
      "\u001b[32m[INFO    ][SteepestAscentDirectionCT] --- Current step: 1400\tResidual: 3408.8124024664785\tDet: 2.3422993604493107e+28 (direction.py:69)\u001b[0m\n",
      "\u001b[32m[INFO    ][SteepestAscentDirectionCT] --- stepsize chosen by line_search: 1.6554099208101786e-07 (steepestascent.py:38)\u001b[0m\n",
      "\u001b[32m[INFO    ][SteepestAscentDirectionCT] --- Current step: 1500\tResidual: 3408.811578993544\tDet: 2.34229953345571e+28 (direction.py:69)\u001b[0m\n",
      "\u001b[32m[INFO    ][SteepestAscentDirectionCT] --- stepsize chosen by line_search: 1.6513239014259107e-07 (steepestascent.py:38)\u001b[0m\n",
      "\u001b[32m[INFO    ][SteepestAscentDirectionCT] --- Current step: 1600\tResidual: 3408.810751791414\tDet: 2.342299716920457e+28 (direction.py:69)\u001b[0m\n",
      "\u001b[32m[INFO    ][SteepestAscentDirectionCT] --- stepsize chosen by line_search: 1.647516085087461e-07 (steepestascent.py:38)\u001b[0m\n",
      "\u001b[32m[INFO    ][SteepestAscentDirectionCT] --- Current step: 1700\tResidual: 3408.8099211217846\tDet: 2.3422998960147317e+28 (direction.py:69)\u001b[0m\n",
      "\u001b[32m[INFO    ][SteepestAscentDirectionCT] --- stepsize chosen by line_search: 1.6440287051048749e-07 (steepestascent.py:38)\u001b[0m\n",
      "\u001b[32m[INFO    ][SteepestAscentDirectionCT] --- Current step: 1800\tResidual: 3408.809087177621\tDet: 2.3423000709486255e+28 (direction.py:69)\u001b[0m\n",
      "\u001b[32m[INFO    ][SteepestAscentDirectionCT] --- stepsize chosen by line_search: 1.6405311469258733e-07 (steepestascent.py:38)\u001b[0m\n",
      "\u001b[32m[INFO    ][SteepestAscentDirectionCT] --- Current step: 1900\tResidual: 3408.8082502380657\tDet: 2.342300247467134e+28 (direction.py:69)\u001b[0m\n",
      "\u001b[32m[INFO    ][SteepestAscentDirectionCT] --- stepsize chosen by line_search: 1.6372045132354404e-07 (steepestascent.py:38)\u001b[0m\n",
      "\u001b[32m[INFO    ][SteepestAscentDirectionCT] --- Current step: 2000\tResidual: 3408.8074104771263\tDet: 2.3423004275435494e+28 (direction.py:69)\u001b[0m\n",
      "\u001b[32m[INFO    ][SteepestAscentDirectionCT] --- stepsize chosen by line_search: 1.6340638219025195e-07 (steepestascent.py:38)\u001b[0m\n",
      "\u001b[32m[INFO    ][SteepestAscentDirectionCT] --- Current step: 2100\tResidual: 3408.806568063764\tDet: 2.342300603634538e+28 (direction.py:69)\u001b[0m\n"
     ]
    },
    {
     "name": "stdout",
     "output_type": "stream",
     "text": [
      "\u001b[32m[INFO    ][SteepestAscentDirectionCT] --- stepsize chosen by line_search: 1.6310802758494425e-07 (steepestascent.py:38)\u001b[0m\n",
      "\u001b[32m[INFO    ][SteepestAscentDirectionCT] --- Current step: 2200\tResidual: 3408.80572316175\tDet: 2.3423007777028796e+28 (direction.py:69)\u001b[0m\n",
      "\u001b[32m[INFO    ][SteepestAscentDirectionCT] --- stepsize chosen by line_search: 1.6281561316195574e-07 (steepestascent.py:38)\u001b[0m\n",
      "\u001b[32m[INFO    ][SteepestAscentDirectionCT] --- Current step: 2300\tResidual: 3408.804875904892\tDet: 2.342300947399594e+28 (direction.py:69)\u001b[0m\n",
      "\u001b[32m[INFO    ][SteepestAscentDirectionCT] --- stepsize chosen by line_search: 1.6255026751691477e-07 (steepestascent.py:38)\u001b[0m\n",
      "\u001b[32m[INFO    ][SteepestAscentDirectionCT] --- Current step: 2400\tResidual: 3408.804026384567\tDet: 2.34230112375917e+28 (direction.py:69)\u001b[0m\n",
      "\u001b[32m[INFO    ][SteepestAscentDirectionCT] --- stepsize chosen by line_search: 1.6229699367579535e-07 (steepestascent.py:38)\u001b[0m\n"
     ]
    },
    {
     "ename": "KeyboardInterrupt",
     "evalue": "",
     "output_type": "error",
     "traceback": [
      "\u001b[0;31m---------------------------------------------------------------------------\u001b[0m",
      "\u001b[0;31mKeyboardInterrupt\u001b[0m                         Traceback (most recent call last)",
      "\u001b[0;32m<ipython-input-20-95638e3e2871>\u001b[0m in \u001b[0;36m<module>\u001b[0;34m\u001b[0m\n\u001b[1;32m      3\u001b[0m \u001b[0malg_steepest_ascent\u001b[0m\u001b[0;34m.\u001b[0m\u001b[0mmaxiter\u001b[0m \u001b[0;34m=\u001b[0m \u001b[0;36m2000000\u001b[0m\u001b[0;34m\u001b[0m\u001b[0;34m\u001b[0m\u001b[0m\n\u001b[1;32m      4\u001b[0m \u001b[0mX0\u001b[0m\u001b[0;34m=\u001b[0m\u001b[0malg_newton\u001b[0m\u001b[0;34m.\u001b[0m\u001b[0mintermediate_X\u001b[0m\u001b[0;34m[\u001b[0m\u001b[0;36m8\u001b[0m\u001b[0;34m]\u001b[0m\u001b[0;34m\u001b[0m\u001b[0;34m\u001b[0m\u001b[0m\n\u001b[0;32m----> 5\u001b[0;31m \u001b[0malg_steepest_ascent\u001b[0m\u001b[0;34m(\u001b[0m\u001b[0mX0\u001b[0m\u001b[0;34m=\u001b[0m\u001b[0mX0\u001b[0m\u001b[0;34m)\u001b[0m\u001b[0;34m\u001b[0m\u001b[0;34m\u001b[0m\u001b[0m\n\u001b[0m",
      "\u001b[0;32m~/store/anaconda3/envs/analyticcenter/lib/python3.6/site-packages/analyticcenter-0.2-py3.6.egg/analyticcenter/algorithm/direction.py\u001b[0m in \u001b[0;36m__call__\u001b[0;34m(self, X0)\u001b[0m\n\u001b[1;32m    150\u001b[0m         \"\"\"\n\u001b[1;32m    151\u001b[0m         \u001b[0mself\u001b[0m\u001b[0;34m.\u001b[0m\u001b[0mlogger\u001b[0m\u001b[0;34m.\u001b[0m\u001b[0minfo\u001b[0m\u001b[0;34m(\u001b[0m\u001b[0;34m\"Computing Analytic Center with {} approach\"\u001b[0m\u001b[0;34m.\u001b[0m\u001b[0mformat\u001b[0m\u001b[0;34m(\u001b[0m\u001b[0mself\u001b[0m\u001b[0;34m.\u001b[0m\u001b[0mname\u001b[0m\u001b[0;34m)\u001b[0m\u001b[0;34m)\u001b[0m\u001b[0;34m\u001b[0m\u001b[0;34m\u001b[0m\u001b[0m\n\u001b[0;32m--> 152\u001b[0;31m         \u001b[0manalyticcenter\u001b[0m\u001b[0;34m,\u001b[0m \u001b[0msuccess\u001b[0m \u001b[0;34m=\u001b[0m \u001b[0mself\u001b[0m\u001b[0;34m.\u001b[0m\u001b[0m_directional_iterative_algorithm\u001b[0m\u001b[0;34m(\u001b[0m\u001b[0mdirection_algorithm\u001b[0m\u001b[0;34m=\u001b[0m\u001b[0mself\u001b[0m\u001b[0;34m.\u001b[0m\u001b[0m_get_direction\u001b[0m\u001b[0;34m,\u001b[0m \u001b[0mX0\u001b[0m\u001b[0;34m=\u001b[0m\u001b[0mX0\u001b[0m\u001b[0;34m)\u001b[0m\u001b[0;34m\u001b[0m\u001b[0;34m\u001b[0m\u001b[0m\n\u001b[0m\u001b[1;32m    153\u001b[0m         \u001b[0;32mif\u001b[0m \u001b[0msuccess\u001b[0m\u001b[0;34m:\u001b[0m\u001b[0;34m\u001b[0m\u001b[0;34m\u001b[0m\u001b[0m\n\u001b[1;32m    154\u001b[0m             \u001b[0mself\u001b[0m\u001b[0;34m.\u001b[0m\u001b[0mlogger\u001b[0m\u001b[0;34m.\u001b[0m\u001b[0minfo\u001b[0m\u001b[0;34m(\u001b[0m\u001b[0;34m\"Computation of Analytic center with {} approach was successful\"\u001b[0m\u001b[0;34m.\u001b[0m\u001b[0mformat\u001b[0m\u001b[0;34m(\u001b[0m\u001b[0mself\u001b[0m\u001b[0;34m.\u001b[0m\u001b[0mname\u001b[0m\u001b[0;34m)\u001b[0m\u001b[0;34m)\u001b[0m\u001b[0;34m\u001b[0m\u001b[0;34m\u001b[0m\u001b[0m\n",
      "\u001b[0;32m~/store/anaconda3/envs/analyticcenter/lib/python3.6/site-packages/analyticcenter-0.2-py3.6.egg/analyticcenter/algorithm/direction.py\u001b[0m in \u001b[0;36m_directional_iterative_algorithm\u001b[0;34m(self, direction_algorithm, X0, fixed_direction)\u001b[0m\n\u001b[1;32m    108\u001b[0m                 \u001b[0mself\u001b[0m\u001b[0;34m.\u001b[0m\u001b[0m_save_intermediate\u001b[0m\u001b[0;34m(\u001b[0m\u001b[0mX\u001b[0m\u001b[0;34m,\u001b[0m \u001b[0mdeterminant\u001b[0m\u001b[0;34m)\u001b[0m\u001b[0;34m\u001b[0m\u001b[0;34m\u001b[0m\u001b[0m\n\u001b[1;32m    109\u001b[0m \u001b[0;34m\u001b[0m\u001b[0m\n\u001b[0;32m--> 110\u001b[0;31m             \u001b[0mDelta_X\u001b[0m \u001b[0;34m=\u001b[0m \u001b[0mdirection_algorithm\u001b[0m\u001b[0;34m(\u001b[0m\u001b[0mX\u001b[0m\u001b[0;34m,\u001b[0m \u001b[0mP\u001b[0m\u001b[0;34m,\u001b[0m \u001b[0mR\u001b[0m\u001b[0;34m,\u001b[0m \u001b[0mF\u001b[0m\u001b[0;34m,\u001b[0m \u001b[0mA_F\u001b[0m\u001b[0;34m,\u001b[0m \u001b[0mfixed_direction\u001b[0m\u001b[0;34m)\u001b[0m\u001b[0;34m\u001b[0m\u001b[0;34m\u001b[0m\u001b[0m\n\u001b[0m\u001b[1;32m    111\u001b[0m             \u001b[0mdelta_cum\u001b[0m \u001b[0;34m+=\u001b[0m \u001b[0mDelta_X\u001b[0m\u001b[0;34m\u001b[0m\u001b[0;34m\u001b[0m\u001b[0m\n\u001b[1;32m    112\u001b[0m             \u001b[0malpha\u001b[0m \u001b[0;34m=\u001b[0m \u001b[0;36m1.\u001b[0m\u001b[0;34m\u001b[0m\u001b[0;34m\u001b[0m\u001b[0m\n",
      "\u001b[0;32m~/store/anaconda3/envs/analyticcenter/lib/python3.6/site-packages/analyticcenter-0.2-py3.6.egg/analyticcenter/algorithm/steepestascent.py\u001b[0m in \u001b[0;36m_get_direction\u001b[0;34m(self, X, P, R, F, A_F, fixed_direction)\u001b[0m\n\u001b[1;32m     35\u001b[0m         \u001b[0mDelta\u001b[0m \u001b[0;34m=\u001b[0m \u001b[0mself\u001b[0m\u001b[0;34m.\u001b[0m\u001b[0m_get_Delta\u001b[0m\u001b[0;34m(\u001b[0m\u001b[0mX\u001b[0m\u001b[0;34m,\u001b[0m \u001b[0mP\u001b[0m\u001b[0;34m,\u001b[0m \u001b[0mR\u001b[0m\u001b[0;34m,\u001b[0m \u001b[0mA_F\u001b[0m\u001b[0;34m)\u001b[0m\u001b[0;34m\u001b[0m\u001b[0;34m\u001b[0m\u001b[0m\n\u001b[1;32m     36\u001b[0m         \u001b[0mself\u001b[0m\u001b[0;34m.\u001b[0m\u001b[0mnewton_direction\u001b[0m\u001b[0;34m.\u001b[0m\u001b[0m_init_algorithm\u001b[0m\u001b[0;34m(\u001b[0m\u001b[0;34m)\u001b[0m\u001b[0;34m\u001b[0m\u001b[0;34m\u001b[0m\u001b[0m\n\u001b[0;32m---> 37\u001b[0;31m         \u001b[0;34m(\u001b[0m\u001b[0mac\u001b[0m\u001b[0;34m,\u001b[0m \u001b[0msuccess\u001b[0m\u001b[0;34m)\u001b[0m \u001b[0;34m=\u001b[0m \u001b[0mself\u001b[0m\u001b[0;34m.\u001b[0m\u001b[0mnewton_direction\u001b[0m\u001b[0;34m.\u001b[0m\u001b[0m_directional_iterative_algorithm\u001b[0m\u001b[0;34m(\u001b[0m\u001b[0mdirection_algorithm\u001b[0m\u001b[0;34m=\u001b[0m\u001b[0mself\u001b[0m\u001b[0;34m.\u001b[0m\u001b[0mnewton_direction\u001b[0m\u001b[0;34m.\u001b[0m\u001b[0m_get_direction\u001b[0m\u001b[0;34m,\u001b[0m \u001b[0mX0\u001b[0m\u001b[0;34m=\u001b[0m\u001b[0mX\u001b[0m\u001b[0;34m,\u001b[0m \u001b[0mfixed_direction\u001b[0m\u001b[0;34m=\u001b[0m\u001b[0mDelta\u001b[0m\u001b[0;34m)\u001b[0m\u001b[0;34m\u001b[0m\u001b[0;34m\u001b[0m\u001b[0m\n\u001b[0m\u001b[1;32m     38\u001b[0m         \u001b[0mself\u001b[0m\u001b[0;34m.\u001b[0m\u001b[0mlogger\u001b[0m\u001b[0;34m.\u001b[0m\u001b[0minfo\u001b[0m\u001b[0;34m(\u001b[0m\u001b[0;34m\"stepsize chosen by line_search: {}\"\u001b[0m\u001b[0;34m.\u001b[0m\u001b[0mformat\u001b[0m\u001b[0;34m(\u001b[0m\u001b[0;34m-\u001b[0m\u001b[0mac\u001b[0m\u001b[0;34m.\u001b[0m\u001b[0mdelta_cum\u001b[0m\u001b[0;34m[\u001b[0m\u001b[0;36m0\u001b[0m\u001b[0;34m,\u001b[0m \u001b[0;36m0\u001b[0m\u001b[0;34m]\u001b[0m\u001b[0;34m/\u001b[0m\u001b[0mDelta\u001b[0m\u001b[0;34m[\u001b[0m\u001b[0;36m0\u001b[0m\u001b[0;34m,\u001b[0m\u001b[0;36m0\u001b[0m\u001b[0;34m]\u001b[0m\u001b[0;34m)\u001b[0m\u001b[0;34m)\u001b[0m\u001b[0;34m\u001b[0m\u001b[0;34m\u001b[0m\u001b[0m\n\u001b[1;32m     39\u001b[0m         \u001b[0;32mif\u001b[0m \u001b[0mnp\u001b[0m\u001b[0;34m.\u001b[0m\u001b[0misclose\u001b[0m\u001b[0;34m(\u001b[0m\u001b[0mlinalg\u001b[0m\u001b[0;34m.\u001b[0m\u001b[0mnorm\u001b[0m\u001b[0;34m(\u001b[0m\u001b[0mac\u001b[0m\u001b[0;34m.\u001b[0m\u001b[0mdelta_cum\u001b[0m\u001b[0;34m)\u001b[0m\u001b[0;34m,\u001b[0m \u001b[0;36m0\u001b[0m\u001b[0;34m)\u001b[0m\u001b[0;34m:\u001b[0m\u001b[0;34m\u001b[0m\u001b[0;34m\u001b[0m\u001b[0m\n",
      "\u001b[0;32m~/store/anaconda3/envs/analyticcenter/lib/python3.6/site-packages/analyticcenter-0.2-py3.6.egg/analyticcenter/algorithm/direction.py\u001b[0m in \u001b[0;36m_directional_iterative_algorithm\u001b[0;34m(self, direction_algorithm, X0, fixed_direction)\u001b[0m\n\u001b[1;32m    113\u001b[0m             \u001b[0mX\u001b[0m \u001b[0;34m=\u001b[0m \u001b[0mX\u001b[0m \u001b[0;34m+\u001b[0m \u001b[0malpha\u001b[0m \u001b[0;34m*\u001b[0m \u001b[0mDelta_X\u001b[0m\u001b[0;34m\u001b[0m\u001b[0;34m\u001b[0m\u001b[0m\n\u001b[1;32m    114\u001b[0m             \u001b[0mself\u001b[0m\u001b[0;34m.\u001b[0m\u001b[0mlogger\u001b[0m\u001b[0;34m.\u001b[0m\u001b[0mdebug\u001b[0m\u001b[0;34m(\u001b[0m\u001b[0;34m\"Updating current X by Delta:_X:\\n{}\"\u001b[0m\u001b[0;34m.\u001b[0m\u001b[0mformat\u001b[0m\u001b[0;34m(\u001b[0m\u001b[0mDelta_X\u001b[0m\u001b[0;34m)\u001b[0m\u001b[0;34m)\u001b[0m\u001b[0;34m\u001b[0m\u001b[0;34m\u001b[0m\u001b[0m\n\u001b[0;32m--> 115\u001b[0;31m             \u001b[0mP\u001b[0m\u001b[0;34m,\u001b[0m \u001b[0mR\u001b[0m\u001b[0;34m,\u001b[0m \u001b[0mF\u001b[0m\u001b[0;34m,\u001b[0m \u001b[0mA_F\u001b[0m\u001b[0;34m,\u001b[0m \u001b[0mself\u001b[0m\u001b[0;34m.\u001b[0m\u001b[0mresidual\u001b[0m\u001b[0;34m,\u001b[0m \u001b[0mdeterminant\u001b[0m \u001b[0;34m=\u001b[0m \u001b[0mself\u001b[0m\u001b[0;34m.\u001b[0m\u001b[0mriccati\u001b[0m\u001b[0;34m.\u001b[0m\u001b[0mcharacteristics\u001b[0m\u001b[0;34m(\u001b[0m\u001b[0mX\u001b[0m\u001b[0;34m,\u001b[0m \u001b[0mfixed_direction\u001b[0m\u001b[0;34m)\u001b[0m\u001b[0;34m\u001b[0m\u001b[0;34m\u001b[0m\u001b[0m\n\u001b[0m\u001b[1;32m    116\u001b[0m             \u001b[0mself\u001b[0m\u001b[0;34m.\u001b[0m\u001b[0msteps_count\u001b[0m \u001b[0;34m+=\u001b[0m \u001b[0;36m1\u001b[0m\u001b[0;34m\u001b[0m\u001b[0;34m\u001b[0m\u001b[0m\n\u001b[1;32m    117\u001b[0m         \u001b[0mself\u001b[0m\u001b[0;34m.\u001b[0m\u001b[0mdone\u001b[0m \u001b[0;34m=\u001b[0m \u001b[0;32mTrue\u001b[0m\u001b[0;34m\u001b[0m\u001b[0;34m\u001b[0m\u001b[0m\n",
      "\u001b[0;32m~/store/anaconda3/envs/analyticcenter/lib/python3.6/site-packages/analyticcenter-0.2-py3.6.egg/analyticcenter/algorithm/riccatioperator.py\u001b[0m in \u001b[0;36mcharacteristics\u001b[0;34m(self, X, Delta)\u001b[0m\n\u001b[1;32m    343\u001b[0m \u001b[0;34m\u001b[0m\u001b[0m\n\u001b[1;32m    344\u001b[0m         \"\"\"\n\u001b[0;32m--> 345\u001b[0;31m         \u001b[0mF\u001b[0m\u001b[0;34m,\u001b[0m \u001b[0mP\u001b[0m \u001b[0;34m=\u001b[0m \u001b[0mself\u001b[0m\u001b[0;34m.\u001b[0m\u001b[0m_get_F_and_P\u001b[0m\u001b[0;34m(\u001b[0m\u001b[0mX\u001b[0m\u001b[0;34m)\u001b[0m\u001b[0;34m\u001b[0m\u001b[0;34m\u001b[0m\u001b[0m\n\u001b[0m\u001b[1;32m    346\u001b[0m         \u001b[0mA_F\u001b[0m \u001b[0;34m=\u001b[0m \u001b[0;34m(\u001b[0m\u001b[0mself\u001b[0m\u001b[0;34m.\u001b[0m\u001b[0msystem\u001b[0m\u001b[0;34m.\u001b[0m\u001b[0mA\u001b[0m \u001b[0;34m-\u001b[0m \u001b[0mself\u001b[0m\u001b[0;34m.\u001b[0m\u001b[0msystem\u001b[0m\u001b[0;34m.\u001b[0m\u001b[0mB\u001b[0m \u001b[0;34m@\u001b[0m \u001b[0mF\u001b[0m\u001b[0;34m)\u001b[0m\u001b[0;34m\u001b[0m\u001b[0;34m\u001b[0m\u001b[0m\n\u001b[1;32m    347\u001b[0m         \u001b[0mresidual\u001b[0m \u001b[0;34m=\u001b[0m \u001b[0mself\u001b[0m\u001b[0;34m.\u001b[0m\u001b[0mget_residual\u001b[0m\u001b[0;34m(\u001b[0m\u001b[0mX\u001b[0m\u001b[0;34m,\u001b[0m \u001b[0mP\u001b[0m\u001b[0;34m,\u001b[0m \u001b[0mF\u001b[0m\u001b[0;34m,\u001b[0m \u001b[0mA_F\u001b[0m\u001b[0;34m,\u001b[0m \u001b[0mDelta\u001b[0m\u001b[0;34m)\u001b[0m\u001b[0;34m\u001b[0m\u001b[0;34m\u001b[0m\u001b[0m\n",
      "\u001b[0;32m~/store/anaconda3/envs/analyticcenter/lib/python3.6/site-packages/analyticcenter-0.2-py3.6.egg/analyticcenter/algorithm/riccatioperator.py\u001b[0m in \u001b[0;36m_get_F_and_P\u001b[0;34m(self, X)\u001b[0m\n\u001b[1;32m    376\u001b[0m \u001b[0;34m\u001b[0m\u001b[0m\n\u001b[1;32m    377\u001b[0m     \u001b[0;32mdef\u001b[0m \u001b[0m_get_F_and_P\u001b[0m\u001b[0;34m(\u001b[0m\u001b[0mself\u001b[0m\u001b[0;34m,\u001b[0m \u001b[0mX\u001b[0m\u001b[0;34m)\u001b[0m\u001b[0;34m:\u001b[0m\u001b[0;34m\u001b[0m\u001b[0;34m\u001b[0m\u001b[0m\n\u001b[0;32m--> 378\u001b[0;31m         \u001b[0mF\u001b[0m \u001b[0;34m=\u001b[0m \u001b[0mnp\u001b[0m\u001b[0;34m.\u001b[0m\u001b[0masmatrix\u001b[0m\u001b[0;34m(\u001b[0m\u001b[0mlinalg\u001b[0m\u001b[0;34m.\u001b[0m\u001b[0msolve\u001b[0m\u001b[0;34m(\u001b[0m\u001b[0mself\u001b[0m\u001b[0;34m.\u001b[0m\u001b[0msystem\u001b[0m\u001b[0;34m.\u001b[0m\u001b[0mR\u001b[0m\u001b[0;34m,\u001b[0m \u001b[0mself\u001b[0m\u001b[0;34m.\u001b[0m\u001b[0msystem\u001b[0m\u001b[0;34m.\u001b[0m\u001b[0mS\u001b[0m\u001b[0;34m.\u001b[0m\u001b[0mH\u001b[0m \u001b[0;34m-\u001b[0m \u001b[0mself\u001b[0m\u001b[0;34m.\u001b[0m\u001b[0msystem\u001b[0m\u001b[0;34m.\u001b[0m\u001b[0mB\u001b[0m\u001b[0;34m.\u001b[0m\u001b[0mH\u001b[0m \u001b[0;34m@\u001b[0m \u001b[0mX\u001b[0m\u001b[0;34m)\u001b[0m\u001b[0;34m)\u001b[0m\u001b[0;34m\u001b[0m\u001b[0;34m\u001b[0m\u001b[0m\n\u001b[0m\u001b[1;32m    379\u001b[0m         \u001b[0mP\u001b[0m \u001b[0;34m=\u001b[0m \u001b[0mself\u001b[0m\u001b[0;34m.\u001b[0m\u001b[0mriccati_operator\u001b[0m\u001b[0;34m(\u001b[0m\u001b[0mX\u001b[0m\u001b[0;34m,\u001b[0m \u001b[0mF\u001b[0m\u001b[0;34m)\u001b[0m\u001b[0;34m\u001b[0m\u001b[0;34m\u001b[0m\u001b[0m\n\u001b[1;32m    380\u001b[0m         \u001b[0;32mreturn\u001b[0m \u001b[0mF\u001b[0m\u001b[0;34m,\u001b[0m \u001b[0mP\u001b[0m\u001b[0;34m\u001b[0m\u001b[0;34m\u001b[0m\u001b[0m\n",
      "\u001b[0;32m~/store/anaconda3/envs/analyticcenter/lib/python3.6/site-packages/scipy/linalg/basic.py\u001b[0m in \u001b[0;36msolve\u001b[0;34m(a, b, sym_pos, lower, overwrite_a, overwrite_b, debug, check_finite, assume_a, transposed)\u001b[0m\n\u001b[1;32m    217\u001b[0m         \u001b[0m_solve_check\u001b[0m\u001b[0;34m(\u001b[0m\u001b[0mn\u001b[0m\u001b[0;34m,\u001b[0m \u001b[0minfo\u001b[0m\u001b[0;34m)\u001b[0m\u001b[0;34m\u001b[0m\u001b[0;34m\u001b[0m\u001b[0m\n\u001b[1;32m    218\u001b[0m         x, info = getrs(lu, ipvt, b1,\n\u001b[0;32m--> 219\u001b[0;31m                         trans=trans, overwrite_b=overwrite_b)\n\u001b[0m\u001b[1;32m    220\u001b[0m         \u001b[0m_solve_check\u001b[0m\u001b[0;34m(\u001b[0m\u001b[0mn\u001b[0m\u001b[0;34m,\u001b[0m \u001b[0minfo\u001b[0m\u001b[0;34m)\u001b[0m\u001b[0;34m\u001b[0m\u001b[0;34m\u001b[0m\u001b[0m\n\u001b[1;32m    221\u001b[0m         \u001b[0mrcond\u001b[0m\u001b[0;34m,\u001b[0m \u001b[0minfo\u001b[0m \u001b[0;34m=\u001b[0m \u001b[0mgecon\u001b[0m\u001b[0;34m(\u001b[0m\u001b[0mlu\u001b[0m\u001b[0;34m,\u001b[0m \u001b[0manorm\u001b[0m\u001b[0;34m,\u001b[0m \u001b[0mnorm\u001b[0m\u001b[0;34m=\u001b[0m\u001b[0mnorm\u001b[0m\u001b[0;34m)\u001b[0m\u001b[0;34m\u001b[0m\u001b[0;34m\u001b[0m\u001b[0m\n",
      "\u001b[0;31mKeyboardInterrupt\u001b[0m: "
     ]
    }
   ],
   "source": [
    "alg_steepest_ascent = get_algorithm_object(sys, 'steepestascent', discrete_time=False, save_intermediate=True)\n",
    "alg_steepest_ascent.abs_tol = 10e-1\n",
    "alg_steepest_ascent.maxiter = 2000000\n",
    "X0=alg_newton.intermediate_X[8]\n",
    "alg_steepest_ascent(X0=X0)"
   ]
  },
  {
   "cell_type": "code",
   "execution_count": 5,
   "metadata": {},
   "outputs": [
    {
     "ename": "NameError",
     "evalue": "name 'alg_steepest_ascent' is not defined",
     "output_type": "error",
     "traceback": [
      "\u001b[0;31m---------------------------------------------------------------------------\u001b[0m",
      "\u001b[0;31mNameError\u001b[0m                                 Traceback (most recent call last)",
      "\u001b[0;32m<ipython-input-5-839905e35be7>\u001b[0m in \u001b[0;36m<module>\u001b[0;34m\u001b[0m\n\u001b[0;32m----> 1\u001b[0;31m \u001b[0mlog_log_direction\u001b[0m\u001b[0;34m(\u001b[0m\u001b[0malg_steepest_ascent\u001b[0m\u001b[0;34m.\u001b[0m\u001b[0mintermediate_X\u001b[0m\u001b[0;34m,\u001b[0m \u001b[0malg_steepest_ascent\u001b[0m\u001b[0;34m.\u001b[0m\u001b[0mintermediate_det\u001b[0m\u001b[0;34m)\u001b[0m\u001b[0;34m\u001b[0m\u001b[0;34m\u001b[0m\u001b[0m\n\u001b[0m",
      "\u001b[0;31mNameError\u001b[0m: name 'alg_steepest_ascent' is not defined"
     ]
    }
   ],
   "source": [
    "log_log_direction(alg_steepest_ascent.intermediate_X, alg_steepest_ascent.intermediate_det)"
   ]
  },
  {
   "cell_type": "code",
   "execution_count": null,
   "metadata": {},
   "outputs": [],
   "source": []
  }
 ],
 "metadata": {
  "kernelspec": {
   "display_name": "Environment (conda_analyticcenter)",
   "language": "python",
   "name": "conda_analyticcenter"
  },
  "language_info": {
   "codemirror_mode": {
    "name": "ipython",
    "version": 3
   },
   "file_extension": ".py",
   "mimetype": "text/x-python",
   "name": "python",
   "nbconvert_exporter": "python",
   "pygments_lexer": "ipython3",
   "version": "3.6.7"
  }
 },
 "nbformat": 4,
 "nbformat_minor": 2
}
