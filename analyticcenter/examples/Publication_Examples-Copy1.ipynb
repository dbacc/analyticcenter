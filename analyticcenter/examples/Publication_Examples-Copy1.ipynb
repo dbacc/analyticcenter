{
 "cells": [
  {
   "cell_type": "markdown",
   "metadata": {},
   "source": [
    "This example file is intended to cover all the computations for the computations in the publication\n",
    "\n",
    "    Bankmann, D.; Mehrmann, V.; Nesterov, Y.; van Dooren, P., Analytic Center for the Passivity LMI, 2018\n",
    "\n",
    "    Beatti, C. ; Mehrmann, V.; van Dooren, P., Analytic Center for the Passivity LMI, 2018"
   ]
  },
  {
   "cell_type": "markdown",
   "metadata": {},
   "source": [
    "# Initialization"
   ]
  },
  {
   "cell_type": "code",
   "execution_count": 1,
   "metadata": {
    "scrolled": true
   },
   "outputs": [
    {
     "data": {
      "text/plain": [
       "array([-1.52122444e+02, -5.41057587e+00, -4.51118640e+00, -4.04647716e+00, -3.43730019e+00, -3.20461118e+00, -2.97444371e+00, -2.69012010e+00, -2.34853032e+00, -2.14555476e+00, -2.01177581e+00,\n",
       "       -1.78595776e+00, -1.64092618e+00, -1.50025832e+00, -1.40517192e+00, -1.10265093e+00, -1.02176322e+00, -8.52622412e-01, -7.65973179e-01, -7.28797352e-01, -6.69615592e-01, -5.68515821e-01,\n",
       "       -5.61545030e-01, -4.13063586e-01, -4.05924051e-01, -2.58237793e-01, -1.74338416e-01, -1.33173996e-01, -1.08110819e-01, -4.66234931e-02])"
      ]
     },
     "execution_count": 1,
     "metadata": {},
     "output_type": "execute_result"
    }
   ],
   "source": [
    "import logging\n",
    "import numpy as np\n",
    "from os.path import join, dirname\n",
    "from analyticcenter import WeightedSystem, get_algorithm_object\n",
    "from analyticcenter.visualize import log_log_direction\n",
    "from analyticcenter.examples.example4 import sys\n",
    "import numpy as np\n",
    "np.linalg.eigh(sys.A)[0]"
   ]
  },
  {
   "cell_type": "markdown",
   "metadata": {},
   "source": [
    "# Computation of analytic center with the newton approach."
   ]
  },
  {
   "cell_type": "code",
   "execution_count": 2,
   "metadata": {
    "scrolled": true
   },
   "outputs": [
    {
     "name": "stdout",
     "output_type": "stream",
     "text": [
      "True\n",
      "\u001b[32m[INFO    ][analyticcenter.algorithm.riccatioperator] --- System is stable (riccatioperator.py:243)\u001b[0m\n",
      "\u001b[32m[INFO    ][analyticcenter.algorithm.riccatioperator] --- System is controllable. (riccatioperator.py:263)\u001b[0m\n",
      "\u001b[32m[INFO    ][analyticcenter.algorithm.riccatioperator] --- System is passive, if also stable (riccatioperator.py:280)\u001b[0m\n",
      "\u001b[32m[INFO    ][NewtonDirectionMultipleDimensionsCT] --- Computing Analytic Center with NewtonMDCT approach (direction.py:151)\u001b[0m\n",
      "\u001b[32m[INFO    ][InitialXCT] --- Computing initial X (initialization.py:57)\u001b[0m\n",
      "\u001b[32m[INFO    ][InitialXCT] --- Computed initial guess with geometric mean approach.\n",
      "det(H(X0)) = 277.10989330719394 (initialization.py:67)\u001b[0m\n",
      "\u001b[32m[INFO    ][InitialXCT] --- Computed initial guess with bisection approach.\n",
      "det(H(X0)) = 4.578080399072663e-159 (initialization.py:78)\u001b[0m\n",
      "\u001b[32m[INFO    ][InitialXCT] --- Taking solution computed with geometric mean approach (initialization.py:85)\u001b[0m\n",
      "\u001b[32m[INFO    ][NewtonDirectionMultipleDimensionsCT] --- Current step: 0\tResidual: 235.7193002114651\tDet: 277.10989061552243 (direction.py:69)\u001b[0m\n"
     ]
    },
    {
     "name": "stderr",
     "output_type": "stream",
     "text": [
      "/home/daniel/.conda/envs/analyticcenter/lib/python3.7/site-packages/analyticcenter-0.2-py3.7.egg/analyticcenter/misc/misc.py:70: RuntimeWarning: invalid value encountered in matmul\n",
      "  product = product.H @ product\n",
      "/home/daniel/.conda/envs/analyticcenter/lib/python3.7/site-packages/analyticcenter-0.2-py3.7.egg/analyticcenter/algorithm/newton.py:135: RuntimeWarning: invalid value encountered in matmul\n",
      "  S2 = S2.H @ S2\n",
      "/home/daniel/.conda/envs/analyticcenter/lib/python3.7/site-packages/analyticcenter-0.2-py3.7.egg/analyticcenter/algorithm/newton.py:235: RuntimeWarning: invalid value encountered in matmul\n",
      "  AAH = A @ A.H\n"
     ]
    },
    {
     "name": "stdout",
     "output_type": "stream",
     "text": [
      "\u001b[32m[INFO    ][NewtonDirectionMultipleDimensionsCT] --- In linearly converging phase (newton.py:62)\u001b[0m\n",
      "\u001b[32m[INFO    ][NewtonDirectionMultipleDimensionsCT] --- Current step: 1\tResidual: 239.49666960839383\tDet: 387800539.9909043 (direction.py:69)\u001b[0m\n"
     ]
    },
    {
     "name": "stderr",
     "output_type": "stream",
     "text": [
      "/home/daniel/.conda/envs/analyticcenter/lib/python3.7/site-packages/analyticcenter-0.2-py3.7.egg/analyticcenter/algorithm/newton.py:261: RuntimeWarning: invalid value encountered in matmul\n",
      "  AAH = A @ A.H\n"
     ]
    },
    {
     "name": "stdout",
     "output_type": "stream",
     "text": [
      "\u001b[32m[INFO    ][NewtonDirectionMultipleDimensionsCT] --- In linearly converging phase (newton.py:62)\u001b[0m\n",
      "\u001b[32m[INFO    ][NewtonDirectionMultipleDimensionsCT] --- Current step: 2\tResidual: 405.99082033761835\tDet: 48102653410334.09 (direction.py:69)\u001b[0m\n",
      "\u001b[32m[INFO    ][NewtonDirectionMultipleDimensionsCT] --- In linearly converging phase (newton.py:62)\u001b[0m\n",
      "\u001b[32m[INFO    ][NewtonDirectionMultipleDimensionsCT] --- Current step: 3\tResidual: 679.1268443704262\tDet: 7.428052109381048e+17 (direction.py:69)\u001b[0m\n",
      "\u001b[32m[INFO    ][NewtonDirectionMultipleDimensionsCT] --- In linearly converging phase (newton.py:62)\u001b[0m\n",
      "\u001b[32m[INFO    ][NewtonDirectionMultipleDimensionsCT] --- Current step: 4\tResidual: 1076.3182420432308\tDet: 1.9393989000121032e+21 (direction.py:69)\u001b[0m\n",
      "\u001b[32m[INFO    ][NewtonDirectionMultipleDimensionsCT] --- In linearly converging phase (newton.py:62)\u001b[0m\n",
      "\u001b[32m[INFO    ][NewtonDirectionMultipleDimensionsCT] --- Current step: 5\tResidual: 1581.059447277235\tDet: 1.0084415403862837e+24 (direction.py:69)\u001b[0m\n",
      "\u001b[32m[INFO    ][NewtonDirectionMultipleDimensionsCT] --- In linearly converging phase (newton.py:62)\u001b[0m\n",
      "\u001b[32m[INFO    ][NewtonDirectionMultipleDimensionsCT] --- Current step: 6\tResidual: 2167.9022599941536\tDet: 1.0575728796116653e+26 (direction.py:69)\u001b[0m\n",
      "\u001b[32m[INFO    ][NewtonDirectionMultipleDimensionsCT] --- In linearly converging phase (newton.py:62)\u001b[0m\n",
      "\u001b[32m[INFO    ][NewtonDirectionMultipleDimensionsCT] --- Current step: 7\tResidual: 2832.536945199545\tDet: 2.6882316500315056e+27 (direction.py:69)\u001b[0m\n",
      "\u001b[32m[INFO    ][NewtonDirectionMultipleDimensionsCT] --- In linearly converging phase (newton.py:62)\u001b[0m\n",
      "\u001b[32m[INFO    ][NewtonDirectionMultipleDimensionsCT] --- Current step: 8\tResidual: 3408.8230547218786\tDet: 2.3422965947093064e+28 (direction.py:69)\u001b[0m\n",
      "\u001b[32m[INFO    ][NewtonDirectionMultipleDimensionsCT] --- In linearly converging phase (newton.py:62)\u001b[0m\n",
      "\u001b[32m[INFO    ][NewtonDirectionMultipleDimensionsCT] --- Current step: 9\tResidual: 3296.7632248298205\tDet: 8.633738519823864e+28 (direction.py:69)\u001b[0m\n",
      "\u001b[32m[INFO    ][NewtonDirectionMultipleDimensionsCT] --- In linearly converging phase (newton.py:62)\u001b[0m\n",
      "\u001b[32m[INFO    ][NewtonDirectionMultipleDimensionsCT] --- Current step: 10\tResidual: 2287.60426221545\tDet: 1.5302235365258798e+29 (direction.py:69)\u001b[0m\n",
      "\u001b[32m[INFO    ][NewtonDirectionMultipleDimensionsCT] --- In linearly converging phase (newton.py:62)\u001b[0m\n",
      "\u001b[32m[INFO    ][NewtonDirectionMultipleDimensionsCT] --- Current step: 11\tResidual: 851.1133497350683\tDet: 1.757063362967319e+29 (direction.py:69)\u001b[0m\n",
      "\u001b[32m[INFO    ][NewtonDirectionMultipleDimensionsCT] --- In quadratically converging phase (newton.py:66)\u001b[0m\n",
      "\u001b[32m[INFO    ][NewtonDirectionMultipleDimensionsCT] --- Current step: 12\tResidual: 76.64643501738489\tDet: 1.775501397917781e+29 (direction.py:69)\u001b[0m\n",
      "\u001b[32m[INFO    ][NewtonDirectionMultipleDimensionsCT] --- In quadratically converging phase (newton.py:66)\u001b[0m\n",
      "\u001b[32m[INFO    ][NewtonDirectionMultipleDimensionsCT] --- Current step: 13\tResidual: 0.47578412429100964\tDet: 1.7756136615590042e+29 (direction.py:69)\u001b[0m\n",
      "\u001b[32m[INFO    ][NewtonDirectionMultipleDimensionsCT] --- In quadratically converging phase (newton.py:66)\u001b[0m\n",
      "\u001b[32m[INFO    ][NewtonDirectionMultipleDimensionsCT] --- Current step: 14\tResidual: 1.8381260197445247e-05\tDet: 1.7756136498957395e+29 (direction.py:69)\u001b[0m\n",
      "\u001b[32m[INFO    ][NewtonDirectionMultipleDimensionsCT] --- In quadratically converging phase (newton.py:66)\u001b[0m\n",
      "\u001b[32m[INFO    ][NewtonDirectionMultipleDimensionsCT] --- Current step: 15\tResidual: 5.100573374439408e-10\tDet: 1.7756136636885443e+29 (direction.py:69)\u001b[0m\n",
      "\u001b[32m[INFO    ][NewtonDirectionMultipleDimensionsCT] --- Computation of Analytic center with NewtonMDCT approach was successful (direction.py:154)\u001b[0m\n"
     ]
    }
   ],
   "source": [
    "print(__debug__)\n",
    "logger = logging.getLogger()\n",
    "\n",
    "alg_newton = get_algorithm_object(sys, 'newton', discrete_time=False, save_intermediate=True)\n",
    "(ac_newton, success) = alg_newton()"
   ]
  },
  {
   "cell_type": "code",
   "execution_count": 3,
   "metadata": {},
   "outputs": [
    {
     "name": "stdout",
     "output_type": "stream",
     "text": [
      "\u001b[32m[INFO    ][analyticcenter.algorithm.riccatioperator] --- System is stable (riccatioperator.py:243)\u001b[0m\n",
      "\u001b[32m[INFO    ][NewtonDirectionMultipleDimensionsDT] --- Computing Analytic Center with Newton approach (direction.py:151)\u001b[0m\n",
      "\u001b[32m[INFO    ][InitialXDT] --- Computing initial X (initialization.py:57)\u001b[0m\n",
      "\u001b[32m[INFO    ][InitialXDT] --- Computed initial guess with geometric mean approach.\n",
      "det(H(X0)) = 1.8809350471345452e-14 (initialization.py:67)\u001b[0m\n",
      "\u001b[32m[INFO    ][InitialXDT] --- Computed initial guess with bisection approach.\n",
      "det(H(X0)) = 6.850533232124755e-162 (initialization.py:78)\u001b[0m\n",
      "\u001b[32m[INFO    ][InitialXDT] --- Taking solution computed with geometric mean approach (initialization.py:85)\u001b[0m\n",
      "\u001b[32m[INFO    ][NewtonDirectionMultipleDimensionsDT] --- Current step: 0\tResidual: 5.4772255749638195\tDet: 1.8809350471553087e-14 (direction.py:69)\u001b[0m\n"
     ]
    },
    {
     "name": "stderr",
     "output_type": "stream",
     "text": [
      "/home/daniel/.conda/envs/analyticcenter/lib/python3.7/site-packages/analyticcenter-0.2-py3.7.egg/analyticcenter/algorithm/newton.py:316: RuntimeWarning: invalid value encountered in matmul\n",
      "  AAH = A @ A.H\n"
     ]
    },
    {
     "name": "stdout",
     "output_type": "stream",
     "text": [
      "\u001b[32m[INFO    ][NewtonDirectionMultipleDimensionsDT] --- In linearly converging phase (newton.py:62)\u001b[0m\n",
      "\u001b[32m[INFO    ][NewtonDirectionMultipleDimensionsDT] --- Current step: 1\tResidual: 3.8358403239631005\tDet: 1.0016920627169889e-07 (direction.py:69)\u001b[0m\n"
     ]
    },
    {
     "name": "stderr",
     "output_type": "stream",
     "text": [
      "/home/daniel/.conda/envs/analyticcenter/lib/python3.7/site-packages/analyticcenter-0.2-py3.7.egg/analyticcenter/algorithm/newton.py:337: RuntimeWarning: invalid value encountered in matmul\n",
      "  AAH = A @ A.H\n"
     ]
    },
    {
     "name": "stdout",
     "output_type": "stream",
     "text": [
      "\u001b[32m[INFO    ][NewtonDirectionMultipleDimensionsDT] --- In linearly converging phase (newton.py:62)\u001b[0m\n",
      "\u001b[32m[INFO    ][NewtonDirectionMultipleDimensionsDT] --- Current step: 2\tResidual: 1.1741138648372937\tDet: 0.05697292344359192 (direction.py:69)\u001b[0m\n",
      "\u001b[32m[INFO    ][NewtonDirectionMultipleDimensionsDT] --- In linearly converging phase (newton.py:62)\u001b[0m\n",
      "\u001b[32m[INFO    ][NewtonDirectionMultipleDimensionsDT] --- Current step: 3\tResidual: 0.5242991328943218\tDet: 3386.1068900726123 (direction.py:69)\u001b[0m\n",
      "\u001b[32m[INFO    ][NewtonDirectionMultipleDimensionsDT] --- In linearly converging phase (newton.py:62)\u001b[0m\n",
      "\u001b[32m[INFO    ][NewtonDirectionMultipleDimensionsDT] --- Current step: 4\tResidual: 0.23170754331365975\tDet: 27590428.434281494 (direction.py:69)\u001b[0m\n",
      "\u001b[32m[INFO    ][NewtonDirectionMultipleDimensionsDT] --- In linearly converging phase (newton.py:62)\u001b[0m\n",
      "\u001b[32m[INFO    ][NewtonDirectionMultipleDimensionsDT] --- Current step: 5\tResidual: 0.10493833903636815\tDet: 38318555837.95892 (direction.py:69)\u001b[0m\n",
      "\u001b[32m[INFO    ][NewtonDirectionMultipleDimensionsDT] --- In linearly converging phase (newton.py:62)\u001b[0m\n",
      "\u001b[32m[INFO    ][NewtonDirectionMultipleDimensionsDT] --- Current step: 6\tResidual: 0.04697484698681004\tDet: 9967021752024.018 (direction.py:69)\u001b[0m\n",
      "\u001b[32m[INFO    ][NewtonDirectionMultipleDimensionsDT] --- In linearly converging phase (newton.py:62)\u001b[0m\n",
      "\u001b[32m[INFO    ][NewtonDirectionMultipleDimensionsDT] --- Current step: 7\tResidual: 0.021798086018487976\tDet: 537438805399771.44 (direction.py:69)\u001b[0m\n",
      "\u001b[32m[INFO    ][NewtonDirectionMultipleDimensionsDT] --- In linearly converging phase (newton.py:62)\u001b[0m\n",
      "\u001b[32m[INFO    ][NewtonDirectionMultipleDimensionsDT] --- Current step: 8\tResidual: 0.011684326706151903\tDet: 8175537450328238.0 (direction.py:69)\u001b[0m\n",
      "\u001b[32m[INFO    ][NewtonDirectionMultipleDimensionsDT] --- In linearly converging phase (newton.py:62)\u001b[0m\n",
      "\u001b[32m[INFO    ][NewtonDirectionMultipleDimensionsDT] --- Current step: 9\tResidual: 0.00681192029315345\tDet: 4.715673542600319e+16 (direction.py:69)\u001b[0m\n",
      "\u001b[32m[INFO    ][NewtonDirectionMultipleDimensionsDT] --- In linearly converging phase (newton.py:62)\u001b[0m\n",
      "\u001b[32m[INFO    ][NewtonDirectionMultipleDimensionsDT] --- Current step: 10\tResidual: 0.0052253109996864815\tDet: 1.19703923438851e+17 (direction.py:69)\u001b[0m\n",
      "\u001b[32m[INFO    ][NewtonDirectionMultipleDimensionsDT] --- In linearly converging phase (newton.py:62)\u001b[0m\n",
      "\u001b[32m[INFO    ][NewtonDirectionMultipleDimensionsDT] --- Current step: 11\tResidual: 0.0029280033989492376\tDet: 1.664381230170487e+17 (direction.py:69)\u001b[0m\n",
      "\u001b[32m[INFO    ][NewtonDirectionMultipleDimensionsDT] --- In quadratically converging phase (newton.py:66)\u001b[0m\n",
      "\u001b[32m[INFO    ][NewtonDirectionMultipleDimensionsDT] --- Current step: 12\tResidual: 0.000591143124348385\tDet: 1.7690045558873712e+17 (direction.py:69)\u001b[0m\n",
      "\u001b[32m[INFO    ][NewtonDirectionMultipleDimensionsDT] --- In quadratically converging phase (newton.py:66)\u001b[0m\n",
      "\u001b[32m[INFO    ][NewtonDirectionMultipleDimensionsDT] --- Current step: 13\tResidual: 5.311517650766915e-06\tDet: 1.7755185544851594e+17 (direction.py:69)\u001b[0m\n",
      "\u001b[32m[INFO    ][NewtonDirectionMultipleDimensionsDT] --- In quadratically converging phase (newton.py:66)\u001b[0m\n",
      "\u001b[32m[INFO    ][NewtonDirectionMultipleDimensionsDT] --- Current step: 14\tResidual: 2.0735647312001835e-06\tDet: 1.7755545524028768e+17 (direction.py:69)\u001b[0m\n",
      "\u001b[32m[INFO    ][NewtonDirectionMultipleDimensionsDT] --- In quadratically converging phase (newton.py:66)\u001b[0m\n",
      "\u001b[32m[INFO    ][NewtonDirectionMultipleDimensionsDT] --- Current step: 15\tResidual: 2.0730994197893646e-06\tDet: 1.7755545537228752e+17 (direction.py:69)\u001b[0m\n",
      "\u001b[32m[INFO    ][NewtonDirectionMultipleDimensionsDT] --- Computation of Analytic center with Newton approach was successful (direction.py:154)\u001b[0m\n"
     ]
    }
   ],
   "source": [
    "sys_disc = sys.bilinear_discretization()\n",
    "\n",
    "alg_newton_disc = get_algorithm_object(sys_disc, 'newton', discrete_time=True, save_intermediate=True)\n",
    "(ac_newton_disc, success) = alg_newton_disc()"
   ]
  },
  {
   "cell_type": "markdown",
   "metadata": {},
   "source": [
    "# Properties of solutions\n",
    "## Difference\n",
    "The solutions should be identical in theory. They differ a bit due to roundoff errors."
   ]
  },
  {
   "cell_type": "code",
   "execution_count": 4,
   "metadata": {},
   "outputs": [
    {
     "name": "stdout",
     "output_type": "stream",
     "text": [
      "scaled difference =  4.324961690692727e-08\n"
     ]
    }
   ],
   "source": [
    " print(\"scaled difference = \", np.linalg.norm((ac_newton.X - ac_newton_disc.X )/ac_newton.X)) \n"
   ]
  },
  {
   "cell_type": "markdown",
   "metadata": {},
   "source": [
    "## Centered realizations\n",
    "A centered realization with the analytic center solution `X` has the identity as interior point. However, also here, the geometric mean approach is superior"
   ]
  },
  {
   "cell_type": "code",
   "execution_count": 5,
   "metadata": {},
   "outputs": [
    {
     "name": "stdout",
     "output_type": "stream",
     "text": [
      "\u001b[32m[INFO    ][analyticcenter.algorithm.riccatioperator] --- System is stable (riccatioperator.py:243)\u001b[0m\n",
      "\u001b[32m[INFO    ][analyticcenter.algorithm.riccatioperator] --- System is controllable. (riccatioperator.py:263)\u001b[0m\n",
      "\u001b[32m[INFO    ][analyticcenter.algorithm.riccatioperator] --- System is passive, if also stable (riccatioperator.py:280)\u001b[0m\n",
      "\u001b[32m[INFO    ][NewtonDirectionMultipleDimensionsCT] --- Computing Analytic Center with NewtonMDCT approach (direction.py:151)\u001b[0m\n",
      "\u001b[32m[INFO    ][InitialXCT] --- Computing initial X (initialization.py:57)\u001b[0m\n",
      "\u001b[32m[INFO    ][InitialXCT] --- Computed initial guess with geometric mean approach.\n",
      "det(H(X0)) = 0.017111976067010266 (initialization.py:67)\u001b[0m\n",
      "\u001b[32m[INFO    ][InitialXCT] --- Computed initial guess with bisection approach.\n",
      "det(H(X0)) = 4.1608073034806485e-46 (initialization.py:78)\u001b[0m\n",
      "\u001b[32m[INFO    ][InitialXCT] --- Taking solution computed with geometric mean approach (initialization.py:85)\u001b[0m\n",
      "\u001b[32m[INFO    ][NewtonDirectionMultipleDimensionsCT] --- Current step: 0\tResidual: 1448.8506277449148\tDet: 0.01711197606698377 (direction.py:69)\u001b[0m\n",
      "\u001b[32m[INFO    ][NewtonDirectionMultipleDimensionsCT] --- In linearly converging phase (newton.py:62)\u001b[0m\n",
      "\u001b[32m[INFO    ][NewtonDirectionMultipleDimensionsCT] --- Current step: 1\tResidual: 2234.460077020795\tDet: 727947.4005607582 (direction.py:69)\u001b[0m\n",
      "\u001b[32m[INFO    ][NewtonDirectionMultipleDimensionsCT] --- In linearly converging phase (newton.py:62)\u001b[0m\n",
      "\u001b[32m[INFO    ][NewtonDirectionMultipleDimensionsCT] --- Current step: 2\tResidual: 2999.6486083939626\tDet: 5536354786717.152 (direction.py:69)\u001b[0m\n",
      "\u001b[32m[INFO    ][NewtonDirectionMultipleDimensionsCT] --- In linearly converging phase (newton.py:62)\u001b[0m\n",
      "\u001b[32m[INFO    ][NewtonDirectionMultipleDimensionsCT] --- Current step: 3\tResidual: 3148.1365037728256\tDet: 3.7531721946431355e+18 (direction.py:69)\u001b[0m\n",
      "\u001b[32m[INFO    ][NewtonDirectionMultipleDimensionsCT] --- In linearly converging phase (newton.py:62)\u001b[0m\n",
      "\u001b[32m[INFO    ][NewtonDirectionMultipleDimensionsCT] --- Current step: 4\tResidual: 2405.1172593145025\tDet: 1.1449060178933596e+23 (direction.py:69)\u001b[0m\n",
      "\u001b[32m[INFO    ][NewtonDirectionMultipleDimensionsCT] --- In linearly converging phase (newton.py:62)\u001b[0m\n",
      "\u001b[32m[INFO    ][NewtonDirectionMultipleDimensionsCT] --- Current step: 5\tResidual: 1457.1519243535395\tDet: 1.0090253780743442e+26 (direction.py:69)\u001b[0m\n",
      "\u001b[32m[INFO    ][NewtonDirectionMultipleDimensionsCT] --- In linearly converging phase (newton.py:62)\u001b[0m\n",
      "\u001b[32m[INFO    ][NewtonDirectionMultipleDimensionsCT] --- Current step: 6\tResidual: 1030.8704195402931\tDet: 5.420437554713196e+27 (direction.py:69)\u001b[0m\n",
      "\u001b[32m[INFO    ][NewtonDirectionMultipleDimensionsCT] --- In linearly converging phase (newton.py:62)\u001b[0m\n",
      "\u001b[32m[INFO    ][NewtonDirectionMultipleDimensionsCT] --- Current step: 7\tResidual: 706.1216760388933\tDet: 4.968797464586754e+28 (direction.py:69)\u001b[0m\n",
      "\u001b[32m[INFO    ][NewtonDirectionMultipleDimensionsCT] --- In linearly converging phase (newton.py:62)\u001b[0m\n",
      "\u001b[32m[INFO    ][NewtonDirectionMultipleDimensionsCT] --- Current step: 8\tResidual: 412.2776493855561\tDet: 1.4381905034492364e+29 (direction.py:69)\u001b[0m\n",
      "\u001b[32m[INFO    ][NewtonDirectionMultipleDimensionsCT] --- In linearly converging phase (newton.py:62)\u001b[0m\n",
      "\u001b[32m[INFO    ][NewtonDirectionMultipleDimensionsCT] --- Current step: 9\tResidual: 180.43406610663513\tDet: 2.1576537830204146e+29 (direction.py:69)\u001b[0m\n",
      "\u001b[32m[INFO    ][NewtonDirectionMultipleDimensionsCT] --- In linearly converging phase (newton.py:62)\u001b[0m\n",
      "\u001b[32m[INFO    ][NewtonDirectionMultipleDimensionsCT] --- Current step: 10\tResidual: 41.87484377779085\tDet: 2.391158068309453e+29 (direction.py:69)\u001b[0m\n",
      "\u001b[32m[INFO    ][NewtonDirectionMultipleDimensionsCT] --- In quadratically converging phase (newton.py:66)\u001b[0m\n",
      "\u001b[32m[INFO    ][NewtonDirectionMultipleDimensionsCT] --- Current step: 11\tResidual: 2.4644779231424723\tDet: 2.408432727950088e+29 (direction.py:69)\u001b[0m\n",
      "\u001b[32m[INFO    ][NewtonDirectionMultipleDimensionsCT] --- In quadratically converging phase (newton.py:66)\u001b[0m\n",
      "\u001b[32m[INFO    ][NewtonDirectionMultipleDimensionsCT] --- Current step: 12\tResidual: 0.009160476944321275\tDet: 2.4085000657185724e+29 (direction.py:69)\u001b[0m\n",
      "\u001b[32m[INFO    ][NewtonDirectionMultipleDimensionsCT] --- In quadratically converging phase (newton.py:66)\u001b[0m\n",
      "\u001b[32m[INFO    ][NewtonDirectionMultipleDimensionsCT] --- Current step: 13\tResidual: 1.4930423706108707e-07\tDet: 2.408500066777772e+29 (direction.py:69)\u001b[0m\n",
      "\u001b[33m[WARNING ][NewtonDirectionMultipleDimensionsCT] --- det factor by newton step is less than 1: 0.9999999999999996 (newton.py:268)\u001b[0m\n",
      "\u001b[32m[INFO    ][NewtonDirectionMultipleDimensionsCT] --- In quadratically converging phase (newton.py:66)\u001b[0m\n",
      "\u001b[32m[INFO    ][NewtonDirectionMultipleDimensionsCT] --- Current step: 14\tResidual: 4.201349463828991e-11\tDet: 2.4085000667765038e+29 (direction.py:69)\u001b[0m\n",
      "\u001b[32m[INFO    ][NewtonDirectionMultipleDimensionsCT] --- Computation of Analytic center with NewtonMDCT approach was successful (direction.py:154)\u001b[0m\n"
     ]
    }
   ],
   "source": [
    "centered_realization = ac_newton.centered_realization()\n",
    "alg_newton_centered = get_algorithm_object(centered_realization, 'newton', discrete_time=False, save_intermediate=True)\n",
    "(ac_newton_centered, success) = alg_newton_centered()"
   ]
  },
  {
   "cell_type": "code",
   "execution_count": 23,
   "metadata": {},
   "outputs": [
    {
     "name": "stdout",
     "output_type": "stream",
     "text": [
      "2.703653640340519e-06\n"
     ]
    }
   ],
   "source": [
    "np.linalg.eigh(ac_newton_centered.X)[0]\n",
    "Hidentity = alg_newton_centered.riccati._get_H_matrix(np.identity(30))\n",
    "import scipy\n",
    "np.linalg.norm(scipy.linalg.sqrtm(ac_newton.X) @ centered_realization.B - sys.B)\n",
    "print(np.linalg.det(Hidentity))"
   ]
  },
  {
   "cell_type": "markdown",
   "metadata": {},
   "source": [
    "## Final closed-loop matrix\n",
    "We recover the properties, that every eigenvalue of the continuous-time closed-loop matrix lies on the imaginary axis, while all eigenvalues in the discrete-time case lie inside the unit circle."
   ]
  },
  {
   "cell_type": "code",
   "execution_count": 25,
   "metadata": {},
   "outputs": [
    {
     "name": "stdout",
     "output_type": "stream",
     "text": [
      "maximal abs value of real parts of eigenvalues:\n",
      " 4.582782966655531e-13\n",
      "absolute values of evs of discrete closed-loop matrix:\n",
      " [0.99785611 0.99990452 0.97062008 0.97062008 0.94685901 0.8472432  0.8472432  0.71461054 0.67679616 0.60810103 0.4405096  0.4405096  0.31937987 0.26402578 0.09654606 0.05258612 0.98512968 0.19613111\n",
      " 0.26210781 0.82565883 0.72720662 0.72720662 0.73608902 0.60662519 0.60662519 0.43861105 0.60665525 0.52712241 0.52712241 0.54261952]\n"
     ]
    }
   ],
   "source": [
    "eigs = np.linalg.eig(ac_newton.A_F)[0]\n",
    "print(\"maximal abs value of real parts of eigenvalues:\\n\", np.max(np.abs(np.real(eigs))))\n",
    "eigs_disc = np.linalg.eig(ac_newton_disc.A_F)[0]\n",
    "print(\"absolute values of evs of discrete closed-loop matrix:\\n\", np.abs(eigs_disc))"
   ]
  },
  {
   "cell_type": "markdown",
   "metadata": {},
   "source": [
    "# Computation of characteristic values"
   ]
  },
  {
   "cell_type": "markdown",
   "metadata": {},
   "source": [
    "Compute the characterisic values, as in the paper 'Beattie, Mehrmann, van Dooren'.\n",
    "Note, that the values compared to the paper slightly changed, because of some improvements in the alogorithm and thus slightly different value for the analytic center."
   ]
  },
  {
   "cell_type": "code",
   "execution_count": 8,
   "metadata": {},
   "outputs": [
    {
     "name": "stdout",
     "output_type": "stream",
     "text": [
      "\u001b[32m[INFO    ][analyticcenter.algorithm.analyticcenter] --- Minimal eigenvalue of H(X): 5.9813944418671466e-05 (analyticcenter.py:36)\u001b[0m\n",
      "\u001b[32m[INFO    ][analyticcenter.algorithm.analyticcenter] --- Minimal eigenvalue of X-1 * H(X) * X^-1: 5.966939557811281e-05 (analyticcenter.py:46)\u001b[0m\n",
      "\u001b[32m[INFO    ][analyticcenter.algorithm.analyticcenter] --- Minimal eigenvalues of X^-.5 * H(X) * X^-.5: 5.974171472705722e-05 (analyticcenter.py:56)\u001b[0m\n",
      "\u001b[32m[INFO    ][analyticcenter.algorithm.analyticcenter] --- Minimal eigenvalues of R of the pH realization: 0.04679321644122288 (analyticcenter.py:65)\u001b[0m\n",
      "\u001b[32m[INFO    ][analyticcenter.algorithm.analyticcenter] --- Distance to stability is: (0.04281188879195924, 0.0) (analyticcenter.py:67)\u001b[0m\n"
     ]
    }
   ],
   "source": [
    "ac_newton.compute_characteristic_values()"
   ]
  },
  {
   "cell_type": "markdown",
   "metadata": {},
   "source": [
    "# Generate plot of the algorithm"
   ]
  },
  {
   "cell_type": "code",
   "execution_count": 30,
   "metadata": {},
   "outputs": [
    {
     "data": {
      "image/png": "[encoded data removed]",
      "text/plain": [
       "<Figure size 432x288 with 1 Axes>"
      ]
     },
     "metadata": {
      "needs_background": "light"
     },
     "output_type": "display_data"
    },
    {
     "data": {
      "image/png": "[encoded data removed]",
      "text/plain": [
       "<Figure size 432x288 with 1 Axes>"
      ]
     },
     "metadata": {
      "needs_background": "light"
     },
     "output_type": "display_data"
    }
   ],
   "source": [
    "log_log_direction(alg_newton.intermediate_X, alg_newton.intermediate_det)"
   ]
  },
  {
   "cell_type": "markdown",
   "metadata": {},
   "source": [
    "# Computation with steepest ascent approach"
   ]
  },
  {
   "cell_type": "markdown",
   "metadata": {},
   "source": [
    "*Warning*: This needs some time and does not even succeed in 20000 iterations, even though the determinant increases in every step."
   ]
  },
  {
   "cell_type": "code",
   "execution_count": 10,
   "metadata": {},
   "outputs": [
    {
     "name": "stdout",
     "output_type": "stream",
     "text": [
      "\u001b[32m[INFO    ][analyticcenter.algorithm.riccatioperator] --- System is stable (riccatioperator.py:243)\u001b[0m\n",
      "\u001b[32m[INFO    ][analyticcenter.algorithm.riccatioperator] --- System is controllable. (riccatioperator.py:263)\u001b[0m\n",
      "\u001b[32m[INFO    ][analyticcenter.algorithm.riccatioperator] --- System is passive, if also stable (riccatioperator.py:280)\u001b[0m\n",
      "\u001b[32m[INFO    ][SteepestAscentDirectionCT] --- Computing Analytic Center with Steepest Ascent approach (direction.py:151)\u001b[0m\n",
      "\u001b[32m[INFO    ][SteepestAscentDirectionCT] --- Current step: 0\tResidual: 2167.9022599941536\tDet: 1.0575728796116653e+26 (direction.py:69)\u001b[0m\n",
      "\u001b[32m[INFO    ][SteepestAscentDirectionCT] --- stepsize chosen by line_search: 4.749684119037272e-05 (steepestascent.py:38)\u001b[0m\n",
      "\u001b[32m[INFO    ][SteepestAscentDirectionCT] --- Current step: 1\tResidual: 2167.9008432605806\tDet: 1.057574059014206e+26 (direction.py:69)\u001b[0m\n",
      "\u001b[32m[INFO    ][SteepestAscentDirectionCT] --- stepsize chosen by line_search: 1.2916082513191633e-06 (steepestascent.py:38)\u001b[0m\n",
      "\u001b[32m[INFO    ][SteepestAscentDirectionCT] --- Current step: 2\tResidual: 2167.900832530614\tDet: 1.0575747983694523e+26 (direction.py:69)\u001b[0m\n",
      "\u001b[32m[INFO    ][SteepestAscentDirectionCT] --- stepsize chosen by line_search: 2.777080589539781e-06 (steepestascent.py:38)\u001b[0m\n",
      "\u001b[32m[INFO    ][SteepestAscentDirectionCT] --- Current step: 3\tResidual: 2167.9007892992995\tDet: 1.0575750186690288e+26 (direction.py:69)\u001b[0m\n",
      "\u001b[32m[INFO    ][SteepestAscentDirectionCT] --- stepsize chosen by line_search: 3.993889043814618e-07 (steepestascent.py:38)\u001b[0m\n",
      "\u001b[32m[INFO    ][SteepestAscentDirectionCT] --- Current step: 4\tResidual: 2167.900783936862\tDet: 1.0575750869474273e+26 (direction.py:69)\u001b[0m\n",
      "\u001b[32m[INFO    ][SteepestAscentDirectionCT] --- stepsize chosen by line_search: 1.5133107895914976e-06 (steepestascent.py:38)\u001b[0m\n",
      "\u001b[32m[INFO    ][SteepestAscentDirectionCT] --- Current step: 5\tResidual: 2167.900732601087\tDet: 1.057575142479868e+26 (direction.py:69)\u001b[0m\n",
      "\u001b[32m[INFO    ][SteepestAscentDirectionCT] --- stepsize chosen by line_search: 3.2149533123661137e-07 (steepestascent.py:38)\u001b[0m\n",
      "\u001b[32m[INFO    ][SteepestAscentDirectionCT] --- Current step: 6\tResidual: 2167.900728009794\tDet: 1.0575751867259973e+26 (direction.py:69)\u001b[0m\n",
      "\u001b[32m[INFO    ][SteepestAscentDirectionCT] --- stepsize chosen by line_search: 1.316154740107901e-06 (steepestascent.py:38)\u001b[0m\n",
      "\u001b[32m[INFO    ][SteepestAscentDirectionCT] --- Current step: 7\tResidual: 2167.9006804621063\tDet: 1.05757522735526e+26 (direction.py:69)\u001b[0m\n",
      "\u001b[32m[INFO    ][SteepestAscentDirectionCT] --- stepsize chosen by line_search: 2.924252366707403e-07 (steepestascent.py:38)\u001b[0m\n",
      "\u001b[32m[INFO    ][SteepestAscentDirectionCT] --- Current step: 8\tResidual: 2167.9006762454474\tDet: 1.0575752638844693e+26 (direction.py:69)\u001b[0m\n",
      "\u001b[32m[INFO    ][SteepestAscentDirectionCT] --- stepsize chosen by line_search: 1.2318807169754208e-06 (steepestascent.py:38)\u001b[0m\n",
      "\u001b[32m[INFO    ][SteepestAscentDirectionCT] --- Current step: 9\tResidual: 2167.9006315723136\tDet: 1.0575752989128464e+26 (direction.py:69)\u001b[0m\n",
      "\u001b[32m[INFO    ][SteepestAscentDirectionCT] --- stepsize chosen by line_search: 2.7736387381637836e-07 (steepestascent.py:38)\u001b[0m\n",
      "\u001b[32m[INFO    ][SteepestAscentDirectionCT] --- Current step: 10\tResidual: 2167.9006275663373\tDet: 1.0575753323133755e+26 (direction.py:69)\u001b[0m\n"
     ]
    },
    {
     "ename": "KeyboardInterrupt",
     "evalue": "",
     "output_type": "error",
     "traceback": [
      "\u001b[0;31m---------------------------------------------------------------------------\u001b[0m",
      "\u001b[0;31mKeyboardInterrupt\u001b[0m                         Traceback (most recent call last)",
      "\u001b[0;32m<ipython-input-10-a9dddf7fca7f>\u001b[0m in \u001b[0;36m<module>\u001b[0;34m\u001b[0m\n\u001b[1;32m      3\u001b[0m \u001b[0malg_steepest_ascent\u001b[0m\u001b[0;34m.\u001b[0m\u001b[0mmaxiter\u001b[0m \u001b[0;34m=\u001b[0m \u001b[0;36m2000000\u001b[0m\u001b[0;34m\u001b[0m\u001b[0;34m\u001b[0m\u001b[0m\n\u001b[1;32m      4\u001b[0m \u001b[0mX0\u001b[0m\u001b[0;34m=\u001b[0m\u001b[0malg_newton\u001b[0m\u001b[0;34m.\u001b[0m\u001b[0mintermediate_X\u001b[0m\u001b[0;34m[\u001b[0m\u001b[0;36m6\u001b[0m\u001b[0;34m]\u001b[0m\u001b[0;34m\u001b[0m\u001b[0;34m\u001b[0m\u001b[0m\n\u001b[0;32m----> 5\u001b[0;31m \u001b[0malg_steepest_ascent\u001b[0m\u001b[0;34m(\u001b[0m\u001b[0mX0\u001b[0m\u001b[0;34m=\u001b[0m\u001b[0mX0\u001b[0m\u001b[0;34m)\u001b[0m\u001b[0;34m\u001b[0m\u001b[0;34m\u001b[0m\u001b[0m\n\u001b[0m",
      "\u001b[0;32m~/.conda/envs/analyticcenter/lib/python3.7/site-packages/analyticcenter-0.2-py3.7.egg/analyticcenter/algorithm/direction.py\u001b[0m in \u001b[0;36m__call__\u001b[0;34m(self, X0)\u001b[0m\n\u001b[1;32m    150\u001b[0m         \"\"\"\n\u001b[1;32m    151\u001b[0m         \u001b[0mself\u001b[0m\u001b[0;34m.\u001b[0m\u001b[0mlogger\u001b[0m\u001b[0;34m.\u001b[0m\u001b[0minfo\u001b[0m\u001b[0;34m(\u001b[0m\u001b[0;34m\"Computing Analytic Center with {} approach\"\u001b[0m\u001b[0;34m.\u001b[0m\u001b[0mformat\u001b[0m\u001b[0;34m(\u001b[0m\u001b[0mself\u001b[0m\u001b[0;34m.\u001b[0m\u001b[0mname\u001b[0m\u001b[0;34m)\u001b[0m\u001b[0;34m)\u001b[0m\u001b[0;34m\u001b[0m\u001b[0;34m\u001b[0m\u001b[0m\n\u001b[0;32m--> 152\u001b[0;31m         \u001b[0manalyticcenter\u001b[0m\u001b[0;34m,\u001b[0m \u001b[0msuccess\u001b[0m \u001b[0;34m=\u001b[0m \u001b[0mself\u001b[0m\u001b[0;34m.\u001b[0m\u001b[0m_directional_iterative_algorithm\u001b[0m\u001b[0;34m(\u001b[0m\u001b[0mdirection_algorithm\u001b[0m\u001b[0;34m=\u001b[0m\u001b[0mself\u001b[0m\u001b[0;34m.\u001b[0m\u001b[0m_get_direction\u001b[0m\u001b[0;34m,\u001b[0m \u001b[0mX0\u001b[0m\u001b[0;34m=\u001b[0m\u001b[0mX0\u001b[0m\u001b[0;34m)\u001b[0m\u001b[0;34m\u001b[0m\u001b[0;34m\u001b[0m\u001b[0m\n\u001b[0m\u001b[1;32m    153\u001b[0m         \u001b[0;32mif\u001b[0m \u001b[0msuccess\u001b[0m\u001b[0;34m:\u001b[0m\u001b[0;34m\u001b[0m\u001b[0;34m\u001b[0m\u001b[0m\n\u001b[1;32m    154\u001b[0m             \u001b[0mself\u001b[0m\u001b[0;34m.\u001b[0m\u001b[0mlogger\u001b[0m\u001b[0;34m.\u001b[0m\u001b[0minfo\u001b[0m\u001b[0;34m(\u001b[0m\u001b[0;34m\"Computation of Analytic center with {} approach was successful\"\u001b[0m\u001b[0;34m.\u001b[0m\u001b[0mformat\u001b[0m\u001b[0;34m(\u001b[0m\u001b[0mself\u001b[0m\u001b[0;34m.\u001b[0m\u001b[0mname\u001b[0m\u001b[0;34m)\u001b[0m\u001b[0;34m)\u001b[0m\u001b[0;34m\u001b[0m\u001b[0;34m\u001b[0m\u001b[0m\n",
      "\u001b[0;32m~/.conda/envs/analyticcenter/lib/python3.7/site-packages/analyticcenter-0.2-py3.7.egg/analyticcenter/algorithm/direction.py\u001b[0m in \u001b[0;36m_directional_iterative_algorithm\u001b[0;34m(self, direction_algorithm, X0, fixed_direction)\u001b[0m\n\u001b[1;32m    108\u001b[0m                 \u001b[0mself\u001b[0m\u001b[0;34m.\u001b[0m\u001b[0m_save_intermediate\u001b[0m\u001b[0;34m(\u001b[0m\u001b[0mX\u001b[0m\u001b[0;34m,\u001b[0m \u001b[0mdeterminant\u001b[0m\u001b[0;34m)\u001b[0m\u001b[0;34m\u001b[0m\u001b[0;34m\u001b[0m\u001b[0m\n\u001b[1;32m    109\u001b[0m \u001b[0;34m\u001b[0m\u001b[0m\n\u001b[0;32m--> 110\u001b[0;31m             \u001b[0mDelta_X\u001b[0m \u001b[0;34m=\u001b[0m \u001b[0mdirection_algorithm\u001b[0m\u001b[0;34m(\u001b[0m\u001b[0mX\u001b[0m\u001b[0;34m,\u001b[0m \u001b[0mP\u001b[0m\u001b[0;34m,\u001b[0m \u001b[0mR\u001b[0m\u001b[0;34m,\u001b[0m \u001b[0mF\u001b[0m\u001b[0;34m,\u001b[0m \u001b[0mA_F\u001b[0m\u001b[0;34m,\u001b[0m \u001b[0mfixed_direction\u001b[0m\u001b[0;34m)\u001b[0m\u001b[0;34m\u001b[0m\u001b[0;34m\u001b[0m\u001b[0m\n\u001b[0m\u001b[1;32m    111\u001b[0m             \u001b[0mdelta_cum\u001b[0m \u001b[0;34m+=\u001b[0m \u001b[0mDelta_X\u001b[0m\u001b[0;34m\u001b[0m\u001b[0;34m\u001b[0m\u001b[0m\n\u001b[1;32m    112\u001b[0m             \u001b[0malpha\u001b[0m \u001b[0;34m=\u001b[0m \u001b[0;36m1.\u001b[0m\u001b[0;34m\u001b[0m\u001b[0;34m\u001b[0m\u001b[0m\n",
      "\u001b[0;32m~/.conda/envs/analyticcenter/lib/python3.7/site-packages/analyticcenter-0.2-py3.7.egg/analyticcenter/algorithm/steepestascent.py\u001b[0m in \u001b[0;36m_get_direction\u001b[0;34m(self, X, P, R, F, A_F, fixed_direction)\u001b[0m\n\u001b[1;32m     35\u001b[0m         \u001b[0mDelta\u001b[0m \u001b[0;34m=\u001b[0m \u001b[0mself\u001b[0m\u001b[0;34m.\u001b[0m\u001b[0m_get_Delta\u001b[0m\u001b[0;34m(\u001b[0m\u001b[0mX\u001b[0m\u001b[0;34m,\u001b[0m \u001b[0mP\u001b[0m\u001b[0;34m,\u001b[0m \u001b[0mR\u001b[0m\u001b[0;34m,\u001b[0m \u001b[0mA_F\u001b[0m\u001b[0;34m)\u001b[0m\u001b[0;34m\u001b[0m\u001b[0;34m\u001b[0m\u001b[0m\n\u001b[1;32m     36\u001b[0m         \u001b[0mself\u001b[0m\u001b[0;34m.\u001b[0m\u001b[0mnewton_direction\u001b[0m\u001b[0;34m.\u001b[0m\u001b[0m_init_algorithm\u001b[0m\u001b[0;34m(\u001b[0m\u001b[0;34m)\u001b[0m\u001b[0;34m\u001b[0m\u001b[0;34m\u001b[0m\u001b[0m\n\u001b[0;32m---> 37\u001b[0;31m         \u001b[0;34m(\u001b[0m\u001b[0mac\u001b[0m\u001b[0;34m,\u001b[0m \u001b[0msuccess\u001b[0m\u001b[0;34m)\u001b[0m \u001b[0;34m=\u001b[0m \u001b[0mself\u001b[0m\u001b[0;34m.\u001b[0m\u001b[0mnewton_direction\u001b[0m\u001b[0;34m.\u001b[0m\u001b[0m_directional_iterative_algorithm\u001b[0m\u001b[0;34m(\u001b[0m\u001b[0mdirection_algorithm\u001b[0m\u001b[0;34m=\u001b[0m\u001b[0mself\u001b[0m\u001b[0;34m.\u001b[0m\u001b[0mnewton_direction\u001b[0m\u001b[0;34m.\u001b[0m\u001b[0m_get_direction\u001b[0m\u001b[0;34m,\u001b[0m \u001b[0mX0\u001b[0m\u001b[0;34m=\u001b[0m\u001b[0mX\u001b[0m\u001b[0;34m,\u001b[0m \u001b[0mfixed_direction\u001b[0m\u001b[0;34m=\u001b[0m\u001b[0mDelta\u001b[0m\u001b[0;34m)\u001b[0m\u001b[0;34m\u001b[0m\u001b[0;34m\u001b[0m\u001b[0m\n\u001b[0m\u001b[1;32m     38\u001b[0m         \u001b[0mself\u001b[0m\u001b[0;34m.\u001b[0m\u001b[0mlogger\u001b[0m\u001b[0;34m.\u001b[0m\u001b[0minfo\u001b[0m\u001b[0;34m(\u001b[0m\u001b[0;34m\"stepsize chosen by line_search: {}\"\u001b[0m\u001b[0;34m.\u001b[0m\u001b[0mformat\u001b[0m\u001b[0;34m(\u001b[0m\u001b[0;34m-\u001b[0m\u001b[0mac\u001b[0m\u001b[0;34m.\u001b[0m\u001b[0mdelta_cum\u001b[0m\u001b[0;34m[\u001b[0m\u001b[0;36m0\u001b[0m\u001b[0;34m,\u001b[0m \u001b[0;36m0\u001b[0m\u001b[0;34m]\u001b[0m\u001b[0;34m/\u001b[0m\u001b[0mDelta\u001b[0m\u001b[0;34m[\u001b[0m\u001b[0;36m0\u001b[0m\u001b[0;34m,\u001b[0m\u001b[0;36m0\u001b[0m\u001b[0;34m]\u001b[0m\u001b[0;34m)\u001b[0m\u001b[0;34m)\u001b[0m\u001b[0;34m\u001b[0m\u001b[0;34m\u001b[0m\u001b[0m\n\u001b[1;32m     39\u001b[0m         \u001b[0;32mif\u001b[0m \u001b[0mnp\u001b[0m\u001b[0;34m.\u001b[0m\u001b[0misclose\u001b[0m\u001b[0;34m(\u001b[0m\u001b[0mlinalg\u001b[0m\u001b[0;34m.\u001b[0m\u001b[0mnorm\u001b[0m\u001b[0;34m(\u001b[0m\u001b[0mac\u001b[0m\u001b[0;34m.\u001b[0m\u001b[0mdelta_cum\u001b[0m\u001b[0;34m)\u001b[0m\u001b[0;34m,\u001b[0m \u001b[0;36m0\u001b[0m\u001b[0;34m)\u001b[0m\u001b[0;34m:\u001b[0m\u001b[0;34m\u001b[0m\u001b[0;34m\u001b[0m\u001b[0m\n",
      "\u001b[0;32m~/.conda/envs/analyticcenter/lib/python3.7/site-packages/analyticcenter-0.2-py3.7.egg/analyticcenter/algorithm/direction.py\u001b[0m in \u001b[0;36m_directional_iterative_algorithm\u001b[0;34m(self, direction_algorithm, X0, fixed_direction)\u001b[0m\n\u001b[1;32m    104\u001b[0m \u001b[0;34m\u001b[0m\u001b[0m\n\u001b[1;32m    105\u001b[0m         \u001b[0;32mwhile\u001b[0m \u001b[0;32mnot\u001b[0m \u001b[0mself\u001b[0m\u001b[0;34m.\u001b[0m\u001b[0m_stopping_criterion\u001b[0m\u001b[0;34m(\u001b[0m\u001b[0;34m)\u001b[0m \u001b[0;32mand\u001b[0m \u001b[0mself\u001b[0m\u001b[0;34m.\u001b[0m\u001b[0msteps_count\u001b[0m \u001b[0;34m<\u001b[0m \u001b[0mself\u001b[0m\u001b[0;34m.\u001b[0m\u001b[0mmaxiter\u001b[0m\u001b[0;34m:\u001b[0m\u001b[0;34m\u001b[0m\u001b[0;34m\u001b[0m\u001b[0m\n\u001b[0;32m--> 106\u001b[0;31m             \u001b[0mself\u001b[0m\u001b[0;34m.\u001b[0m\u001b[0m_print_information\u001b[0m\u001b[0;34m(\u001b[0m\u001b[0mself\u001b[0m\u001b[0;34m.\u001b[0m\u001b[0mresidual\u001b[0m\u001b[0;34m,\u001b[0m \u001b[0mdeterminant\u001b[0m\u001b[0;34m,\u001b[0m \u001b[0mX\u001b[0m\u001b[0;34m)\u001b[0m\u001b[0;34m\u001b[0m\u001b[0;34m\u001b[0m\u001b[0m\n\u001b[0m\u001b[1;32m    107\u001b[0m             \u001b[0;32mif\u001b[0m \u001b[0mself\u001b[0m\u001b[0;34m.\u001b[0m\u001b[0msave_intermediate\u001b[0m\u001b[0;34m:\u001b[0m\u001b[0;34m\u001b[0m\u001b[0;34m\u001b[0m\u001b[0m\n\u001b[1;32m    108\u001b[0m                 \u001b[0mself\u001b[0m\u001b[0;34m.\u001b[0m\u001b[0m_save_intermediate\u001b[0m\u001b[0;34m(\u001b[0m\u001b[0mX\u001b[0m\u001b[0;34m,\u001b[0m \u001b[0mdeterminant\u001b[0m\u001b[0;34m)\u001b[0m\u001b[0;34m\u001b[0m\u001b[0;34m\u001b[0m\u001b[0m\n",
      "\u001b[0;32m~/.conda/envs/analyticcenter/lib/python3.7/site-packages/analyticcenter-0.2-py3.7.egg/analyticcenter/algorithm/direction.py\u001b[0m in \u001b[0;36m_print_information\u001b[0;34m(self, residual, determinant, X)\u001b[0m\n\u001b[1;32m     69\u001b[0m             \u001b[0mself\u001b[0m\u001b[0;34m.\u001b[0m\u001b[0mlogger\u001b[0m\u001b[0;34m.\u001b[0m\u001b[0minfo\u001b[0m\u001b[0;34m(\u001b[0m\u001b[0;34m\"Current step: {}\\tResidual: {}\\tDet: {}\"\u001b[0m\u001b[0;34m.\u001b[0m\u001b[0mformat\u001b[0m\u001b[0;34m(\u001b[0m\u001b[0mself\u001b[0m\u001b[0;34m.\u001b[0m\u001b[0msteps_count\u001b[0m\u001b[0;34m,\u001b[0m \u001b[0mresidual\u001b[0m\u001b[0;34m,\u001b[0m \u001b[0mdeterminant\u001b[0m\u001b[0;34m)\u001b[0m\u001b[0;34m)\u001b[0m\u001b[0;34m\u001b[0m\u001b[0;34m\u001b[0m\u001b[0m\n\u001b[1;32m     70\u001b[0m             \u001b[0mself\u001b[0m\u001b[0;34m.\u001b[0m\u001b[0mlogger\u001b[0m\u001b[0;34m.\u001b[0m\u001b[0mdebug\u001b[0m\u001b[0;34m(\u001b[0m\u001b[0;34m\"Current objective value (det(H(X))): {}\"\u001b[0m\u001b[0;34m.\u001b[0m\u001b[0mformat\u001b[0m\u001b[0;34m(\u001b[0m\u001b[0mdeterminant\u001b[0m\u001b[0;34m)\u001b[0m\u001b[0;34m)\u001b[0m\u001b[0;34m\u001b[0m\u001b[0;34m\u001b[0m\u001b[0m\n\u001b[0;32m---> 71\u001b[0;31m             \u001b[0mself\u001b[0m\u001b[0;34m.\u001b[0m\u001b[0mlogger\u001b[0m\u001b[0;34m.\u001b[0m\u001b[0mdebug\u001b[0m\u001b[0;34m(\u001b[0m\u001b[0;34m\"Current X:\\n{}\"\u001b[0m\u001b[0;34m.\u001b[0m\u001b[0mformat\u001b[0m\u001b[0;34m(\u001b[0m\u001b[0mX\u001b[0m\u001b[0;34m)\u001b[0m\u001b[0;34m)\u001b[0m\u001b[0;34m\u001b[0m\u001b[0;34m\u001b[0m\u001b[0m\n\u001b[0m\u001b[1;32m     72\u001b[0m         \u001b[0mdet\u001b[0m \u001b[0;34m=\u001b[0m \u001b[0mnp\u001b[0m\u001b[0;34m.\u001b[0m\u001b[0mreal\u001b[0m\u001b[0;34m(\u001b[0m\u001b[0mdeterminant\u001b[0m\u001b[0;34m)\u001b[0m\u001b[0;34m\u001b[0m\u001b[0;34m\u001b[0m\u001b[0m\n\u001b[1;32m     73\u001b[0m         \u001b[0;32mif\u001b[0m \u001b[0mdet\u001b[0m \u001b[0;34m<\u001b[0m \u001b[0;36m0\u001b[0m\u001b[0;34m:\u001b[0m\u001b[0;34m\u001b[0m\u001b[0;34m\u001b[0m\u001b[0m\n",
      "\u001b[0;32m~/.conda/envs/analyticcenter/lib/python3.7/site-packages/numpy/core/arrayprint.py\u001b[0m in \u001b[0;36m_array_str_implementation\u001b[0;34m(a, max_line_width, precision, suppress_small, array2string)\u001b[0m\n\u001b[1;32m   1514\u001b[0m         \u001b[0;32mreturn\u001b[0m \u001b[0m_guarded_str\u001b[0m\u001b[0;34m(\u001b[0m\u001b[0mnp\u001b[0m\u001b[0;34m.\u001b[0m\u001b[0mndarray\u001b[0m\u001b[0;34m.\u001b[0m\u001b[0m__getitem__\u001b[0m\u001b[0;34m(\u001b[0m\u001b[0ma\u001b[0m\u001b[0;34m,\u001b[0m \u001b[0;34m(\u001b[0m\u001b[0;34m)\u001b[0m\u001b[0;34m)\u001b[0m\u001b[0;34m)\u001b[0m\u001b[0;34m\u001b[0m\u001b[0;34m\u001b[0m\u001b[0m\n\u001b[1;32m   1515\u001b[0m \u001b[0;34m\u001b[0m\u001b[0m\n\u001b[0;32m-> 1516\u001b[0;31m     \u001b[0;32mreturn\u001b[0m \u001b[0marray2string\u001b[0m\u001b[0;34m(\u001b[0m\u001b[0ma\u001b[0m\u001b[0;34m,\u001b[0m \u001b[0mmax_line_width\u001b[0m\u001b[0;34m,\u001b[0m \u001b[0mprecision\u001b[0m\u001b[0;34m,\u001b[0m \u001b[0msuppress_small\u001b[0m\u001b[0;34m,\u001b[0m \u001b[0;34m' '\u001b[0m\u001b[0;34m,\u001b[0m \u001b[0;34m\"\"\u001b[0m\u001b[0;34m)\u001b[0m\u001b[0;34m\u001b[0m\u001b[0;34m\u001b[0m\u001b[0m\n\u001b[0m\u001b[1;32m   1517\u001b[0m \u001b[0;34m\u001b[0m\u001b[0m\n\u001b[1;32m   1518\u001b[0m \u001b[0;34m\u001b[0m\u001b[0m\n",
      "\u001b[0;32m~/.conda/envs/analyticcenter/lib/python3.7/site-packages/numpy/core/arrayprint.py\u001b[0m in \u001b[0;36marray2string\u001b[0;34m(a, max_line_width, precision, suppress_small, separator, prefix, style, formatter, threshold, edgeitems, sign, floatmode, suffix, **kwarg)\u001b[0m\n\u001b[1;32m    688\u001b[0m         \u001b[0;32mreturn\u001b[0m \u001b[0;34m\"[]\"\u001b[0m\u001b[0;34m\u001b[0m\u001b[0;34m\u001b[0m\u001b[0m\n\u001b[1;32m    689\u001b[0m \u001b[0;34m\u001b[0m\u001b[0m\n\u001b[0;32m--> 690\u001b[0;31m     \u001b[0;32mreturn\u001b[0m \u001b[0m_array2string\u001b[0m\u001b[0;34m(\u001b[0m\u001b[0ma\u001b[0m\u001b[0;34m,\u001b[0m \u001b[0moptions\u001b[0m\u001b[0;34m,\u001b[0m \u001b[0mseparator\u001b[0m\u001b[0;34m,\u001b[0m \u001b[0mprefix\u001b[0m\u001b[0;34m)\u001b[0m\u001b[0;34m\u001b[0m\u001b[0;34m\u001b[0m\u001b[0m\n\u001b[0m\u001b[1;32m    691\u001b[0m \u001b[0;34m\u001b[0m\u001b[0m\n\u001b[1;32m    692\u001b[0m \u001b[0;34m\u001b[0m\u001b[0m\n",
      "\u001b[0;32m~/.conda/envs/analyticcenter/lib/python3.7/site-packages/numpy/core/arrayprint.py\u001b[0m in \u001b[0;36mwrapper\u001b[0;34m(self, *args, **kwargs)\u001b[0m\n\u001b[1;32m    468\u001b[0m             \u001b[0mrepr_running\u001b[0m\u001b[0;34m.\u001b[0m\u001b[0madd\u001b[0m\u001b[0;34m(\u001b[0m\u001b[0mkey\u001b[0m\u001b[0;34m)\u001b[0m\u001b[0;34m\u001b[0m\u001b[0;34m\u001b[0m\u001b[0m\n\u001b[1;32m    469\u001b[0m             \u001b[0;32mtry\u001b[0m\u001b[0;34m:\u001b[0m\u001b[0;34m\u001b[0m\u001b[0;34m\u001b[0m\u001b[0m\n\u001b[0;32m--> 470\u001b[0;31m                 \u001b[0;32mreturn\u001b[0m \u001b[0mf\u001b[0m\u001b[0;34m(\u001b[0m\u001b[0mself\u001b[0m\u001b[0;34m,\u001b[0m \u001b[0;34m*\u001b[0m\u001b[0margs\u001b[0m\u001b[0;34m,\u001b[0m \u001b[0;34m**\u001b[0m\u001b[0mkwargs\u001b[0m\u001b[0;34m)\u001b[0m\u001b[0;34m\u001b[0m\u001b[0;34m\u001b[0m\u001b[0m\n\u001b[0m\u001b[1;32m    471\u001b[0m             \u001b[0;32mfinally\u001b[0m\u001b[0;34m:\u001b[0m\u001b[0;34m\u001b[0m\u001b[0;34m\u001b[0m\u001b[0m\n\u001b[1;32m    472\u001b[0m                 \u001b[0mrepr_running\u001b[0m\u001b[0;34m.\u001b[0m\u001b[0mdiscard\u001b[0m\u001b[0;34m(\u001b[0m\u001b[0mkey\u001b[0m\u001b[0;34m)\u001b[0m\u001b[0;34m\u001b[0m\u001b[0;34m\u001b[0m\u001b[0m\n",
      "\u001b[0;32m~/.conda/envs/analyticcenter/lib/python3.7/site-packages/numpy/core/arrayprint.py\u001b[0m in \u001b[0;36m_array2string\u001b[0;34m(a, options, separator, prefix)\u001b[0m\n\u001b[1;32m    503\u001b[0m     lst = _formatArray(a, format_function, options['linewidth'],\n\u001b[1;32m    504\u001b[0m                        \u001b[0mnext_line_prefix\u001b[0m\u001b[0;34m,\u001b[0m \u001b[0mseparator\u001b[0m\u001b[0;34m,\u001b[0m \u001b[0moptions\u001b[0m\u001b[0;34m[\u001b[0m\u001b[0;34m'edgeitems'\u001b[0m\u001b[0;34m]\u001b[0m\u001b[0;34m,\u001b[0m\u001b[0;34m\u001b[0m\u001b[0;34m\u001b[0m\u001b[0m\n\u001b[0;32m--> 505\u001b[0;31m                        summary_insert, options['legacy'])\n\u001b[0m\u001b[1;32m    506\u001b[0m     \u001b[0;32mreturn\u001b[0m \u001b[0mlst\u001b[0m\u001b[0;34m\u001b[0m\u001b[0;34m\u001b[0m\u001b[0m\n\u001b[1;32m    507\u001b[0m \u001b[0;34m\u001b[0m\u001b[0m\n",
      "\u001b[0;32m~/.conda/envs/analyticcenter/lib/python3.7/site-packages/numpy/core/arrayprint.py\u001b[0m in \u001b[0;36m_formatArray\u001b[0;34m(a, format_function, line_width, next_line_prefix, separator, edge_items, summary_insert, legacy)\u001b[0m\n\u001b[1;32m    816\u001b[0m         return recurser(index=(),\n\u001b[1;32m    817\u001b[0m                         \u001b[0mhanging_indent\u001b[0m\u001b[0;34m=\u001b[0m\u001b[0mnext_line_prefix\u001b[0m\u001b[0;34m,\u001b[0m\u001b[0;34m\u001b[0m\u001b[0;34m\u001b[0m\u001b[0m\n\u001b[0;32m--> 818\u001b[0;31m                         curr_width=line_width)\n\u001b[0m\u001b[1;32m    819\u001b[0m     \u001b[0;32mfinally\u001b[0m\u001b[0;34m:\u001b[0m\u001b[0;34m\u001b[0m\u001b[0;34m\u001b[0m\u001b[0m\n\u001b[1;32m    820\u001b[0m         \u001b[0;31m# recursive closures have a cyclic reference to themselves, which\u001b[0m\u001b[0;34m\u001b[0m\u001b[0;34m\u001b[0m\u001b[0;34m\u001b[0m\u001b[0m\n",
      "\u001b[0;32m~/.conda/envs/analyticcenter/lib/python3.7/site-packages/numpy/core/arrayprint.py\u001b[0m in \u001b[0;36mrecurser\u001b[0;34m(index, hanging_indent, curr_width)\u001b[0m\n\u001b[1;32m    802\u001b[0m             \u001b[0;32mfor\u001b[0m \u001b[0mi\u001b[0m \u001b[0;32min\u001b[0m \u001b[0mrange\u001b[0m\u001b[0;34m(\u001b[0m\u001b[0mtrailing_items\u001b[0m\u001b[0;34m,\u001b[0m \u001b[0;36m1\u001b[0m\u001b[0;34m,\u001b[0m \u001b[0;34m-\u001b[0m\u001b[0;36m1\u001b[0m\u001b[0;34m)\u001b[0m\u001b[0;34m:\u001b[0m\u001b[0;34m\u001b[0m\u001b[0;34m\u001b[0m\u001b[0m\n\u001b[1;32m    803\u001b[0m                 nested = recurser(index + (-i,), next_hanging_indent,\n\u001b[0;32m--> 804\u001b[0;31m                                   next_width)\n\u001b[0m\u001b[1;32m    805\u001b[0m                 \u001b[0ms\u001b[0m \u001b[0;34m+=\u001b[0m \u001b[0mhanging_indent\u001b[0m \u001b[0;34m+\u001b[0m \u001b[0mnested\u001b[0m \u001b[0;34m+\u001b[0m \u001b[0mline_sep\u001b[0m\u001b[0;34m\u001b[0m\u001b[0;34m\u001b[0m\u001b[0m\n\u001b[1;32m    806\u001b[0m \u001b[0;34m\u001b[0m\u001b[0m\n",
      "\u001b[0;32m~/.conda/envs/analyticcenter/lib/python3.7/site-packages/numpy/core/arrayprint.py\u001b[0m in \u001b[0;36mrecurser\u001b[0;34m(index, hanging_indent, curr_width)\u001b[0m\n\u001b[1;32m    770\u001b[0m \u001b[0;34m\u001b[0m\u001b[0m\n\u001b[1;32m    771\u001b[0m             \u001b[0;32mfor\u001b[0m \u001b[0mi\u001b[0m \u001b[0;32min\u001b[0m \u001b[0mrange\u001b[0m\u001b[0;34m(\u001b[0m\u001b[0mtrailing_items\u001b[0m\u001b[0;34m,\u001b[0m \u001b[0;36m1\u001b[0m\u001b[0;34m,\u001b[0m \u001b[0;34m-\u001b[0m\u001b[0;36m1\u001b[0m\u001b[0;34m)\u001b[0m\u001b[0;34m:\u001b[0m\u001b[0;34m\u001b[0m\u001b[0;34m\u001b[0m\u001b[0m\n\u001b[0;32m--> 772\u001b[0;31m                 \u001b[0mword\u001b[0m \u001b[0;34m=\u001b[0m \u001b[0mrecurser\u001b[0m\u001b[0;34m(\u001b[0m\u001b[0mindex\u001b[0m \u001b[0;34m+\u001b[0m \u001b[0;34m(\u001b[0m\u001b[0;34m-\u001b[0m\u001b[0mi\u001b[0m\u001b[0;34m,\u001b[0m\u001b[0;34m)\u001b[0m\u001b[0;34m,\u001b[0m \u001b[0mnext_hanging_indent\u001b[0m\u001b[0;34m,\u001b[0m \u001b[0mnext_width\u001b[0m\u001b[0;34m)\u001b[0m\u001b[0;34m\u001b[0m\u001b[0;34m\u001b[0m\u001b[0m\n\u001b[0m\u001b[1;32m    773\u001b[0m                 s, line = _extendLine(\n\u001b[1;32m    774\u001b[0m                     s, line, word, elem_width, hanging_indent, legacy)\n",
      "\u001b[0;32m~/.conda/envs/analyticcenter/lib/python3.7/site-packages/numpy/core/arrayprint.py\u001b[0m in \u001b[0;36mrecurser\u001b[0;34m(index, hanging_indent, curr_width)\u001b[0m\n\u001b[1;32m    724\u001b[0m \u001b[0;34m\u001b[0m\u001b[0m\n\u001b[1;32m    725\u001b[0m         \u001b[0;32mif\u001b[0m \u001b[0maxes_left\u001b[0m \u001b[0;34m==\u001b[0m \u001b[0;36m0\u001b[0m\u001b[0;34m:\u001b[0m\u001b[0;34m\u001b[0m\u001b[0;34m\u001b[0m\u001b[0m\n\u001b[0;32m--> 726\u001b[0;31m             \u001b[0;32mreturn\u001b[0m \u001b[0mformat_function\u001b[0m\u001b[0;34m(\u001b[0m\u001b[0ma\u001b[0m\u001b[0;34m[\u001b[0m\u001b[0mindex\u001b[0m\u001b[0;34m]\u001b[0m\u001b[0;34m)\u001b[0m\u001b[0;34m\u001b[0m\u001b[0;34m\u001b[0m\u001b[0m\n\u001b[0m\u001b[1;32m    727\u001b[0m \u001b[0;34m\u001b[0m\u001b[0m\n\u001b[1;32m    728\u001b[0m         \u001b[0;31m# when recursing, add a space to align with the [ added, and reduce the\u001b[0m\u001b[0;34m\u001b[0m\u001b[0;34m\u001b[0m\u001b[0;34m\u001b[0m\u001b[0m\n",
      "\u001b[0;32m~/.conda/envs/analyticcenter/lib/python3.7/site-packages/numpy/core/arrayprint.py\u001b[0m in \u001b[0;36m__call__\u001b[0;34m(self, x)\u001b[0m\n\u001b[1;32m    961\u001b[0m                                       \u001b[0msign\u001b[0m\u001b[0;34m=\u001b[0m\u001b[0mself\u001b[0m\u001b[0;34m.\u001b[0m\u001b[0msign\u001b[0m \u001b[0;34m==\u001b[0m \u001b[0;34m'+'\u001b[0m\u001b[0;34m,\u001b[0m\u001b[0;34m\u001b[0m\u001b[0;34m\u001b[0m\u001b[0m\n\u001b[1;32m    962\u001b[0m                                       \u001b[0mpad_left\u001b[0m\u001b[0;34m=\u001b[0m\u001b[0mself\u001b[0m\u001b[0;34m.\u001b[0m\u001b[0mpad_left\u001b[0m\u001b[0;34m,\u001b[0m\u001b[0;34m\u001b[0m\u001b[0;34m\u001b[0m\u001b[0m\n\u001b[0;32m--> 963\u001b[0;31m                                       exp_digits=self.exp_size)\n\u001b[0m\u001b[1;32m    964\u001b[0m         \u001b[0;32melse\u001b[0m\u001b[0;34m:\u001b[0m\u001b[0;34m\u001b[0m\u001b[0;34m\u001b[0m\u001b[0m\n\u001b[1;32m    965\u001b[0m             return dragon4_positional(x,\n",
      "\u001b[0;31mKeyboardInterrupt\u001b[0m: "
     ]
    }
   ],
   "source": [
    "alg_steepest_ascent = get_algorithm_object(sys, 'steepestascent', discrete_time=False, save_intermediate=True)\n",
    "alg_steepest_ascent.abs_tol = 10e-\n",
    "alg_steepest_ascent.maxiter = 2000000\n",
    "X0=alg_newton.intermediate_X[6]\n",
    "alg_steepest_ascent(X0=X0)"
   ]
  },
  {
   "cell_type": "code",
   "execution_count": null,
   "metadata": {},
   "outputs": [],
   "source": [
    "log_log_direction(alg_steepest_ascent.intermediate_X, alg_steepest_ascent.intermediate_det)"
   ]
  },
  {
   "cell_type": "code",
   "execution_count": null,
   "metadata": {},
   "outputs": [],
   "source": []
  }
 ],
 "metadata": {
  "kernelspec": {
   "display_name": "Python (analyticcenter)",
   "language": "python",
   "name": "analyticcenter"
  },
  "language_info": {
   "codemirror_mode": {
    "name": "ipython",
    "version": 3
   },
   "file_extension": ".py",
   "mimetype": "text/x-python",
   "name": "python",
   "nbconvert_exporter": "python",
   "pygments_lexer": "ipython3",
   "version": "3.7.2"
  }
 },
 "nbformat": 4,
 "nbformat_minor": 2
}
