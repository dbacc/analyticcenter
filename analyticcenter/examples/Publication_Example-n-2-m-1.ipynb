{
 "cells": [
  {
   "cell_type": "markdown",
   "metadata": {},
   "source": [
    "This example file is intended to cover computations in the publication\n",
    "\n",
    "    Bankmann, D.; Mehrmann, V.; Nesterov, Y.; van Dooren, P., Computation of the analytic center of the solution set of the linear matrix inequality arising in continuous- and discrete-time passivity analysis, 2019"
   ]
  },
  {
   "cell_type": "markdown",
   "metadata": {},
   "source": [
    "# Initialization"
   ]
  },
  {
   "cell_type": "code",
   "execution_count": 44,
   "metadata": {
    "scrolled": true
   },
   "outputs": [
    {
     "name": "stdout",
     "output_type": "stream",
     "text": [
      "A =\n",
      "[[-2  2]\n",
      " [-2 -2]]\n",
      "B\n",
      "= [[1]\n",
      " [1]]\n",
      "C\n",
      "= [[1 1]]\n",
      "D\n",
      "= [[2]]\n",
      "Q\n",
      "= [[0. 0.]\n",
      " [0. 0.]]\n",
      "R\n",
      "= [[4]]\n",
      "S\n",
      "= [[1]\n",
      " [1]]\n"
     ]
    }
   ],
   "source": [
    "import logging\n",
    "import numpy as np\n",
    "from os.path import join, dirname\n",
    "from analyticcenter import WeightedSystem, get_algorithm_object\n",
    "from analyticcenter.visualize import log_log_direction\n",
    "from analyticcenter.examples.example1 import sys\n",
    "print(\"A =\\n{}\\nB\\n= {}\\nC\\n= {}\\nD\\n= {}\\nQ\\n= {}\\nR\\n= {}\\nS\\n= {}\".format(sys.A, sys.B, sys.C, sys.D, sys.Q, sys.R, sys.S))"
   ]
  },
  {
   "cell_type": "markdown",
   "metadata": {},
   "source": [
    "# Computation of analytic center with the newton approach."
   ]
  },
  {
   "cell_type": "code",
   "execution_count": 26,
   "metadata": {
    "scrolled": true
   },
   "outputs": [
    {
     "name": "stdout",
     "output_type": "stream",
     "text": [
      "\u001b[32m[INFO    ][analyticcenter.algorithm.riccatioperator] --- System is stable (riccatioperator.py:243)\u001b[0m\n",
      "\u001b[32m[INFO    ][analyticcenter.algorithm.riccatioperator] --- System is controllable. (riccatioperator.py:263)\u001b[0m\n",
      "\u001b[32m[INFO    ][NewtonDirectionMultipleDimensionsCT] --- Computing Analytic Center with NewtonMDCT approach (direction.py:151)\u001b[0m\n",
      "\u001b[32m[INFO    ][InitialXCT] --- Computing initial X (initialization.py:57)\u001b[0m\n",
      "\u001b[32m[INFO    ][InitialXCT] --- Computed initial guess with geometric mean approach.\n",
      "det(H(X0)) = 42.33915359523093 (initialization.py:67)\u001b[0m\n",
      "\u001b[32m[INFO    ][InitialXCT] --- Computed initial guess with bisection approach.\n",
      "det(H(X0)) = 0.04743947306823446 (initialization.py:78)\u001b[0m\n",
      "\u001b[32m[INFO    ][InitialXCT] --- Taking solution computed with geometric mean approach (initialization.py:85)\u001b[0m\n",
      "\u001b[32m[INFO    ][NewtonDirectionMultipleDimensionsCT] --- Current step: 0\tResidual: 34.3766932110012\tDet: 42.339153595230925 (direction.py:69)\u001b[0m\n",
      "\u001b[32m[INFO    ][NewtonDirectionMultipleDimensionsCT] --- In linearly converging phase (newton.py:62)\u001b[0m\n",
      "\u001b[32m[INFO    ][NewtonDirectionMultipleDimensionsCT] --- Current step: 1\tResidual: 49.97513300358058\tDet: 147.73834202238908 (direction.py:69)\u001b[0m\n",
      "\u001b[32m[INFO    ][NewtonDirectionMultipleDimensionsCT] --- In linearly converging phase (newton.py:62)\u001b[0m\n",
      "\u001b[32m[INFO    ][NewtonDirectionMultipleDimensionsCT] --- Current step: 2\tResidual: 55.093517923246075\tDet: 451.66598067015883 (direction.py:69)\u001b[0m\n",
      "\u001b[32m[INFO    ][NewtonDirectionMultipleDimensionsCT] --- In linearly converging phase (newton.py:62)\u001b[0m\n",
      "\u001b[32m[INFO    ][NewtonDirectionMultipleDimensionsCT] --- Current step: 3\tResidual: 52.87626539243082\tDet: 1093.088969353515 (direction.py:69)\u001b[0m\n",
      "\u001b[32m[INFO    ][NewtonDirectionMultipleDimensionsCT] --- In linearly converging phase (newton.py:62)\u001b[0m\n",
      "\u001b[32m[INFO    ][NewtonDirectionMultipleDimensionsCT] --- Current step: 4\tResidual: 52.925850226701215\tDet: 1928.237232406552 (direction.py:69)\u001b[0m\n",
      "\u001b[32m[INFO    ][NewtonDirectionMultipleDimensionsCT] --- In linearly converging phase (newton.py:62)\u001b[0m\n",
      "\u001b[32m[INFO    ][NewtonDirectionMultipleDimensionsCT] --- Current step: 5\tResidual: 28.118519164033962\tDet: 2517.342560807083 (direction.py:69)\u001b[0m\n",
      "\u001b[32m[INFO    ][NewtonDirectionMultipleDimensionsCT] --- In linearly converging phase (newton.py:62)\u001b[0m\n",
      "\u001b[32m[INFO    ][NewtonDirectionMultipleDimensionsCT] --- Current step: 6\tResidual: 4.998519824255914\tDet: 2641.6168898195256 (direction.py:69)\u001b[0m\n",
      "\u001b[32m[INFO    ][NewtonDirectionMultipleDimensionsCT] --- In quadratically converging phase (newton.py:66)\u001b[0m\n",
      "\u001b[32m[INFO    ][NewtonDirectionMultipleDimensionsCT] --- Current step: 7\tResidual: 0.09773055255864133\tDet: 2643.1560350352192 (direction.py:69)\u001b[0m\n",
      "\u001b[32m[INFO    ][NewtonDirectionMultipleDimensionsCT] --- In quadratically converging phase (newton.py:66)\u001b[0m\n",
      "\u001b[32m[INFO    ][NewtonDirectionMultipleDimensionsCT] --- Current step: 8\tResidual: 1.293961428928859e-05\tDet: 2643.1562084732805 (direction.py:69)\u001b[0m\n",
      "\u001b[32m[INFO    ][NewtonDirectionMultipleDimensionsCT] --- In quadratically converging phase (newton.py:66)\u001b[0m\n",
      "\u001b[32m[INFO    ][NewtonDirectionMultipleDimensionsCT] --- Current step: 9\tResidual: 2.256765235781395e-13\tDet: 2643.156208473284 (direction.py:69)\u001b[0m\n",
      "\u001b[32m[INFO    ][NewtonDirectionMultipleDimensionsCT] --- In quadratically converging phase (newton.py:66)\u001b[0m\n",
      "\u001b[32m[INFO    ][NewtonDirectionMultipleDimensionsCT] --- Current step: 10\tResidual: 1.0459257354647404e-13\tDet: 2643.1562084732836 (direction.py:69)\u001b[0m\n",
      "\u001b[32m[INFO    ][NewtonDirectionMultipleDimensionsCT] --- Computation of Analytic center with NewtonMDCT approach was successful (direction.py:154)\u001b[0m\n"
     ]
    }
   ],
   "source": [
    "logger = logging.getLogger()\n",
    "\n",
    "alg_newton = get_algorithm_object(sys, 'newton', discrete_time=False, save_intermediate=True)\n",
    "(ac_newton, success) = alg_newton()"
   ]
  },
  {
   "cell_type": "code",
   "execution_count": 43,
   "metadata": {},
   "outputs": [
    {
     "name": "stdout",
     "output_type": "stream",
     "text": [
      "\u001b[32m[INFO    ][analyticcenter.algorithm.riccatioperator] --- System is stable (riccatioperator.py:243)\u001b[0m\n",
      "\u001b[32m[INFO    ][NewtonDirectionMultipleDimensionsDT] --- Computing Analytic Center with Newton approach (direction.py:151)\u001b[0m\n",
      "\u001b[32m[INFO    ][InitialXDT] --- Computing initial X (initialization.py:57)\u001b[0m\n",
      "\u001b[32m[INFO    ][InitialXDT] --- Computed initial guess with geometric mean approach.\n",
      "det(H(X0)) = 1.0021101442658218 (initialization.py:67)\u001b[0m\n",
      "\u001b[01;31m[CRITICAL][analyticcenter.misc.misc] --- Matrix H(X) is not non-negative (misc.py:50)\u001b[0m\n",
      "\u001b[32m[INFO    ][InitialXDT] --- Computed initial guess with bisection approach.\n",
      "det(H(X0)) = 0.13392998218763616 (initialization.py:78)\u001b[0m\n",
      "\u001b[32m[INFO    ][InitialXDT] --- Taking solution computed with geometric mean approach (initialization.py:85)\u001b[0m\n",
      "\u001b[32m[INFO    ][NewtonDirectionMultipleDimensionsDT] --- Current step: 0\tResidual: 3.5118759875769765\tDet: 1.0021101442658216 (direction.py:69)\u001b[0m\n",
      "\u001b[32m[INFO    ][NewtonDirectionMultipleDimensionsDT] --- In linearly converging phase (newton.py:62)\u001b[0m\n",
      "\u001b[32m[INFO    ][NewtonDirectionMultipleDimensionsDT] --- Current step: 1\tResidual: 1.7495419021458891\tDet: 3.6287080068220576 (direction.py:69)\u001b[0m\n",
      "\u001b[32m[INFO    ][NewtonDirectionMultipleDimensionsDT] --- In linearly converging phase (newton.py:62)\u001b[0m\n",
      "\u001b[32m[INFO    ][NewtonDirectionMultipleDimensionsDT] --- Current step: 2\tResidual: 0.8607097832317265\tDet: 11.894638027796026 (direction.py:69)\u001b[0m\n",
      "\u001b[32m[INFO    ][NewtonDirectionMultipleDimensionsDT] --- In linearly converging phase (newton.py:62)\u001b[0m\n",
      "\u001b[32m[INFO    ][NewtonDirectionMultipleDimensionsDT] --- Current step: 3\tResidual: 0.4024531884288631\tDet: 32.443947886349015 (direction.py:69)\u001b[0m\n",
      "\u001b[32m[INFO    ][NewtonDirectionMultipleDimensionsDT] --- In linearly converging phase (newton.py:62)\u001b[0m\n",
      "\u001b[32m[INFO    ][NewtonDirectionMultipleDimensionsDT] --- Current step: 4\tResidual: 0.16212206248221006\tDet: 67.53489474736833 (direction.py:69)\u001b[0m\n",
      "\u001b[32m[INFO    ][NewtonDirectionMultipleDimensionsDT] --- In linearly converging phase (newton.py:62)\u001b[0m\n",
      "\u001b[32m[INFO    ][NewtonDirectionMultipleDimensionsDT] --- Current step: 5\tResidual: 0.04739632844025063\tDet: 104.16095872309388 (direction.py:69)\u001b[0m\n",
      "\u001b[32m[INFO    ][NewtonDirectionMultipleDimensionsDT] --- In linearly converging phase (newton.py:62)\u001b[0m\n",
      "\u001b[32m[INFO    ][NewtonDirectionMultipleDimensionsDT] --- Current step: 6\tResidual: 0.0037300955715305895\tDet: 120.50181643360658 (direction.py:69)\u001b[0m\n",
      "\u001b[32m[INFO    ][NewtonDirectionMultipleDimensionsDT] --- In quadratically converging phase (newton.py:66)\u001b[0m\n",
      "\u001b[32m[INFO    ][NewtonDirectionMultipleDimensionsDT] --- Current step: 7\tResidual: 2.6692722330447857e-05\tDet: 122.0211406244639 (direction.py:69)\u001b[0m\n",
      "\u001b[32m[INFO    ][NewtonDirectionMultipleDimensionsDT] --- In quadratically converging phase (newton.py:66)\u001b[0m\n",
      "\u001b[32m[INFO    ][NewtonDirectionMultipleDimensionsDT] --- Current step: 8\tResidual: 3.200995900849008e-09\tDet: 122.0328071165043 (direction.py:69)\u001b[0m\n",
      "\u001b[32m[INFO    ][NewtonDirectionMultipleDimensionsDT] --- In quadratically converging phase (newton.py:66)\u001b[0m\n",
      "\u001b[32m[INFO    ][NewtonDirectionMultipleDimensionsDT] --- Current step: 9\tResidual: 2.154010408119893e-16\tDet: 122.03280909101284 (direction.py:69)\u001b[0m\n",
      "\u001b[32m[INFO    ][NewtonDirectionMultipleDimensionsDT] --- In quadratically converging phase (newton.py:66)\u001b[0m\n",
      "\u001b[32m[INFO    ][NewtonDirectionMultipleDimensionsDT] --- Current step: 10\tResidual: 1.6892189955330443e-16\tDet: 122.03280909101281 (direction.py:69)\u001b[0m\n",
      "\u001b[32m[INFO    ][NewtonDirectionMultipleDimensionsDT] --- Computation of Analytic center with Newton approach was successful (direction.py:154)\u001b[0m\n"
     ]
    }
   ],
   "source": [
    "sys_disc = sys.bilinear_discretization()\n",
    "\n",
    "alg_newton_disc = get_algorithm_object(sys_disc, 'newton', discrete_time=True, save_intermediate=True)\n",
    "(ac_newton_disc, success) = alg_newton_disc()"
   ]
  },
  {
   "cell_type": "markdown",
   "metadata": {},
   "source": [
    "# Properties of solutions\n",
    "## Difference\n",
    "The solutions should be identical in theory. They differ a bit due to roundoff errors."
   ]
  },
  {
   "cell_type": "code",
   "execution_count": 35,
   "metadata": {},
   "outputs": [
    {
     "name": "stdout",
     "output_type": "stream",
     "text": [
      "scaled difference =  1.2530983582362412e-15\n"
     ]
    }
   ],
   "source": [
    " print(\"scaled difference = \", np.linalg.norm((ac_newton.X - ac_newton_disc.X )/ac_newton.X)) \n"
   ]
  },
  {
   "cell_type": "markdown",
   "metadata": {},
   "source": [
    "## Centered realizations\n",
    "A centered realization with the analytic center solution `X` has the identity as interior point. However, also here, the geometric mean approach is superior"
   ]
  },
  {
   "cell_type": "code",
   "execution_count": 46,
   "metadata": {},
   "outputs": [
    {
     "name": "stdout",
     "output_type": "stream",
     "text": [
      "\u001b[32m[INFO    ][analyticcenter.algorithm.riccatioperator] --- System is stable (riccatioperator.py:243)\u001b[0m\n",
      "\u001b[32m[INFO    ][analyticcenter.algorithm.riccatioperator] --- System is controllable. (riccatioperator.py:263)\u001b[0m\n",
      "\u001b[32m[INFO    ][analyticcenter.algorithm.riccatioperator] --- System is passive, if also stable (riccatioperator.py:280)\u001b[0m\n",
      "\u001b[32m[INFO    ][NewtonDirectionMultipleDimensionsCT] --- Computing Analytic Center with NewtonMDCT approach (direction.py:151)\u001b[0m\n",
      "\u001b[32m[INFO    ][InitialXCT] --- Computing initial X (initialization.py:57)\u001b[0m\n",
      "\u001b[32m[INFO    ][InitialXCT] --- Computed initial guess with geometric mean approach.\n",
      "det(H(X0)) = 0.2602187987515395 (initialization.py:67)\u001b[0m\n",
      "\u001b[32m[INFO    ][InitialXCT] --- Computed initial guess with bisection approach.\n",
      "det(H(X0)) = 0.0002915656466172808 (initialization.py:78)\u001b[0m\n",
      "\u001b[32m[INFO    ][InitialXCT] --- Taking solution computed with geometric mean approach (initialization.py:85)\u001b[0m\n",
      "\u001b[32m[INFO    ][NewtonDirectionMultipleDimensionsCT] --- Current step: 0\tResidual: 4.4912956223919105\tDet: 0.26021879875153947 (direction.py:69)\u001b[0m\n",
      "\u001b[32m[INFO    ][NewtonDirectionMultipleDimensionsCT] --- In linearly converging phase (newton.py:62)\u001b[0m\n",
      "\u001b[32m[INFO    ][NewtonDirectionMultipleDimensionsCT] --- Current step: 1\tResidual: 6.713553763122072\tDet: 0.9080080876945198 (direction.py:69)\u001b[0m\n",
      "\u001b[32m[INFO    ][NewtonDirectionMultipleDimensionsCT] --- In linearly converging phase (newton.py:62)\u001b[0m\n",
      "\u001b[32m[INFO    ][NewtonDirectionMultipleDimensionsCT] --- Current step: 2\tResidual: 7.51166036434322\tDet: 2.7759643012836177 (direction.py:69)\u001b[0m\n",
      "\u001b[32m[INFO    ][NewtonDirectionMultipleDimensionsCT] --- In linearly converging phase (newton.py:62)\u001b[0m\n",
      "\u001b[32m[INFO    ][NewtonDirectionMultipleDimensionsCT] --- Current step: 3\tResidual: 5.490078044396346\tDet: 6.7181857543266945 (direction.py:69)\u001b[0m\n",
      "\u001b[32m[INFO    ][NewtonDirectionMultipleDimensionsCT] --- In linearly converging phase (newton.py:62)\u001b[0m\n",
      "\u001b[32m[INFO    ][NewtonDirectionMultipleDimensionsCT] --- Current step: 4\tResidual: 4.156489296738384\tDet: 11.851053545419619 (direction.py:69)\u001b[0m\n",
      "\u001b[32m[INFO    ][NewtonDirectionMultipleDimensionsCT] --- In linearly converging phase (newton.py:62)\u001b[0m\n",
      "\u001b[32m[INFO    ][NewtonDirectionMultipleDimensionsCT] --- Current step: 5\tResidual: 2.075153220825157\tDet: 15.471727741225596 (direction.py:69)\u001b[0m\n",
      "\u001b[32m[INFO    ][NewtonDirectionMultipleDimensionsCT] --- In linearly converging phase (newton.py:62)\u001b[0m\n",
      "\u001b[32m[INFO    ][NewtonDirectionMultipleDimensionsCT] --- Current step: 6\tResidual: 0.24172880534040966\tDet: 16.235524696649744 (direction.py:69)\u001b[0m\n",
      "\u001b[32m[INFO    ][NewtonDirectionMultipleDimensionsCT] --- In quadratically converging phase (newton.py:66)\u001b[0m\n",
      "\u001b[32m[INFO    ][NewtonDirectionMultipleDimensionsCT] --- Current step: 7\tResidual: 0.004648410278426876\tDet: 16.24498436896537 (direction.py:69)\u001b[0m\n",
      "\u001b[32m[INFO    ][NewtonDirectionMultipleDimensionsCT] --- In quadratically converging phase (newton.py:66)\u001b[0m\n",
      "\u001b[32m[INFO    ][NewtonDirectionMultipleDimensionsCT] --- Current step: 8\tResidual: 6.01388358249439e-07\tDet: 16.24498543492537 (direction.py:69)\u001b[0m\n",
      "\u001b[32m[INFO    ][NewtonDirectionMultipleDimensionsCT] --- In quadratically converging phase (newton.py:66)\u001b[0m\n",
      "\u001b[32m[INFO    ][NewtonDirectionMultipleDimensionsCT] --- Current step: 9\tResidual: 1.555202244516107e-14\tDet: 16.244985434925383 (direction.py:69)\u001b[0m\n",
      "\u001b[33m[WARNING ][NewtonDirectionMultipleDimensionsCT] --- det factor by newton step is less than 1: 0.9999999999999998 (newton.py:268)\u001b[0m\n",
      "\u001b[32m[INFO    ][NewtonDirectionMultipleDimensionsCT] --- In quadratically converging phase (newton.py:66)\u001b[0m\n",
      "\u001b[32m[INFO    ][NewtonDirectionMultipleDimensionsCT] --- Current step: 10\tResidual: 3.663570050972167e-15\tDet: 16.244985434925386 (direction.py:69)\u001b[0m\n",
      "\u001b[32m[INFO    ][NewtonDirectionMultipleDimensionsCT] --- Computation of Analytic center with NewtonMDCT approach was successful (direction.py:154)\u001b[0m\n",
      "Eigenvalues of analytic center:\n",
      " [1. 1.]\n"
     ]
    }
   ],
   "source": [
    "centered_realization = ac_newton.centered_realization()\n",
    "alg_newton_centered = get_algorithm_object(centered_realization, 'newton', discrete_time=False, save_intermediate=True)\n",
    "(ac_newton_centered, success) = alg_newton_centered()\n",
    "print(\"Eigenvalues of analytic center:\\n\",np.linalg.eigh(ac_newton_centered.X)[0])"
   ]
  },
  {
   "cell_type": "markdown",
   "metadata": {},
   "source": [
    "## Final closed-loop matrix\n",
    "We recover the properties, that every eigenvalue of the continuous-time closed-loop matrix lies on the imaginary axis, while all eigenvalues in the discrete-time case lie inside the unit circle."
   ]
  },
  {
   "cell_type": "code",
   "execution_count": 41,
   "metadata": {},
   "outputs": [
    {
     "name": "stdout",
     "output_type": "stream",
     "text": [
      "maximal abs value of real parts of eigenvalues:\n",
      " 2.220446049250313e-16\n",
      "absolute values of evs of discrete closed-loop matrix:\n",
      " [0.87848955 0.87848955]\n"
     ]
    }
   ],
   "source": [
    "eigs = np.linalg.eig(ac_newton.A_F)[0]\n",
    "print(\"maximal abs value of real parts of eigenvalues:\\n\", np.max(np.abs(np.real(eigs))))\n",
    "eigs_disc = np.linalg.eig(ac_newton_disc.A_F)[0]\n",
    "print(\"absolute values of evs of discrete closed-loop matrix:\\n\", np.abs(eigs_disc))"
   ]
  },
  {
   "cell_type": "markdown",
   "metadata": {},
   "source": [
    "# Computation of characteristic values"
   ]
  },
  {
   "cell_type": "markdown",
   "metadata": {},
   "source": [
    "Compute the characterisic values, as in the paper 'Beattie, Mehrmann, van Dooren'.\n",
    "Note, that the values compared to the paper slightly changed, because of some improvements in the alogorithm and thus slightly different value for the analytic center."
   ]
  },
  {
   "cell_type": "code",
   "execution_count": 42,
   "metadata": {},
   "outputs": [
    {
     "name": "stdout",
     "output_type": "stream",
     "text": [
      "\u001b[32m[INFO    ][analyticcenter.algorithm.analyticcenter] --- Minimal eigenvalue of H(X): 1.4645413431373524 (analyticcenter.py:37)\u001b[0m\n",
      "\u001b[32m[INFO    ][analyticcenter.algorithm.analyticcenter] --- Minimal eigenvalue of X-1 * H(X) * X^-1: 0.1008482722870669 (analyticcenter.py:47)\u001b[0m\n",
      "\u001b[32m[INFO    ][analyticcenter.algorithm.analyticcenter] --- Minimal eigenvalues of X^-.5 * H(X) * X^-.5: 0.8954367977245573 (analyticcenter.py:57)\u001b[0m\n",
      "\u001b[32m[INFO    ][analyticcenter.algorithm.analyticcenter] --- Minimal eigenvalues of R of the pH realization: 1.6208483152133384 (analyticcenter.py:66)\u001b[0m\n",
      "\u001b[32m[INFO    ][analyticcenter.algorithm.analyticcenter] --- Distance to stability is: (1.7189257771789195, 1.7188963032633886) (analyticcenter.py:68)\u001b[0m\n"
     ]
    }
   ],
   "source": [
    "ac_newton.compute_characteristic_values()"
   ]
  },
  {
   "cell_type": "markdown",
   "metadata": {},
   "source": [
    "# Generate plot of the algorithm"
   ]
  },
  {
   "cell_type": "code",
   "execution_count": 14,
   "metadata": {},
   "outputs": [
    {
     "data": {
      "image/png": "[encoded data removed]",
      "text/plain": [
       "<matplotlib.figure.Figure at 0x150ea3525240>"
      ]
     },
     "metadata": {
      "needs_background": "light"
     },
     "output_type": "display_data"
    },
    {
     "data": {
      "image/png": "[encoded data removed]",
      "text/plain": [
       "<matplotlib.figure.Figure at 0x150e9f37a898>"
      ]
     },
     "metadata": {
      "needs_background": "light"
     },
     "output_type": "display_data"
    }
   ],
   "source": [
    "log_log_direction(alg_newton.intermediate_X, alg_newton.intermediate_det)"
   ]
  },
  {
   "cell_type": "markdown",
   "metadata": {},
   "source": [
    "# Computation with steepest ascent approach"
   ]
  },
  {
   "cell_type": "markdown",
   "metadata": {},
   "source": [
    "*Warning*: This needs some time and does not even succeed in 20000 iterations, even though the determinant increases in every step."
   ]
  },
  {
   "cell_type": "code",
   "execution_count": 16,
   "metadata": {},
   "outputs": [
    {
     "name": "stdout",
     "output_type": "stream",
     "text": [
      "\u001b[32m[INFO    ][analyticcenter.algorithm.riccatioperator] --- System is stable (riccatioperator.py:243)\u001b[0m\n",
      "\u001b[32m[INFO    ][analyticcenter.algorithm.riccatioperator] --- System is controllable. (riccatioperator.py:263)\u001b[0m\n",
      "\u001b[32m[INFO    ][SteepestAscentDirectionCT] --- Computing Analytic Center with Steepest Ascent approach (direction.py:151)\u001b[0m\n",
      "\u001b[32m[INFO    ][SteepestAscentDirectionCT] --- Current step: 0\tResidual: 4.998519824255914\tDet: 2641.6168898195256 (direction.py:69)\u001b[0m\n",
      "\u001b[32m[INFO    ][SteepestAscentDirectionCT] --- stepsize chosen by line_search: 0.0996757042604082 (steepestascent.py:38)\u001b[0m\n",
      "\u001b[32m[INFO    ][SteepestAscentDirectionCT] --- Current step: 1\tResidual: 5.959946435516278\tDet: 2642.1083426212667 (direction.py:69)\u001b[0m\n",
      "\u001b[32m[INFO    ][SteepestAscentDirectionCT] --- stepsize chosen by line_search: 0.024386350969092942 (steepestascent.py:38)\u001b[0m\n",
      "\u001b[32m[INFO    ][SteepestAscentDirectionCT] --- Current step: 2\tResidual: 6.778129422864957\tDet: 2642.20235307439 (direction.py:69)\u001b[0m\n",
      "\u001b[32m[INFO    ][SteepestAscentDirectionCT] --- stepsize chosen by line_search: 0.0332300996568366 (steepestascent.py:38)\u001b[0m\n",
      "\u001b[32m[INFO    ][SteepestAscentDirectionCT] --- Current step: 3\tResidual: 5.229049458340026\tDet: 2642.285546409733 (direction.py:69)\u001b[0m\n",
      "\u001b[32m[INFO    ][SteepestAscentDirectionCT] --- stepsize chosen by line_search: 0.021812655141753158 (steepestascent.py:38)\u001b[0m\n",
      "\u001b[32m[INFO    ][SteepestAscentDirectionCT] --- Current step: 4\tResidual: 6.052106208223255\tDet: 2642.3603817721346 (direction.py:69)\u001b[0m\n",
      "\u001b[32m[INFO    ][SteepestAscentDirectionCT] --- stepsize chosen by line_search: 0.030126661115110507 (steepestascent.py:38)\u001b[0m\n",
      "\u001b[32m[INFO    ][SteepestAscentDirectionCT] --- Current step: 5\tResidual: 4.744400663559003\tDet: 2642.4286562844472 (direction.py:69)\u001b[0m\n",
      "\u001b[32m[INFO    ][SteepestAscentDirectionCT] --- stepsize chosen by line_search: 0.01988720530523187 (steepestascent.py:38)\u001b[0m\n",
      "\u001b[32m[INFO    ][SteepestAscentDirectionCT] --- Current step: 6\tResidual: 5.513258084124915\tDet: 2642.4909455193865 (direction.py:69)\u001b[0m\n",
      "\u001b[32m[INFO    ][SteepestAscentDirectionCT] --- stepsize chosen by line_search: 0.02749124597684371 (steepestascent.py:38)\u001b[0m\n",
      "\u001b[32m[INFO    ][SteepestAscentDirectionCT] --- Current step: 7\tResidual: 4.335902292076914\tDet: 2642.547856009239 (direction.py:69)\u001b[0m\n",
      "\u001b[32m[INFO    ][SteepestAscentDirectionCT] --- stepsize chosen by line_search: 0.018151707702111167 (steepestascent.py:38)\u001b[0m\n",
      "\u001b[32m[INFO    ][SteepestAscentDirectionCT] --- Current step: 8\tResidual: 5.042247552547395\tDet: 2642.5998225455933 (direction.py:69)\u001b[0m\n",
      "\u001b[32m[INFO    ][SteepestAscentDirectionCT] --- stepsize chosen by line_search: 0.025101221931742208 (steepestascent.py:38)\u001b[0m\n",
      "\u001b[32m[INFO    ][SteepestAscentDirectionCT] --- Current step: 9\tResidual: 3.9684460641852675\tDet: 2642.647316636768 (direction.py:69)\u001b[0m\n",
      "\u001b[32m[INFO    ][SteepestAscentDirectionCT] --- stepsize chosen by line_search: 0.016574090376032007 (steepestascent.py:38)\u001b[0m\n",
      "\u001b[32m[INFO    ][SteepestAscentDirectionCT] --- Current step: 10\tResidual: 4.6153368169772\tDet: 2642.6906996919906 (direction.py:69)\u001b[0m\n",
      "\u001b[32m[INFO    ][SteepestAscentDirectionCT] --- stepsize chosen by line_search: 0.02292676953116443 (steepestascent.py:38)\u001b[0m\n",
      "\u001b[32m[INFO    ][SteepestAscentDirectionCT] --- Current step: 11\tResidual: 3.6334267101936337\tDet: 2642.730358926665 (direction.py:69)\u001b[0m\n",
      "\u001b[32m[INFO    ][SteepestAscentDirectionCT] --- stepsize chosen by line_search: 0.015138592263228806 (steepestascent.py:38)\u001b[0m\n",
      "\u001b[32m[INFO    ][SteepestAscentDirectionCT] --- Current step: 12\tResidual: 4.225577257758896\tDet: 2642.766596036009 (direction.py:69)\u001b[0m\n",
      "\u001b[32m[INFO    ][SteepestAscentDirectionCT] --- stepsize chosen by line_search: 0.020947010597952266 (steepestascent.py:38)\u001b[0m\n",
      "\u001b[32m[INFO    ][SteepestAscentDirectionCT] --- Current step: 13\tResidual: 3.3271416150558895\tDet: 2642.7997301924834 (direction.py:69)\u001b[0m\n",
      "\u001b[32m[INFO    ][SteepestAscentDirectionCT] --- stepsize chosen by line_search: 0.013831575663531733 (steepestascent.py:38)\u001b[0m\n",
      "\u001b[32m[INFO    ][SteepestAscentDirectionCT] --- Current step: 14\tResidual: 3.86918651288798\tDet: 2642.8300134140522 (direction.py:69)\u001b[0m\n",
      "\u001b[32m[INFO    ][SteepestAscentDirectionCT] --- stepsize chosen by line_search: 0.019143468833369027 (steepestascent.py:38)\u001b[0m\n",
      "\u001b[32m[INFO    ][SteepestAscentDirectionCT] --- Current step: 15\tResidual: 3.0469430233466697\tDet: 2642.8577092155615 (direction.py:69)\u001b[0m\n",
      "\u001b[32m[INFO    ][SteepestAscentDirectionCT] --- stepsize chosen by line_search: 0.012640859119020647 (steepestascent.py:38)\u001b[0m\n",
      "\u001b[32m[INFO    ][SteepestAscentDirectionCT] --- Current step: 16\tResidual: 3.543166809292234\tDet: 2642.8830282218173 (direction.py:69)\u001b[0m\n",
      "\u001b[32m[INFO    ][SteepestAscentDirectionCT] --- stepsize chosen by line_search: 0.01749959696875436 (steepestascent.py:38)\u001b[0m\n",
      "\u001b[32m[INFO    ][SteepestAscentDirectionCT] --- Current step: 17\tResidual: 2.790546823072767\tDet: 2642.9061883070085 (direction.py:69)\u001b[0m\n",
      "\u001b[32m[INFO    ][SteepestAscentDirectionCT] --- stepsize chosen by line_search: 0.011555527903445292 (steepestascent.py:38)\u001b[0m\n",
      "\u001b[32m[INFO    ][SteepestAscentDirectionCT] --- Current step: 18\tResidual: 3.2448678476577073\tDet: 2642.927365579993 (direction.py:69)\u001b[0m\n",
      "\u001b[32m[INFO    ][SteepestAscentDirectionCT] --- stepsize chosen by line_search: 0.016000542384540777 (steepestascent.py:38)\u001b[0m\n",
      "\u001b[32m[INFO    ][SteepestAscentDirectionCT] --- Current step: 19\tResidual: 2.555894797776736\tDet: 2642.9467404156285 (direction.py:69)\u001b[0m\n",
      "\u001b[32m[INFO    ][SteepestAscentDirectionCT] --- stepsize chosen by line_search: 0.01056578397002238 (steepestascent.py:38)\u001b[0m\n",
      "\u001b[32m[INFO    ][SteepestAscentDirectionCT] --- Current step: 20\tResidual: 2.9718903427384733\tDet: 2642.9644601229415 (direction.py:69)\u001b[0m\n",
      "\u001b[32m[INFO    ][SteepestAscentDirectionCT] --- stepsize chosen by line_search: 0.014632950766862557 (steepestascent.py:38)\u001b[0m\n",
      "\u001b[32m[INFO    ][SteepestAscentDirectionCT] --- Current step: 21\tResidual: 2.3411152911929647\tDet: 2642.9806742116252 (direction.py:69)\u001b[0m\n",
      "\u001b[32m[INFO    ][SteepestAscentDirectionCT] --- stepsize chosen by line_search: 0.009662816868609585 (steepestascent.py:38)\u001b[0m\n",
      "\u001b[32m[INFO    ][SteepestAscentDirectionCT] --- Current step: 22\tResidual: 2.722051157365138\tDet: 2642.9955059463277 (direction.py:69)\u001b[0m\n",
      "\u001b[32m[INFO    ][SteepestAscentDirectionCT] --- stepsize chosen by line_search: 0.01338479623422799 (steepestascent.py:38)\u001b[0m\n",
      "\u001b[32m[INFO    ][SteepestAscentDirectionCT] --- Current step: 23\tResidual: 2.144502644041861\tDet: 2643.00907939032 (direction.py:69)\u001b[0m\n",
      "\u001b[32m[INFO    ][SteepestAscentDirectionCT] --- stepsize chosen by line_search: 0.00883869190977953 (steepestascent.py:38)\u001b[0m\n",
      "\u001b[32m[INFO    ][SteepestAscentDirectionCT] --- Current step: 24\tResidual: 2.493361072930817\tDet: 2643.021497723402 (direction.py:69)\u001b[0m\n",
      "\u001b[32m[INFO    ][SteepestAscentDirectionCT] --- stepsize chosen by line_search: 0.012245233650702458 (steepestascent.py:38)\u001b[0m\n",
      "\u001b[32m[INFO    ][SteepestAscentDirectionCT] --- Current step: 25\tResidual: 1.9645012936865782\tDet: 2643.032863998059 (direction.py:69)\u001b[0m\n",
      "\u001b[32m[INFO    ][SteepestAscentDirectionCT] --- stepsize chosen by line_search: 0.008086252908880036 (steepestascent.py:38)\u001b[0m\n",
      "\u001b[32m[INFO    ][SteepestAscentDirectionCT] --- Current step: 26\tResidual: 2.2840064111725655\tDet: 2643.043264608567 (direction.py:69)\u001b[0m\n",
      "\u001b[32m[INFO    ][SteepestAscentDirectionCT] --- stepsize chosen by line_search: 0.011204469779759441 (steepestascent.py:38)\u001b[0m\n",
      "\u001b[32m[INFO    ][SteepestAscentDirectionCT] --- Current step: 27\tResidual: 1.7996919095846884\tDet: 2643.052785234851 (direction.py:69)\u001b[0m\n",
      "\u001b[32m[INFO    ][SteepestAscentDirectionCT] --- stepsize chosen by line_search: 0.007399037320626141 (steepestascent.py:38)\u001b[0m\n",
      "\u001b[32m[INFO    ][SteepestAscentDirectionCT] --- Current step: 28\tResidual: 2.092332780519279\tDet: 2643.0614982367892 (direction.py:69)\u001b[0m\n",
      "\u001b[32m[INFO    ][SteepestAscentDirectionCT] --- stepsize chosen by line_search: 0.01025365051113726 (steepestascent.py:38)\u001b[0m\n",
      "\u001b[32m[INFO    ][SteepestAscentDirectionCT] --- Current step: 29\tResidual: 1.6487789698271622\tDet: 2643.069474911484 (direction.py:69)\u001b[0m\n",
      "\u001b[32m[INFO    ][SteepestAscentDirectionCT] --- stepsize chosen by line_search: 0.006771201946871778 (steepestascent.py:38)\u001b[0m\n"
     ]
    },
    {
     "name": "stdout",
     "output_type": "stream",
     "text": [
      "\u001b[32m[INFO    ][SteepestAscentDirectionCT] --- Current step: 30\tResidual: 1.9168304826305465\tDet: 2643.0767758798725 (direction.py:69)\u001b[0m\n",
      "\u001b[32m[INFO    ][SteepestAscentDirectionCT] --- stepsize chosen by line_search: 0.009384761853548201 (steepestascent.py:38)\u001b[0m\n",
      "\u001b[32m[INFO    ][SteepestAscentDirectionCT] --- Current step: 31\tResidual: 1.510579557608395\tDet: 2643.083460517351 (direction.py:69)\u001b[0m\n",
      "\u001b[32m[INFO    ][SteepestAscentDirectionCT] --- stepsize chosen by line_search: 0.006197457702002494 (steepestascent.py:38)\u001b[0m\n",
      "\u001b[32m[INFO    ][SteepestAscentDirectionCT] --- Current step: 32\tResidual: 1.7561213569383258\tDet: 2643.0895796222853 (direction.py:69)\u001b[0m\n",
      "\u001b[32m[INFO    ][SteepestAscentDirectionCT] --- stepsize chosen by line_search: 0.008590542761456585 (steepestascent.py:38)\u001b[0m\n",
      "\u001b[32m[INFO    ][SteepestAscentDirectionCT] --- Current step: 33\tResidual: 1.3840132362808641\tDet: 2643.0951826775495 (direction.py:69)\u001b[0m\n",
      "\u001b[32m[INFO    ][SteepestAscentDirectionCT] --- stepsize chosen by line_search: 0.005673012166506775 (steepestascent.py:38)\u001b[0m\n",
      "\u001b[32m[INFO    ][SteepestAscentDirectionCT] --- Current step: 34\tResidual: 1.6089469009487039\tDet: 2643.1003122596912 (direction.py:69)\u001b[0m\n",
      "\u001b[32m[INFO    ][SteepestAscentDirectionCT] --- stepsize chosen by line_search: 0.007864408171757205 (steepestascent.py:38)\u001b[0m\n",
      "\u001b[32m[INFO    ][SteepestAscentDirectionCT] --- Current step: 35\tResidual: 1.2680928878553395\tDet: 2643.1050096346144 (direction.py:69)\u001b[0m\n",
      "\u001b[32m[INFO    ][SteepestAscentDirectionCT] --- stepsize chosen by line_search: 0.005193518861232165 (steepestascent.py:38)\u001b[0m\n",
      "\u001b[32m[INFO    ][SteepestAscentDirectionCT] --- Current step: 36\tResidual: 1.4741575294912483\tDet: 2643.1093104947945 (direction.py:69)\u001b[0m\n",
      "\u001b[32m[INFO    ][SteepestAscentDirectionCT] --- stepsize chosen by line_search: 0.007200380879773882 (steepestascent.py:38)\u001b[0m\n",
      "\u001b[32m[INFO    ][SteepestAscentDirectionCT] --- Current step: 37\tResidual: 1.16191641492596\tDet: 2643.1132492746087 (direction.py:69)\u001b[0m\n",
      "\u001b[32m[INFO    ][SteepestAscentDirectionCT] --- stepsize chosen by line_search: 0.00475503234113484 (steepestascent.py:38)\u001b[0m\n",
      "\u001b[32m[INFO    ][SteepestAscentDirectionCT] --- Current step: 38\tResidual: 1.350702853432717\tDet: 2643.1168559009134 (direction.py:69)\u001b[0m\n",
      "\u001b[32m[INFO    ][SteepestAscentDirectionCT] --- stepsize chosen by line_search: 0.006593031092771521 (steepestascent.py:38)\u001b[0m\n",
      "\u001b[32m[INFO    ][SteepestAscentDirectionCT] --- Current step: 39\tResidual: 1.064659217824542\tDet: 2643.1201591235717 (direction.py:69)\u001b[0m\n",
      "\u001b[32m[INFO    ][SteepestAscentDirectionCT] --- stepsize chosen by line_search: 0.004353968344708569 (steepestascent.py:38)\u001b[0m\n",
      "\u001b[32m[INFO    ][SteepestAscentDirectionCT] --- Current step: 40\tResidual: 1.2376228725485623\tDet: 2643.1231840393125 (direction.py:69)\u001b[0m\n",
      "\u001b[32m[INFO    ][SteepestAscentDirectionCT] --- stepsize chosen by line_search: 0.006037422673370802 (steepestascent.py:38)\u001b[0m\n",
      "\u001b[32m[INFO    ][SteepestAscentDirectionCT] --- Current step: 41\tResidual: 0.9755673688434738\tDet: 2643.125954664211 (direction.py:69)\u001b[0m\n",
      "\u001b[32m[INFO    ][SteepestAscentDirectionCT] --- Computation of Analytic center with Steepest Ascent approach was successful (direction.py:154)\u001b[0m\n"
     ]
    }
   ],
   "source": [
    "alg_steepest_ascent = get_algorithm_object(sys, 'steepestascent', discrete_time=False, save_intermediate=True)\n",
    "alg_steepest_ascent.abs_tol = 10e-1\n",
    "alg_steepest_ascent.maxiter = 2000000\n",
    "X0=alg_newton.intermediate_X[6]\n",
    "(ac_steepest_ascent, success) = alg_steepest_ascent(X0=X0)"
   ]
  },
  {
   "cell_type": "code",
   "execution_count": null,
   "metadata": {},
   "outputs": [],
   "source": [
    "log_log_direction(alg_steepest_ascent.intermediate_X, alg_steepest_ascent.intermediate_det)"
   ]
  },
  {
   "cell_type": "code",
   "execution_count": null,
   "metadata": {},
   "outputs": [],
   "source": []
  }
 ],
 "metadata": {
  "kernelspec": {
   "display_name": "Environment (conda_analyticcenter)",
   "language": "python",
   "name": "conda_analyticcenter"
  },
  "language_info": {
   "codemirror_mode": {
    "name": "ipython",
    "version": 3
   },
   "file_extension": ".py",
   "mimetype": "text/x-python",
   "name": "python",
   "nbconvert_exporter": "python",
   "pygments_lexer": "ipython3",
   "version": "3.6.7"
  }
 },
 "nbformat": 4,
 "nbformat_minor": 2
}
